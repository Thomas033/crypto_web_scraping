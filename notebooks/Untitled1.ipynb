{
 "cells": [
  {
   "cell_type": "code",
   "execution_count": 3,
   "id": "6b87ca39",
   "metadata": {},
   "outputs": [],
   "source": [
    "from selenium import webdriver\n",
    "from selenium.webdriver.chrome.service import Service\n",
    "from selenium.webdriver.common.keys import Keys\n",
    "from selenium.webdriver.common.by import By\n",
    "from selenium.webdriver.chrome.options import Options\n",
    "import undetected_chromedriver as uc\n",
    "from selenium.webdriver.support import expected_conditions as EC\n",
    "from selenium.webdriver.support.ui import WebDriverWait\n",
    "import pandas as pd\n",
    "import os\n",
    "import time\n",
    "\n",
    "from crypto_web_scraping.scrap import *"
   ]
  },
  {
   "cell_type": "code",
   "execution_count": 4,
   "id": "cd01e03a",
   "metadata": {},
   "outputs": [],
   "source": [
    "driver = create_driver()\n",
    "df = get_basic_info(driver)"
   ]
  },
  {
   "cell_type": "code",
   "execution_count": null,
   "id": "90fd6dc1",
   "metadata": {},
   "outputs": [],
   "source": [
    "df"
   ]
  },
  {
   "cell_type": "code",
   "execution_count": null,
   "id": "df4f8322",
   "metadata": {},
   "outputs": [],
   "source": [
    "from selenium import webdriver\n",
    "url = “https://finance.yahoo.com/topic/stock-market-news\"\n",
    "links =[]\n",
    "for i in range(1,10):\n",
    "    #define a driver\n",
    "    driver = webdriver.Chrome(‘C:\\chromedriver’) #use the path in your computer\n",
    "    driver.implicitly_wait(5)\n",
    "    #get request\n",
    "    driver.get(url)\n",
    "    #keep clicking each news article and grab their url\n",
    "    elem = driver.find_element_by_css_selector(“#Fin-Stream > ul > li:nth-child({})”.format(i))\n",
    "    #get the URL after click\n",
    "    elem.click()\n",
    "    #store in a list\n",
    "    links.append(driver.current_url)"
   ]
  },
  {
   "cell_type": "code",
   "execution_count": 11,
   "id": "e51a2937",
   "metadata": {},
   "outputs": [
    {
     "data": {
      "text/plain": [
       "'Latest Stock Market News'"
      ]
     },
     "execution_count": 11,
     "metadata": {},
     "output_type": "execute_result"
    }
   ],
   "source": [
    "url = \"https://finance.yahoo.com/topic/stock-market-news\"\n",
    "driver = create_driver(url)\n",
    "WebDriverWait(driver, 10).until(EC.presence_of_element_located((By.XPATH, '//*[@id=\"consent-page\"]/div/div/div/form/div[2]/div[2]/button[1]'))).click()\n",
    "driver.title"
   ]
  },
  {
   "cell_type": "code",
   "execution_count": 46,
   "id": "150578b9",
   "metadata": {},
   "outputs": [],
   "source": [
    "url = 'https://finance.yahoo.com/quote/TSLA?p=TSLA&.tsrc=fin-srch'\n",
    "driver = create_driver(url)\n",
    "WebDriverWait(driver, 10).until(EC.presence_of_element_located((By.XPATH, '//*[@id=\"consent-page\"]/div/div/div/form/div[2]/div[2]/button[1]'))).click()\n",
    "\n",
    "driver.implicitly_wait(15)\n",
    "\n",
    "driver.execute_script(\"window.scrollTo(0, document.body.scrollHeight);\")"
   ]
  },
  {
   "cell_type": "code",
   "execution_count": 47,
   "id": "1c88cc92",
   "metadata": {},
   "outputs": [
    {
     "data": {
      "text/plain": [
       "3"
      ]
     },
     "execution_count": 47,
     "metadata": {},
     "output_type": "execute_result"
    }
   ],
   "source": [
    "#driver.execute_script(\"window.scrollTo(0, document.body.scrollHeight);\")\n",
    "articles = driver.find_elements(By.CLASS_NAME, 'js-stream-content.Pos\\(r\\)')\n",
    "len(articles)"
   ]
  },
  {
   "cell_type": "code",
   "execution_count": 24,
   "id": "4c62768b",
   "metadata": {},
   "outputs": [
    {
     "data": {
      "text/plain": [
       "9"
      ]
     },
     "execution_count": 24,
     "metadata": {},
     "output_type": "execute_result"
    }
   ],
   "source": [
    "articles = driver.find_elements(By.CLASS_NAME, 'Ov\\(h\\).Pend\\(44px\\).Pstart\\(25px\\)')\n",
    "len(articles)"
   ]
  },
  {
   "cell_type": "code",
   "execution_count": null,
   "id": "87b29d0a",
   "metadata": {},
   "outputs": [],
   "source": []
  }
 ],
 "metadata": {
  "kernelspec": {
   "display_name": "Python 3 (ipykernel)",
   "language": "python",
   "name": "python3"
  },
  "language_info": {
   "codemirror_mode": {
    "name": "ipython",
    "version": 3
   },
   "file_extension": ".py",
   "mimetype": "text/x-python",
   "name": "python",
   "nbconvert_exporter": "python",
   "pygments_lexer": "ipython3",
   "version": "3.8.12"
  },
  "toc": {
   "base_numbering": 1,
   "nav_menu": {},
   "number_sections": true,
   "sideBar": true,
   "skip_h1_title": false,
   "title_cell": "Table of Contents",
   "title_sidebar": "Contents",
   "toc_cell": false,
   "toc_position": {},
   "toc_section_display": true,
   "toc_window_display": false
  }
 },
 "nbformat": 4,
 "nbformat_minor": 5
}

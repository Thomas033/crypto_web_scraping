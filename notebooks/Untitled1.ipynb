{
 "cells": [
  {
   "cell_type": "code",
   "execution_count": 3,
   "id": "6b87ca39",
   "metadata": {},
   "outputs": [],
   "source": [
    "from selenium import webdriver\n",
    "from selenium.webdriver.chrome.service import Service\n",
    "from selenium.webdriver.common.keys import Keys\n",
    "from selenium.webdriver.common.by import By\n",
    "from selenium.webdriver.chrome.options import Options\n",
    "import undetected_chromedriver as uc\n",
    "from selenium.webdriver.support import expected_conditions as EC\n",
    "from selenium.webdriver.support.ui import WebDriverWait\n",
    "import pandas as pd\n",
    "import os\n",
    "import time\n",
    "\n",
    "from crypto_web_scraping.scrap import *"
   ]
  },
  {
   "cell_type": "code",
   "execution_count": 4,
   "id": "cd01e03a",
   "metadata": {},
   "outputs": [],
   "source": [
    "driver = create_driver()\n",
    "df = get_basic_info(driver)"
   ]
  },
  {
   "cell_type": "code",
   "execution_count": null,
   "id": "90fd6dc1",
   "metadata": {},
   "outputs": [],
   "source": [
    "df"
   ]
  },
  {
   "cell_type": "code",
   "execution_count": null,
   "id": "df4f8322",
   "metadata": {},
   "outputs": [],
   "source": [
    "from selenium import webdriver\n",
    "url = “https://finance.yahoo.com/topic/stock-market-news\"\n",
    "links =[]\n",
    "for i in range(1,10):\n",
    "    #define a driver\n",
    "    driver = webdriver.Chrome(‘C:\\chromedriver’) #use the path in your computer\n",
    "    driver.implicitly_wait(5)\n",
    "    #get request\n",
    "    driver.get(url)\n",
    "    #keep clicking each news article and grab their url\n",
    "    elem = driver.find_element_by_css_selector(“#Fin-Stream > ul > li:nth-child({})”.format(i))\n",
    "    #get the URL after click\n",
    "    elem.click()\n",
    "    #store in a list\n",
    "    links.append(driver.current_url)"
   ]
  },
  {
   "cell_type": "code",
   "execution_count": 11,
   "id": "02a9e3ee",
   "metadata": {},
   "outputs": [
    {
     "data": {
      "text/plain": [
       "'Latest Stock Market News'"
      ]
     },
     "execution_count": 11,
     "metadata": {},
     "output_type": "execute_result"
    }
   ],
   "source": [
    "url = \"https://finance.yahoo.com/topic/stock-market-news\"\n",
    "driver = create_driver(url)\n",
    "WebDriverWait(driver, 10).until(EC.presence_of_element_located((By.XPATH, '//*[@id=\"consent-page\"]/div/div/div/form/div[2]/div[2]/button[1]'))).click()\n",
    "driver.title"
   ]
  },
  {
   "cell_type": "code",
   "execution_count": 52,
   "id": "def8834b",
   "metadata": {},
   "outputs": [],
   "source": [
    "url = 'https://finance.yahoo.com/quote/TSLA?p=TSLA&.tsrc=fin-srch'\n",
    "driver = create_driver(url)\n",
    "WebDriverWait(driver, 10).until(EC.presence_of_element_located((By.XPATH, '//*[@id=\"consent-page\"]/div/div/div/form/div[2]/div[2]/button[1]'))).click()\n",
    "\n",
    "driver.implicitly_wait(15)\n",
    "\n",
    "driver.execute_script(\"window.scrollTo(0, 1000000000000);\")"
   ]
  },
  {
   "cell_type": "code",
   "execution_count": 53,
   "id": "c8577a0a",
   "metadata": {},
   "outputs": [
    {
     "data": {
      "text/plain": [
       "10"
      ]
     },
     "execution_count": 53,
     "metadata": {},
     "output_type": "execute_result"
    }
   ],
   "source": [
    "#driver.execute_script(\"window.scrollTo(0, document.body.scrollHeight);\")\n",
    "articles = driver.find_elements(By.CLASS_NAME, 'js-stream-content.Pos\\(r\\)')\n",
    "len(articles)"
   ]
  },
  {
   "cell_type": "code",
   "execution_count": 24,
   "id": "bbbbe473",
   "metadata": {},
   "outputs": [
    {
     "data": {
      "text/plain": [
       "9"
      ]
     },
     "execution_count": 24,
     "metadata": {},
     "output_type": "execute_result"
    }
   ],
   "source": [
    "articles = driver.find_elements(By.CLASS_NAME, 'Ov\\(h\\).Pend\\(44px\\).Pstart\\(25px\\)')\n",
    "len(articles)"
   ]
  },
  {
   "cell_type": "code",
   "execution_count": 56,
   "id": "393b5344",
   "metadata": {},
   "outputs": [],
   "source": [
    "import requests\n",
    "from bs4 import BeautifulSoup\n",
    "from datetime import datetime\n",
    "from selenium import webdriver\n",
    "from selenium.webdriver.common.by import By\n",
    "from selenium.webdriver.common.action_chains import ActionChains\n",
    "import time\n",
    "import pandas as pd\n",
    "\n",
    "url = \"https://finance.yahoo.com/topic/stock-market-news\"\n",
    "links = [] \n",
    "headers = {'accept-ranges':'bytes',\n",
    "          'access-control-allow-origin':'*',\n",
    "          'content-encoding': \"gzip\",\n",
    "          'cache-control': 'private, max-age=86400',\n",
    "          'content-type':'text/javascript'}\n",
    "info = []\n",
    "\n",
    "\n",
    "def get_links(url):\n",
    "    driver = create_driver(url)\n",
    "    driver.find_element(By.XPATH, '//*[@id=\"consent-page\"]/div/div/div/form/div[2]/div[2]/button[1]').click()\n",
    "    element = driver.find_element(By.XPATH, \"//div[@id='Col2-6-LinkOut-Proxy']\")\n",
    "\n",
    "    actions = ActionChains(driver)\n",
    "    actions.move_to_element(element).perform()\n",
    "    time.sleep(3)\n",
    "        \n",
    "    all_a = driver.find_elements(By.XPATH, '//h3[@class=\"Mb(5px)\"]//a')\n",
    "\n",
    "    for a in all_a: \n",
    "        if a.get_attribute('href') not in links:\n",
    "            links.append(a.get_attribute('href'))\n",
    "                \n",
    "                \n",
    "    driver.close()\n",
    "    print(\"Number of links that are gathered : {}\".format(len(links)))\n",
    "    \n",
    "    return links\n",
    "\n",
    "\n",
    "\n",
    "def get_info(url):\n",
    "    #grab the information\n",
    "    response = requests.get(url, headers=headers)\n",
    "    soup = BeautifulSoup(response.text, 'lxml')\n",
    "\n",
    "    news = soup.find('div', attrs={'class': 'caas-body'}).text\n",
    "    headline = soup.find('h1').text \n",
    "    date = datetime.strptime(soup.find('time').text, \"%B %d, %Y, %I:%M %p\")\n",
    "    \n",
    "    #combine all info into a list of columns\n",
    "    columns = [news, headline, date, url]\n",
    "    #give columns names\n",
    "    column_names = ['News','Headline','Date', 'Url']\n",
    "    \n",
    "    return dict(zip(column_names, columns))"
   ]
  },
  {
   "cell_type": "code",
   "execution_count": 57,
   "id": "4a154be7",
   "metadata": {},
   "outputs": [
    {
     "ename": "NoSuchElementException",
     "evalue": "Message: no such element: Unable to locate element: {\"method\":\"xpath\",\"selector\":\"//div[@id='Col2-6-LinkOut-Proxy']\"}\n  (Session info: headless chrome=103.0.5060.53)\nStacktrace:\n#0 0x5568170feb13 <unknown>\n#1 0x556816f05688 <unknown>\n#2 0x556816f3ccc7 <unknown>\n#3 0x556816f3ce91 <unknown>\n#4 0x556816f6fe34 <unknown>\n#5 0x556816f5a8dd <unknown>\n#6 0x556816f6db94 <unknown>\n#7 0x556816f5a7a3 <unknown>\n#8 0x556816f300ea <unknown>\n#9 0x556816f31225 <unknown>\n#10 0x5568171462dd <unknown>\n#11 0x55681714a2c7 <unknown>\n#12 0x55681713022e <unknown>\n#13 0x55681714b0a8 <unknown>\n#14 0x556817124bc0 <unknown>\n#15 0x5568171676c8 <unknown>\n#16 0x556817167848 <unknown>\n#17 0x556817181c0d <unknown>\n#18 0x7f7d3941e609 <unknown>\n",
     "output_type": "error",
     "traceback": [
      "\u001b[0;31m---------------------------------------------------------------------------\u001b[0m",
      "\u001b[0;31mNoSuchElementException\u001b[0m                    Traceback (most recent call last)",
      "Input \u001b[0;32mIn [57]\u001b[0m, in \u001b[0;36m<cell line: 1>\u001b[0;34m()\u001b[0m\n\u001b[0;32m----> 1\u001b[0m links \u001b[38;5;241m=\u001b[39m  \u001b[43mget_links\u001b[49m\u001b[43m(\u001b[49m\u001b[43murl\u001b[49m\u001b[43m)\u001b[49m\n",
      "Input \u001b[0;32mIn [56]\u001b[0m, in \u001b[0;36mget_links\u001b[0;34m(url)\u001b[0m\n\u001b[1;32m     21\u001b[0m driver \u001b[38;5;241m=\u001b[39m create_driver(url)\n\u001b[1;32m     22\u001b[0m driver\u001b[38;5;241m.\u001b[39mfind_element(By\u001b[38;5;241m.\u001b[39mXPATH, \u001b[38;5;124m'\u001b[39m\u001b[38;5;124m//*[@id=\u001b[39m\u001b[38;5;124m\"\u001b[39m\u001b[38;5;124mconsent-page\u001b[39m\u001b[38;5;124m\"\u001b[39m\u001b[38;5;124m]/div/div/div/form/div[2]/div[2]/button[1]\u001b[39m\u001b[38;5;124m'\u001b[39m)\u001b[38;5;241m.\u001b[39mclick()\n\u001b[0;32m---> 23\u001b[0m element \u001b[38;5;241m=\u001b[39m \u001b[43mdriver\u001b[49m\u001b[38;5;241;43m.\u001b[39;49m\u001b[43mfind_element\u001b[49m\u001b[43m(\u001b[49m\u001b[43mBy\u001b[49m\u001b[38;5;241;43m.\u001b[39;49m\u001b[43mXPATH\u001b[49m\u001b[43m,\u001b[49m\u001b[43m \u001b[49m\u001b[38;5;124;43m\"\u001b[39;49m\u001b[38;5;124;43m//div[@id=\u001b[39;49m\u001b[38;5;124;43m'\u001b[39;49m\u001b[38;5;124;43mCol2-6-LinkOut-Proxy\u001b[39;49m\u001b[38;5;124;43m'\u001b[39;49m\u001b[38;5;124;43m]\u001b[39;49m\u001b[38;5;124;43m\"\u001b[39;49m\u001b[43m)\u001b[49m\n\u001b[1;32m     25\u001b[0m actions \u001b[38;5;241m=\u001b[39m ActionChains(driver)\n\u001b[1;32m     26\u001b[0m actions\u001b[38;5;241m.\u001b[39mmove_to_element(element)\u001b[38;5;241m.\u001b[39mperform()\n",
      "File \u001b[0;32m~/.pyenv/versions/3.8.12/envs/crypto_scrap/lib/python3.8/site-packages/selenium/webdriver/remote/webdriver.py:857\u001b[0m, in \u001b[0;36mWebDriver.find_element\u001b[0;34m(self, by, value)\u001b[0m\n\u001b[1;32m    854\u001b[0m     by \u001b[38;5;241m=\u001b[39m By\u001b[38;5;241m.\u001b[39mCSS_SELECTOR\n\u001b[1;32m    855\u001b[0m     value \u001b[38;5;241m=\u001b[39m \u001b[38;5;124m'\u001b[39m\u001b[38;5;124m[name=\u001b[39m\u001b[38;5;124m\"\u001b[39m\u001b[38;5;132;01m%s\u001b[39;00m\u001b[38;5;124m\"\u001b[39m\u001b[38;5;124m]\u001b[39m\u001b[38;5;124m'\u001b[39m \u001b[38;5;241m%\u001b[39m value\n\u001b[0;32m--> 857\u001b[0m \u001b[38;5;28;01mreturn\u001b[39;00m \u001b[38;5;28;43mself\u001b[39;49m\u001b[38;5;241;43m.\u001b[39;49m\u001b[43mexecute\u001b[49m\u001b[43m(\u001b[49m\u001b[43mCommand\u001b[49m\u001b[38;5;241;43m.\u001b[39;49m\u001b[43mFIND_ELEMENT\u001b[49m\u001b[43m,\u001b[49m\u001b[43m \u001b[49m\u001b[43m{\u001b[49m\n\u001b[1;32m    858\u001b[0m \u001b[43m    \u001b[49m\u001b[38;5;124;43m'\u001b[39;49m\u001b[38;5;124;43musing\u001b[39;49m\u001b[38;5;124;43m'\u001b[39;49m\u001b[43m:\u001b[49m\u001b[43m \u001b[49m\u001b[43mby\u001b[49m\u001b[43m,\u001b[49m\n\u001b[1;32m    859\u001b[0m \u001b[43m    \u001b[49m\u001b[38;5;124;43m'\u001b[39;49m\u001b[38;5;124;43mvalue\u001b[39;49m\u001b[38;5;124;43m'\u001b[39;49m\u001b[43m:\u001b[49m\u001b[43m \u001b[49m\u001b[43mvalue\u001b[49m\u001b[43m}\u001b[49m\u001b[43m)\u001b[49m[\u001b[38;5;124m'\u001b[39m\u001b[38;5;124mvalue\u001b[39m\u001b[38;5;124m'\u001b[39m]\n",
      "File \u001b[0;32m~/.pyenv/versions/3.8.12/envs/crypto_scrap/lib/python3.8/site-packages/selenium/webdriver/remote/webdriver.py:435\u001b[0m, in \u001b[0;36mWebDriver.execute\u001b[0;34m(self, driver_command, params)\u001b[0m\n\u001b[1;32m    433\u001b[0m response \u001b[38;5;241m=\u001b[39m \u001b[38;5;28mself\u001b[39m\u001b[38;5;241m.\u001b[39mcommand_executor\u001b[38;5;241m.\u001b[39mexecute(driver_command, params)\n\u001b[1;32m    434\u001b[0m \u001b[38;5;28;01mif\u001b[39;00m response:\n\u001b[0;32m--> 435\u001b[0m     \u001b[38;5;28;43mself\u001b[39;49m\u001b[38;5;241;43m.\u001b[39;49m\u001b[43merror_handler\u001b[49m\u001b[38;5;241;43m.\u001b[39;49m\u001b[43mcheck_response\u001b[49m\u001b[43m(\u001b[49m\u001b[43mresponse\u001b[49m\u001b[43m)\u001b[49m\n\u001b[1;32m    436\u001b[0m     response[\u001b[38;5;124m'\u001b[39m\u001b[38;5;124mvalue\u001b[39m\u001b[38;5;124m'\u001b[39m] \u001b[38;5;241m=\u001b[39m \u001b[38;5;28mself\u001b[39m\u001b[38;5;241m.\u001b[39m_unwrap_value(\n\u001b[1;32m    437\u001b[0m         response\u001b[38;5;241m.\u001b[39mget(\u001b[38;5;124m'\u001b[39m\u001b[38;5;124mvalue\u001b[39m\u001b[38;5;124m'\u001b[39m, \u001b[38;5;28;01mNone\u001b[39;00m))\n\u001b[1;32m    438\u001b[0m     \u001b[38;5;28;01mreturn\u001b[39;00m response\n",
      "File \u001b[0;32m~/.pyenv/versions/3.8.12/envs/crypto_scrap/lib/python3.8/site-packages/selenium/webdriver/remote/errorhandler.py:247\u001b[0m, in \u001b[0;36mErrorHandler.check_response\u001b[0;34m(self, response)\u001b[0m\n\u001b[1;32m    245\u001b[0m         alert_text \u001b[38;5;241m=\u001b[39m value[\u001b[38;5;124m'\u001b[39m\u001b[38;5;124malert\u001b[39m\u001b[38;5;124m'\u001b[39m]\u001b[38;5;241m.\u001b[39mget(\u001b[38;5;124m'\u001b[39m\u001b[38;5;124mtext\u001b[39m\u001b[38;5;124m'\u001b[39m)\n\u001b[1;32m    246\u001b[0m     \u001b[38;5;28;01mraise\u001b[39;00m exception_class(message, screen, stacktrace, alert_text)  \u001b[38;5;66;03m# type: ignore[call-arg]  # mypy is not smart enough here\u001b[39;00m\n\u001b[0;32m--> 247\u001b[0m \u001b[38;5;28;01mraise\u001b[39;00m exception_class(message, screen, stacktrace)\n",
      "\u001b[0;31mNoSuchElementException\u001b[0m: Message: no such element: Unable to locate element: {\"method\":\"xpath\",\"selector\":\"//div[@id='Col2-6-LinkOut-Proxy']\"}\n  (Session info: headless chrome=103.0.5060.53)\nStacktrace:\n#0 0x5568170feb13 <unknown>\n#1 0x556816f05688 <unknown>\n#2 0x556816f3ccc7 <unknown>\n#3 0x556816f3ce91 <unknown>\n#4 0x556816f6fe34 <unknown>\n#5 0x556816f5a8dd <unknown>\n#6 0x556816f6db94 <unknown>\n#7 0x556816f5a7a3 <unknown>\n#8 0x556816f300ea <unknown>\n#9 0x556816f31225 <unknown>\n#10 0x5568171462dd <unknown>\n#11 0x55681714a2c7 <unknown>\n#12 0x55681713022e <unknown>\n#13 0x55681714b0a8 <unknown>\n#14 0x556817124bc0 <unknown>\n#15 0x5568171676c8 <unknown>\n#16 0x556817167848 <unknown>\n#17 0x556817181c0d <unknown>\n#18 0x7f7d3941e609 <unknown>\n"
     ]
    }
   ],
   "source": [
    "\n",
    "links =  get_links(url)\n"
   ]
  },
  {
   "cell_type": "code",
   "execution_count": null,
   "id": "fb006f17",
   "metadata": {},
   "outputs": [],
   "source": [
    "for link in links:\n",
    "    try:\n",
    "        scraped = get_info(link)\n",
    "        info.append(scraped)\n",
    "        time.sleep(3)\n",
    "        \n",
    "    except requests.exceptions.ConnectionError:\n",
    "        print(\"Connection refused by the server..\")\n",
    "        print(\"Let me sleep for 3 seconds\")\n",
    "        print(\"ZZzzzz...\")\n",
    "        time.sleep(3)\n",
    "        print(\"Was a nice sleep, now let me continue...\")\n",
    "\n",
    "df = pd.DataFrame(info)\n",
    "df.to_csv(\"finance_yahoo_news.csv\", index=False)"
   ]
  }
 ],
 "metadata": {
  "kernelspec": {
   "display_name": "Python 3 (ipykernel)",
   "language": "python",
   "name": "python3"
  },
  "language_info": {
   "codemirror_mode": {
    "name": "ipython",
    "version": 3
   },
   "file_extension": ".py",
   "mimetype": "text/x-python",
   "name": "python",
   "nbconvert_exporter": "python",
   "pygments_lexer": "ipython3",
   "version": "3.8.12"
  },
  "toc": {
   "base_numbering": 1,
   "nav_menu": {},
   "number_sections": true,
   "sideBar": true,
   "skip_h1_title": false,
   "title_cell": "Table of Contents",
   "title_sidebar": "Contents",
   "toc_cell": false,
   "toc_position": {},
   "toc_section_display": true,
   "toc_window_display": false
  }
 },
 "nbformat": 4,
 "nbformat_minor": 5
}

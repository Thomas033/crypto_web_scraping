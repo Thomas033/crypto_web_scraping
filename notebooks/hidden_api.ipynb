{
 "cells": [
  {
   "cell_type": "code",
   "execution_count": 19,
   "id": "1da25492",
   "metadata": {},
   "outputs": [],
   "source": [
    "import requests\n",
    "from bs4 import BeautifulSoup\n",
    "import json"
   ]
  },
  {
   "cell_type": "code",
   "execution_count": 39,
   "id": "8b5bcc7b",
   "metadata": {},
   "outputs": [],
   "source": [
    "url = \"https://finance.yahoo.com/_finance_doubledown/api/resource?bkt=fd-qsp-no-stickyfooter%2Cfd-upsell-eyebrow&crumb=d9BtN5WCc0i&device=desktop&ecma=modern&feature=adsMigration%2CcanvassOffnet%2CccOnMute%2CdisableCommentsMessage%2Cdebouncesearch100%2CdeferDarla%2CdisableMegaModalSa%2CecmaModern%2CemptyServiceWorker%2Cenable3pConsent%2CenableCCPAFooter%2CenableCMP%2CenableConsentData%2CenableFBRedirect%2CenableFeatureTours%2CenableFinancialsTemplate%2CenableFreeFinRichSearch%2CenableGuceJs%2CenableGuceJsOverlay%2CenablePfSummaryForEveryone%2CenablePrivacyUpdate%2CenableQspIndexRecommendations%2CenableUpgradeLeafPage%2CenableVideoURL%2CenableXrayCardsFollowButton%2CenableXrayHyperloopCards%2CenableXrayNcp%2CenableXrayTickerEntities%2CenableYahooSans%2CenableYodleeErrorMsgCriOS%2CncpListStream%2CncpPortfolioStream%2CncpQspStream%2CncpStream%2CncpStreamIntl%2CncpTopicStream%2CnewContentAttribution%2CnewLogo%2CoathPlayer%2CoptimizeSearch%2CrightRailLatestReports%2CrightRailPortfolioReports%2CrelatedVideoFeature%2CthreeAmigos%2CwaferHeader%2CuseNextGenHistory%2CvideoNativePlaylist%2CenablePfServerFetch%2CsunsetMotif2%2CenableMarketingModal%2CenableCorrectedPost%2CenableUserPrefAPI%2CenableNewStockRecommenderBottom%2CenableCustomSymbolsTotalGain%2Clivecoverage%2CdarlaFirstRenderingVisible%2CenableAdlite%2CenableTradeit%2CenableFeatureBar%2CenableSearchEnhancement%2CenableUserSentiment%2CenableBankrateWidget%2CenableYodlee%2CcanvassReplies%2CenablePremiumFinancials%2CenableNewResearchFilterMW%2CenableMonalixaFreqCapping%2CshowExpiredIdeas%2CenableSingleRail%2CenableAmexOffer%2CenableBidenomics%2CenableNewCategories%2CenableXrayHyperloopLinksWithNCID%2CenableXrayHyperloopCardsWithThreshold%2CenablePremiumScreenerNav2%2CexposePredefinedScreener%2CenableEnhanceScreener%2CenableSECFiling%2Cwebinar%2CenhanceAddToWL%2Carticle2_csn%2CsponsoredAds%2CenableStageAds%2CenableTradeItLinkBrokerSecondaryPromo%2CenableQspPremiumPromoSmall%2CclientDelayNone%2CthreeAmigosMabEnabled%2CthreeAmigosAdsEnabledAndStreamIndex0%2CenableRelatedTickers%2CenableTasteMaker%2CenableNotification%2CenableNativeBillboard%2CenableJSErrorBeacon%2CenableQuoteTypeKV%2CenableLiveDynamicData%2CfinanceRightRailA20%2CenableBrokerCenter%2CenableYahooPlus%2CenablePremiumUpsell%2CsearchDebounce300%2CsearchResearchReports2%2CenableTMD%2CenableBannerOnQuote%2CenableMonalixaStickyFooter%2CenableMonalixaRightRailHome%2CenableInsightEnhancement%2CenableYodleeUpsellTop%2CenableCryptoPeopleAlsoWatch%2CenableMonalixaNavUpsell%2CenableMonalixaPortfolioHoldings3Day%2CenableMonalixaPortfolioHoldingsOnLoad3Day%2CenableAnalystsUpsellOnTop%2CenableMonalixaRightRailQSP%2CenableMonalixaReminderModule%2CenableMonalixaOverlayUpsell%2CenableMonalixaFreeTrialResearchReports%2CenableMonalixaFreeTrialPlusDashboard%2CenableMonalixaAdBlockerOverlay%2CenableOnboardingPhaseOne%2CenableDynamicDataOnModal&intl=us&lang=en-US&partner=none&prid=698j2s9hcfijl&region=US&site=finance&tz=Europe%2FParis&ver=0.102.6268\""
   ]
  },
  {
   "cell_type": "code",
   "execution_count": 69,
   "id": "ec07d4da",
   "metadata": {},
   "outputs": [],
   "source": [
    "rep = requests.post(url)"
   ]
  },
  {
   "cell_type": "code",
   "execution_count": 70,
   "id": "b9ccba3d",
   "metadata": {},
   "outputs": [
    {
     "data": {
      "text/plain": [
       "{'_content': b'OK\\r\\n',\n",
       " '_content_consumed': True,\n",
       " '_next': None,\n",
       " 'status_code': 200,\n",
       " 'headers': {'Date': 'Fri, 08 Jul 2022 12:21:17 GMT', 'Strict-Transport-Security': 'max-age=15552000', 'Server': 'ATS', 'Cache-Control': 'no-store', 'Content-Type': 'text/html', 'Content-Language': 'en', 'Content-Security-Policy': \"frame-ancestors 'self' https://*.builtbygirls.com https://*.rivals.com https://*.engadget.com https://*.intheknow.com https://*.autoblog.com https://*.techcrunch.com https://*.yahoo.com https://*.aol.com https://*.huffingtonpost.com https://*.oath.com https://*.search.yahoo.com https://*.search.aol.com https://*.search.huffpost.com https://*.onesearch.com https://*.verizonmedia.com https://*.publishing.oath.com https://*.autoblog.com; sandbox allow-forms allow-same-origin allow-scripts allow-popups allow-popups-to-escape-sandbox allow-presentation; report-uri https://csp.yahoo.com/beacon/csp?src=ats&site=finance&region=US&lang=en-US&device=desktop&yrid=d1hut8lhcg89t&partner=;\", 'Referrer-Policy': 'no-referrer-when-downgrade', 'X-Frame-Options': 'SAMEORIGIN', 'Content-Length': '4', 'Age': '0', 'Connection': 'keep-alive', 'Expect-CT': 'max-age=31536000, report-uri=\"http://csp.yahoo.com/beacon/csp?src=yahoocom-expect-ct-report-only\"', 'X-XSS-Protection': '1; mode=block', 'X-Content-Type-Options': 'nosniff'},\n",
       " 'raw': <urllib3.response.HTTPResponse at 0x7f1cd41ce700>,\n",
       " 'url': 'https://finance.yahoo.com/_finance_doubledown/api/resource?bkt=fd-qsp-no-stickyfooter%2Cfd-upsell-eyebrow&crumb=d9BtN5WCc0i&device=desktop&ecma=modern&feature=adsMigration%2CcanvassOffnet%2CccOnMute%2CdisableCommentsMessage%2Cdebouncesearch100%2CdeferDarla%2CdisableMegaModalSa%2CecmaModern%2CemptyServiceWorker%2Cenable3pConsent%2CenableCCPAFooter%2CenableCMP%2CenableConsentData%2CenableFBRedirect%2CenableFeatureTours%2CenableFinancialsTemplate%2CenableFreeFinRichSearch%2CenableGuceJs%2CenableGuceJsOverlay%2CenablePfSummaryForEveryone%2CenablePrivacyUpdate%2CenableQspIndexRecommendations%2CenableUpgradeLeafPage%2CenableVideoURL%2CenableXrayCardsFollowButton%2CenableXrayHyperloopCards%2CenableXrayNcp%2CenableXrayTickerEntities%2CenableYahooSans%2CenableYodleeErrorMsgCriOS%2CncpListStream%2CncpPortfolioStream%2CncpQspStream%2CncpStream%2CncpStreamIntl%2CncpTopicStream%2CnewContentAttribution%2CnewLogo%2CoathPlayer%2CoptimizeSearch%2CrightRailLatestReports%2CrightRailPortfolioReports%2CrelatedVideoFeature%2CthreeAmigos%2CwaferHeader%2CuseNextGenHistory%2CvideoNativePlaylist%2CenablePfServerFetch%2CsunsetMotif2%2CenableMarketingModal%2CenableCorrectedPost%2CenableUserPrefAPI%2CenableNewStockRecommenderBottom%2CenableCustomSymbolsTotalGain%2Clivecoverage%2CdarlaFirstRenderingVisible%2CenableAdlite%2CenableTradeit%2CenableFeatureBar%2CenableSearchEnhancement%2CenableUserSentiment%2CenableBankrateWidget%2CenableYodlee%2CcanvassReplies%2CenablePremiumFinancials%2CenableNewResearchFilterMW%2CenableMonalixaFreqCapping%2CshowExpiredIdeas%2CenableSingleRail%2CenableAmexOffer%2CenableBidenomics%2CenableNewCategories%2CenableXrayHyperloopLinksWithNCID%2CenableXrayHyperloopCardsWithThreshold%2CenablePremiumScreenerNav2%2CexposePredefinedScreener%2CenableEnhanceScreener%2CenableSECFiling%2Cwebinar%2CenhanceAddToWL%2Carticle2_csn%2CsponsoredAds%2CenableStageAds%2CenableTradeItLinkBrokerSecondaryPromo%2CenableQspPremiumPromoSmall%2CclientDelayNone%2CthreeAmigosMabEnabled%2CthreeAmigosAdsEnabledAndStreamIndex0%2CenableRelatedTickers%2CenableTasteMaker%2CenableNotification%2CenableNativeBillboard%2CenableJSErrorBeacon%2CenableQuoteTypeKV%2CenableLiveDynamicData%2CfinanceRightRailA20%2CenableBrokerCenter%2CenableYahooPlus%2CenablePremiumUpsell%2CsearchDebounce300%2CsearchResearchReports2%2CenableTMD%2CenableBannerOnQuote%2CenableMonalixaStickyFooter%2CenableMonalixaRightRailHome%2CenableInsightEnhancement%2CenableYodleeUpsellTop%2CenableCryptoPeopleAlsoWatch%2CenableMonalixaNavUpsell%2CenableMonalixaPortfolioHoldings3Day%2CenableMonalixaPortfolioHoldingsOnLoad3Day%2CenableAnalystsUpsellOnTop%2CenableMonalixaRightRailQSP%2CenableMonalixaReminderModule%2CenableMonalixaOverlayUpsell%2CenableMonalixaFreeTrialResearchReports%2CenableMonalixaFreeTrialPlusDashboard%2CenableMonalixaAdBlockerOverlay%2CenableOnboardingPhaseOne%2CenableDynamicDataOnModal&intl=us&lang=en-US&partner=none&prid=698j2s9hcfijl&region=US&site=finance&tz=Europe%2FParis&ver=0.102.6268',\n",
       " 'encoding': 'ISO-8859-1',\n",
       " 'history': [],\n",
       " 'reason': 'OK',\n",
       " 'cookies': <RequestsCookieJar[]>,\n",
       " 'elapsed': datetime.timedelta(microseconds=120209),\n",
       " 'request': <PreparedRequest [POST]>,\n",
       " 'connection': <requests.adapters.HTTPAdapter at 0x7f1cd41ce0d0>}"
      ]
     },
     "execution_count": 70,
     "metadata": {},
     "output_type": "execute_result"
    }
   ],
   "source": [
    "rep.__dict__"
   ]
  },
  {
   "cell_type": "code",
   "execution_count": 43,
   "id": "5351c32b",
   "metadata": {},
   "outputs": [
    {
     "data": {
      "text/plain": [
       "{'Date': 'Fri, 08 Jul 2022 12:01:57 GMT', 'Strict-Transport-Security': 'max-age=15552000', 'Server': 'ATS', 'Cache-Control': 'no-store', 'Content-Type': 'text/html', 'Content-Language': 'en', 'Content-Security-Policy': \"frame-ancestors 'self' https://*.builtbygirls.com https://*.rivals.com https://*.engadget.com https://*.intheknow.com https://*.autoblog.com https://*.techcrunch.com https://*.yahoo.com https://*.aol.com https://*.huffingtonpost.com https://*.oath.com https://*.search.yahoo.com https://*.search.aol.com https://*.search.huffpost.com https://*.onesearch.com https://*.verizonmedia.com https://*.publishing.oath.com https://*.autoblog.com; sandbox allow-forms allow-same-origin allow-scripts allow-popups allow-popups-to-escape-sandbox allow-presentation; report-uri https://csp.yahoo.com/beacon/csp?src=ats&site=finance&region=US&lang=en-US&device=desktop&yrid=2l2lnfthcg75l&partner=;\", 'Referrer-Policy': 'no-referrer-when-downgrade', 'X-Frame-Options': 'SAMEORIGIN', 'Content-Length': '4', 'Age': '0', 'Connection': 'keep-alive', 'Expect-CT': 'max-age=31536000, report-uri=\"http://csp.yahoo.com/beacon/csp?src=yahoocom-expect-ct-report-only\"', 'X-XSS-Protection': '1; mode=block', 'X-Content-Type-Options': 'nosniff'}"
      ]
     },
     "execution_count": 43,
     "metadata": {},
     "output_type": "execute_result"
    }
   ],
   "source": [
    "rep.headers"
   ]
  },
  {
   "cell_type": "code",
   "execution_count": null,
   "id": "3ad797b5",
   "metadata": {},
   "outputs": [],
   "source": []
  }
 ],
 "metadata": {
  "kernelspec": {
   "display_name": "Python 3 (ipykernel)",
   "language": "python",
   "name": "python3"
  },
  "language_info": {
   "codemirror_mode": {
    "name": "ipython",
    "version": 3
   },
   "file_extension": ".py",
   "mimetype": "text/x-python",
   "name": "python",
   "nbconvert_exporter": "python",
   "pygments_lexer": "ipython3",
   "version": "3.8.12"
  },
  "toc": {
   "base_numbering": 1,
   "nav_menu": {},
   "number_sections": true,
   "sideBar": true,
   "skip_h1_title": false,
   "title_cell": "Table of Contents",
   "title_sidebar": "Contents",
   "toc_cell": false,
   "toc_position": {},
   "toc_section_display": true,
   "toc_window_display": false
  }
 },
 "nbformat": 4,
 "nbformat_minor": 5
}

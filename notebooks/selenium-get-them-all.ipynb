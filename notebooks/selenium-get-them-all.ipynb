{
 "cells": [
  {
   "cell_type": "code",
   "execution_count": 48,
   "id": "55342507",
   "metadata": {},
   "outputs": [],
   "source": [
    "from selenium import webdriver\n",
    "from selenium.webdriver.chrome.service import Service\n",
    "from selenium.webdriver.common.keys import Keys\n",
    "from selenium.webdriver.common.by import By\n",
    "from selenium.webdriver.chrome.options import Options\n",
    "import undetected_chromedriver as uc\n",
    "from selenium.webdriver.support import expected_conditions as EC\n",
    "from selenium.webdriver.support.ui import WebDriverWait\n",
    "import pandas as pd\n",
    "import os\n",
    "import time\n",
    "\n",
    "from crypto_web_scraping.scrap import *"
   ]
  },
  {
   "cell_type": "code",
   "execution_count": 35,
   "id": "8aa256ef",
   "metadata": {},
   "outputs": [],
   "source": [
    "chrome_options = uc.ChromeOptions()\n",
    "chrome_options.add_argument(\"--headless\") # Ensure GUI is off\n",
    "    # Set path to chromedriver as per your configuration\n",
    "homedir = os.path.expanduser(\"~\")\n",
    "webdriver_service = Service(f\"{homedir}/chromedriver/stable/chromedriver\")\n",
    "\n",
    "driver = uc.Chrome(options=chrome_options)\n",
    "driver.get(\"https://finance.yahoo.com/topic/crypto/\")"
   ]
  },
  {
   "cell_type": "code",
   "execution_count": 39,
   "id": "d2336697",
   "metadata": {},
   "outputs": [],
   "source": [
    "WebDriverWait(driver, 10).until(EC.presence_of_element_located((By.XPATH, '//*[@id=\"consent-page\"]/div/div/div/form/div[2]/div[2]/button[1]'))).click()"
   ]
  },
  {
   "cell_type": "code",
   "execution_count": 40,
   "id": "7b51cd97",
   "metadata": {},
   "outputs": [
    {
     "data": {
      "text/plain": [
       "'Latest Crypto & Bitcoin News'"
      ]
     },
     "execution_count": 40,
     "metadata": {},
     "output_type": "execute_result"
    }
   ],
   "source": [
    "driver.title"
   ]
  },
  {
   "cell_type": "code",
   "execution_count": 49,
   "id": "1902e7f0",
   "metadata": {},
   "outputs": [
    {
     "ename": "ElementNotInteractableException",
     "evalue": "Message: element not interactable\n  (Session info: headless chrome=103.0.5060.53)\nStacktrace:\n#0 0x560ccb10fb13 <unknown>\n#1 0x560ccaf1651f <unknown>\n#2 0x560ccaf4807e <unknown>\n#3 0x560ccaf47668 <unknown>\n#4 0x560ccaf6b8b2 <unknown>\n#5 0x560ccaf42713 <unknown>\n#6 0x560ccaf6b9be <unknown>\n#7 0x560ccaf7eb94 <unknown>\n#8 0x560ccaf6b7a3 <unknown>\n#9 0x560ccaf410ea <unknown>\n#10 0x560ccaf42225 <unknown>\n#11 0x560ccb1572dd <unknown>\n#12 0x560ccb15b2c7 <unknown>\n#13 0x560ccb14122e <unknown>\n#14 0x560ccb15c0a8 <unknown>\n#15 0x560ccb135bc0 <unknown>\n#16 0x560ccb1786c8 <unknown>\n#17 0x560ccb178848 <unknown>\n#18 0x560ccb192c0d <unknown>\n#19 0x7f10e2163609 <unknown>\n",
     "output_type": "error",
     "traceback": [
      "\u001b[0;31m---------------------------------------------------------------------------\u001b[0m",
      "\u001b[0;31mElementNotInteractableException\u001b[0m           Traceback (most recent call last)",
      "Input \u001b[0;32mIn [49]\u001b[0m, in \u001b[0;36m<cell line: 16>\u001b[0;34m()\u001b[0m\n\u001b[1;32m     14\u001b[0m last_scroll_pos \u001b[38;5;241m=\u001b[39m \u001b[38;5;241m0\u001b[39m\n\u001b[1;32m     15\u001b[0m \u001b[38;5;28;01mwhile\u001b[39;00m \u001b[38;5;28;01mTrue\u001b[39;00m:\n\u001b[0;32m---> 16\u001b[0m     \u001b[43mWebDriverWait\u001b[49m\u001b[43m(\u001b[49m\u001b[43mdriver\u001b[49m\u001b[43m,\u001b[49m\u001b[43m \u001b[49m\u001b[38;5;241;43m10\u001b[39;49m\u001b[43m)\u001b[49m\u001b[38;5;241;43m.\u001b[39;49m\u001b[43muntil\u001b[49m\u001b[43m(\u001b[49m\u001b[43mEC\u001b[49m\u001b[38;5;241;43m.\u001b[39;49m\u001b[43mpresence_of_element_located\u001b[49m\u001b[43m(\u001b[49m\u001b[43m(\u001b[49m\u001b[43mBy\u001b[49m\u001b[38;5;241;43m.\u001b[39;49m\u001b[43mCLASS_NAME\u001b[49m\u001b[43m,\u001b[49m\u001b[43m \u001b[49m\u001b[38;5;124;43m'\u001b[39;49m\u001b[38;5;124;43mOv\u001b[39;49m\u001b[38;5;124;43m\\\u001b[39;49m\u001b[38;5;124;43m(h\u001b[39;49m\u001b[38;5;124;43m\\\u001b[39;49m\u001b[38;5;124;43m).Pend\u001b[39;49m\u001b[38;5;124;43m\\\u001b[39;49m\u001b[38;5;124;43m(44px\u001b[39;49m\u001b[38;5;124;43m\\\u001b[39;49m\u001b[38;5;124;43m).Pstart\u001b[39;49m\u001b[38;5;124;43m\\\u001b[39;49m\u001b[38;5;124;43m(25px\u001b[39;49m\u001b[38;5;124;43m\\\u001b[39;49m\u001b[38;5;124;43m)\u001b[39;49m\u001b[38;5;124;43m'\u001b[39;49m\u001b[43m)\u001b[49m\u001b[43m)\u001b[49m\u001b[43m)\u001b[49m\u001b[38;5;241;43m.\u001b[39;49m\u001b[43msend_keys\u001b[49m\u001b[43m(\u001b[49m\u001b[43mKeys\u001b[49m\u001b[38;5;241;43m.\u001b[39;49m\u001b[43mDOWN\u001b[49m\u001b[43m)\u001b[49m\n\u001b[1;32m     17\u001b[0m     sleep(\u001b[38;5;241m0.5\u001b[39m)\n\u001b[1;32m     18\u001b[0m     current_scroll_pos \u001b[38;5;241m=\u001b[39m \u001b[38;5;28mstr\u001b[39m(driver\u001b[38;5;241m.\u001b[39mexecute_script(\u001b[38;5;124m'\u001b[39m\u001b[38;5;124mreturn window.pageYOffset;\u001b[39m\u001b[38;5;124m'\u001b[39m))\n",
      "File \u001b[0;32m~/.pyenv/versions/3.8.12/envs/crypto_scrap/lib/python3.8/site-packages/selenium/webdriver/remote/webelement.py:223\u001b[0m, in \u001b[0;36mWebElement.send_keys\u001b[0;34m(self, *value)\u001b[0m\n\u001b[1;32m    220\u001b[0m             remote_files\u001b[38;5;241m.\u001b[39mappend(\u001b[38;5;28mself\u001b[39m\u001b[38;5;241m.\u001b[39m_upload(file))\n\u001b[1;32m    221\u001b[0m         value \u001b[38;5;241m=\u001b[39m \u001b[38;5;124m'\u001b[39m\u001b[38;5;130;01m\\n\u001b[39;00m\u001b[38;5;124m'\u001b[39m\u001b[38;5;241m.\u001b[39mjoin(remote_files)\n\u001b[0;32m--> 223\u001b[0m \u001b[38;5;28;43mself\u001b[39;49m\u001b[38;5;241;43m.\u001b[39;49m\u001b[43m_execute\u001b[49m\u001b[43m(\u001b[49m\u001b[43mCommand\u001b[49m\u001b[38;5;241;43m.\u001b[39;49m\u001b[43mSEND_KEYS_TO_ELEMENT\u001b[49m\u001b[43m,\u001b[49m\n\u001b[1;32m    224\u001b[0m \u001b[43m              \u001b[49m\u001b[43m{\u001b[49m\u001b[38;5;124;43m'\u001b[39;49m\u001b[38;5;124;43mtext\u001b[39;49m\u001b[38;5;124;43m'\u001b[39;49m\u001b[43m:\u001b[49m\u001b[43m \u001b[49m\u001b[38;5;124;43m\"\u001b[39;49m\u001b[38;5;124;43m\"\u001b[39;49m\u001b[38;5;241;43m.\u001b[39;49m\u001b[43mjoin\u001b[49m\u001b[43m(\u001b[49m\u001b[43mkeys_to_typing\u001b[49m\u001b[43m(\u001b[49m\u001b[43mvalue\u001b[49m\u001b[43m)\u001b[49m\u001b[43m)\u001b[49m\u001b[43m,\u001b[49m\n\u001b[1;32m    225\u001b[0m \u001b[43m               \u001b[49m\u001b[38;5;124;43m'\u001b[39;49m\u001b[38;5;124;43mvalue\u001b[39;49m\u001b[38;5;124;43m'\u001b[39;49m\u001b[43m:\u001b[49m\u001b[43m \u001b[49m\u001b[43mkeys_to_typing\u001b[49m\u001b[43m(\u001b[49m\u001b[43mvalue\u001b[49m\u001b[43m)\u001b[49m\u001b[43m}\u001b[49m\u001b[43m)\u001b[49m\n",
      "File \u001b[0;32m~/.pyenv/versions/3.8.12/envs/crypto_scrap/lib/python3.8/site-packages/selenium/webdriver/remote/webelement.py:396\u001b[0m, in \u001b[0;36mWebElement._execute\u001b[0;34m(self, command, params)\u001b[0m\n\u001b[1;32m    394\u001b[0m     params \u001b[38;5;241m=\u001b[39m {}\n\u001b[1;32m    395\u001b[0m params[\u001b[38;5;124m'\u001b[39m\u001b[38;5;124mid\u001b[39m\u001b[38;5;124m'\u001b[39m] \u001b[38;5;241m=\u001b[39m \u001b[38;5;28mself\u001b[39m\u001b[38;5;241m.\u001b[39m_id\n\u001b[0;32m--> 396\u001b[0m \u001b[38;5;28;01mreturn\u001b[39;00m \u001b[38;5;28;43mself\u001b[39;49m\u001b[38;5;241;43m.\u001b[39;49m\u001b[43m_parent\u001b[49m\u001b[38;5;241;43m.\u001b[39;49m\u001b[43mexecute\u001b[49m\u001b[43m(\u001b[49m\u001b[43mcommand\u001b[49m\u001b[43m,\u001b[49m\u001b[43m \u001b[49m\u001b[43mparams\u001b[49m\u001b[43m)\u001b[49m\n",
      "File \u001b[0;32m~/.pyenv/versions/3.8.12/envs/crypto_scrap/lib/python3.8/site-packages/selenium/webdriver/remote/webdriver.py:435\u001b[0m, in \u001b[0;36mWebDriver.execute\u001b[0;34m(self, driver_command, params)\u001b[0m\n\u001b[1;32m    433\u001b[0m response \u001b[38;5;241m=\u001b[39m \u001b[38;5;28mself\u001b[39m\u001b[38;5;241m.\u001b[39mcommand_executor\u001b[38;5;241m.\u001b[39mexecute(driver_command, params)\n\u001b[1;32m    434\u001b[0m \u001b[38;5;28;01mif\u001b[39;00m response:\n\u001b[0;32m--> 435\u001b[0m     \u001b[38;5;28;43mself\u001b[39;49m\u001b[38;5;241;43m.\u001b[39;49m\u001b[43merror_handler\u001b[49m\u001b[38;5;241;43m.\u001b[39;49m\u001b[43mcheck_response\u001b[49m\u001b[43m(\u001b[49m\u001b[43mresponse\u001b[49m\u001b[43m)\u001b[49m\n\u001b[1;32m    436\u001b[0m     response[\u001b[38;5;124m'\u001b[39m\u001b[38;5;124mvalue\u001b[39m\u001b[38;5;124m'\u001b[39m] \u001b[38;5;241m=\u001b[39m \u001b[38;5;28mself\u001b[39m\u001b[38;5;241m.\u001b[39m_unwrap_value(\n\u001b[1;32m    437\u001b[0m         response\u001b[38;5;241m.\u001b[39mget(\u001b[38;5;124m'\u001b[39m\u001b[38;5;124mvalue\u001b[39m\u001b[38;5;124m'\u001b[39m, \u001b[38;5;28;01mNone\u001b[39;00m))\n\u001b[1;32m    438\u001b[0m     \u001b[38;5;28;01mreturn\u001b[39;00m response\n",
      "File \u001b[0;32m~/.pyenv/versions/3.8.12/envs/crypto_scrap/lib/python3.8/site-packages/selenium/webdriver/remote/errorhandler.py:247\u001b[0m, in \u001b[0;36mErrorHandler.check_response\u001b[0;34m(self, response)\u001b[0m\n\u001b[1;32m    245\u001b[0m         alert_text \u001b[38;5;241m=\u001b[39m value[\u001b[38;5;124m'\u001b[39m\u001b[38;5;124malert\u001b[39m\u001b[38;5;124m'\u001b[39m]\u001b[38;5;241m.\u001b[39mget(\u001b[38;5;124m'\u001b[39m\u001b[38;5;124mtext\u001b[39m\u001b[38;5;124m'\u001b[39m)\n\u001b[1;32m    246\u001b[0m     \u001b[38;5;28;01mraise\u001b[39;00m exception_class(message, screen, stacktrace, alert_text)  \u001b[38;5;66;03m# type: ignore[call-arg]  # mypy is not smart enough here\u001b[39;00m\n\u001b[0;32m--> 247\u001b[0m \u001b[38;5;28;01mraise\u001b[39;00m exception_class(message, screen, stacktrace)\n",
      "\u001b[0;31mElementNotInteractableException\u001b[0m: Message: element not interactable\n  (Session info: headless chrome=103.0.5060.53)\nStacktrace:\n#0 0x560ccb10fb13 <unknown>\n#1 0x560ccaf1651f <unknown>\n#2 0x560ccaf4807e <unknown>\n#3 0x560ccaf47668 <unknown>\n#4 0x560ccaf6b8b2 <unknown>\n#5 0x560ccaf42713 <unknown>\n#6 0x560ccaf6b9be <unknown>\n#7 0x560ccaf7eb94 <unknown>\n#8 0x560ccaf6b7a3 <unknown>\n#9 0x560ccaf410ea <unknown>\n#10 0x560ccaf42225 <unknown>\n#11 0x560ccb1572dd <unknown>\n#12 0x560ccb15b2c7 <unknown>\n#13 0x560ccb14122e <unknown>\n#14 0x560ccb15c0a8 <unknown>\n#15 0x560ccb135bc0 <unknown>\n#16 0x560ccb1786c8 <unknown>\n#17 0x560ccb178848 <unknown>\n#18 0x560ccb192c0d <unknown>\n#19 0x7f10e2163609 <unknown>\n"
     ]
    }
   ],
   "source": [
    "# frist method\n",
    "chrome_options = uc.ChromeOptions()\n",
    "chrome_options.add_argument(\"--headless\") # Ensure GUI is off\n",
    "    # Set path to chromedriver as per your configuration\n",
    "homedir = os.path.expanduser(\"~\")\n",
    "webdriver_service = Service(f\"{homedir}/chromedriver/stable/chromedriver\")\n",
    "\n",
    "driver = uc.Chrome(options=chrome_options)\n",
    "driver.get(\"https://finance.yahoo.com/topic/crypto/\")\n",
    "\n",
    "WebDriverWait(driver, 10).until(EC.presence_of_element_located((By.XPATH, '//*[@id=\"consent-page\"]/div/div/div/form/div[2]/div[2]/button[1]'))).click()\n",
    "\n",
    "\n",
    "last_scroll_pos = 0\n",
    "while True:\n",
    "    WebDriverWait(driver, 10).until(EC.presence_of_element_located((By.CLASS_NAME, 'Ov\\(h\\).Pend\\(44px\\).Pstart\\(25px\\)'))).send_keys(Keys.DOWN)\n",
    "    sleep(0.5)\n",
    "    current_scroll_pos = str(driver.execute_script('return window.pageYOffset;'))\n",
    "    if current_scroll_pos == last_scroll_pos:\n",
    "        print('scrolling done')\n",
    "        break\n",
    "    last_scroll_pos = current_scroll_pos\n",
    "    \n",
    "#scrap articles\n",
    "articles = driver.find_elements(By.CLASS_NAME, 'Ov\\(h\\).Pend\\(44px\\).Pstart\\(25px\\)')\n",
    "len(articles)"
   ]
  },
  {
   "cell_type": "code",
   "execution_count": 42,
   "id": "9eed35c0",
   "metadata": {},
   "outputs": [
    {
     "data": {
      "text/plain": [
       "20"
      ]
     },
     "execution_count": 42,
     "metadata": {},
     "output_type": "execute_result"
    }
   ],
   "source": [
    "articles = driver.find_elements(By.CLASS_NAME, 'Ov\\(h\\).Pend\\(44px\\).Pstart\\(25px\\)')\n",
    "len(articles)"
   ]
  },
  {
   "cell_type": "code",
   "execution_count": 52,
   "id": "a21b6a8a",
   "metadata": {},
   "outputs": [
    {
     "name": "stdout",
     "output_type": "stream",
     "text": [
      "scrolling is finished\n"
     ]
    }
   ],
   "source": [
    "from time import sleep as s\n",
    "from selenium.webdriver.common.keys import Keys\n",
    "from selenium.webdriver.common.by import By\n",
    "from selenium.webdriver.support import expected_conditions as EC\n",
    "from selenium.webdriver.support.ui import WebDriverWait\n",
    "\n",
    "import undetected_chromedriver as uc\n",
    "\n",
    "\n",
    "# frist method\n",
    "chrome_options = uc.ChromeOptions()\n",
    "chrome_options.add_argument(\"--headless\") # Ensure GUI is off\n",
    "    # Set path to chromedriver as per your configuration\n",
    "homedir = os.path.expanduser(\"~\")\n",
    "webdriver_service = Service(f\"{homedir}/chromedriver/stable/chromedriver\")\n",
    "\n",
    "driver = uc.Chrome(options=chrome_options)\n",
    "\n",
    "driver.get('https://fr.finance.yahoo.com/quote/GM/history?period1=1290038400&period2=1612742400&interval=1d&filter=history&frequency=1d&includeAdjustedClose=true')\n",
    "\n",
    "WebDriverWait(driver, 10).until(EC.presence_of_element_located((By.XPATH, '//*[@id=\"consent-page\"]/div/div/div/form/div[2]/div[2]/button[1]'))).click()\n",
    "\n",
    "last_scroll_pos=0\n",
    "while True:\n",
    "    WebDriverWait(driver, 10).until(EC.presence_of_element_located((By.CSS_SELECTOR, 'body'))).send_keys(Keys.DOWN)\n",
    "    s(.01)\n",
    "    current_scroll_pos=str(driver.execute_script('return window.pageYOffset;'))\n",
    "    if current_scroll_pos == last_scroll_pos:\n",
    "        print('scrolling is finished')\n",
    "        break\n",
    "    last_scroll_pos=current_scroll_pos"
   ]
  },
  {
   "cell_type": "code",
   "execution_count": 53,
   "id": "968ad891",
   "metadata": {},
   "outputs": [
    {
     "data": {
      "text/plain": [
       "'General Motors Company (GM) - Cours et données historiques des actions - Yahoo\\xa0Finance'"
      ]
     },
     "execution_count": 53,
     "metadata": {},
     "output_type": "execute_result"
    }
   ],
   "source": [
    "driver.title"
   ]
  },
  {
   "cell_type": "code",
   "execution_count": 55,
   "id": "58124e35",
   "metadata": {},
   "outputs": [],
   "source": [
    "elems = driver.find_elements(By.CLASS_NAME, 'Py\\(10px\\).Ta\\(start\\).Pend\\(10px\\)' )"
   ]
  },
  {
   "cell_type": "code",
   "execution_count": 56,
   "id": "482291c0",
   "metadata": {},
   "outputs": [
    {
     "data": {
      "text/plain": [
       "100"
      ]
     },
     "execution_count": 56,
     "metadata": {},
     "output_type": "execute_result"
    }
   ],
   "source": [
    "len(elems)"
   ]
  },
  {
   "cell_type": "code",
   "execution_count": 61,
   "id": "b46b756a",
   "metadata": {},
   "outputs": [
    {
     "data": {
      "text/plain": [
       "'15 sept. 2020'"
      ]
     },
     "execution_count": 61,
     "metadata": {},
     "output_type": "execute_result"
    }
   ],
   "source": [
    "elems[99].text"
   ]
  },
  {
   "cell_type": "code",
   "execution_count": 72,
   "id": "f6f42cdd",
   "metadata": {},
   "outputs": [],
   "source": [
    "driver = create_driver()\n",
    "WebDriverWait(driver, 10).until(EC.presence_of_element_located((By.XPATH, '//*[@id=\"consent-page\"]/div/div/div/form/div[2]/div[2]/button[1]'))).click()"
   ]
  },
  {
   "cell_type": "code",
   "execution_count": 75,
   "id": "7c54c780",
   "metadata": {},
   "outputs": [
    {
     "ename": "SyntaxError",
     "evalue": "unexpected EOF while parsing (2497720355.py, line 5)",
     "output_type": "error",
     "traceback": [
      "\u001b[0;36m  Input \u001b[0;32mIn [75]\u001b[0;36m\u001b[0m\n\u001b[0;31m    WebDriverWait.until(EC.visibility_of_all_elements_located((By.XPATH,'//*[@id=\"Fin-Stream\"]/ul/li[150]/div/div/div[2]')))\u001b[0m\n\u001b[0m                                                                                                                            ^\u001b[0m\n\u001b[0;31mSyntaxError\u001b[0m\u001b[0;31m:\u001b[0m unexpected EOF while parsing\n"
     ]
    }
   ],
   "source": [
    "while True:\n",
    "    driver.execute_script(\"window.scrollTo(0, document.body.scrollHeight);\")\n",
    "    \n",
    "try:\n",
    "    WebDriverWait.until(EC.visibility_of_all_elements_located((By.XPATH,'//*[@id=\"Fin-Stream\"]/ul/li[150]/div/div/div[2]')))"
   ]
  },
  {
   "cell_type": "code",
   "execution_count": null,
   "id": "2ef4a61e",
   "metadata": {},
   "outputs": [],
   "source": [
    "//*[@id=\"Fin-Stream\"]/ul/li[149]/div/div/div[2]"
   ]
  },
  {
   "cell_type": "code",
   "execution_count": null,
   "id": "69d51881",
   "metadata": {},
   "outputs": [],
   "source": [
    "//*[@id=\"Fin-Stream\"]/ul/li[150]/div/div/div[2]"
   ]
  },
  {
   "cell_type": "code",
   "execution_count": 87,
   "id": "c9904f27",
   "metadata": {},
   "outputs": [
    {
     "data": {
      "text/plain": [
       "<selenium.webdriver.chrome.webdriver.WebDriver (session=\"8da297d174f2ba64e152399e1b45375e\")>"
      ]
     },
     "execution_count": 87,
     "metadata": {},
     "output_type": "execute_result"
    }
   ],
   "source": [
    "driver = create_driver()\n",
    "WebDriverWait(driver, 10).until(EC.presence_of_element_located((By.XPATH, '//*[@id=\"consent-page\"]/div/div/div/form/div[2]/div[2]/button[1]'))).click()\n",
    "\n",
    "nb_article = 30\n",
    "\n",
    "driver"
   ]
  },
  {
   "cell_type": "code",
   "execution_count": 88,
   "id": "038c2259",
   "metadata": {},
   "outputs": [
    {
     "data": {
      "text/plain": [
       "<selenium.webdriver.remote.webelement.WebElement (session=\"8da297d174f2ba64e152399e1b45375e\", element=\"f38ce20b-be22-4e44-a910-eca311b0dbda\")>"
      ]
     },
     "execution_count": 88,
     "metadata": {},
     "output_type": "execute_result"
    }
   ],
   "source": [
    "temp = driver.find_element(By.XPATH, '//*[@id=\"Fin-Stream\"]/ul/li[2]/div/div/div[2]')\n",
    "temp"
   ]
  },
  {
   "cell_type": "code",
   "execution_count": 93,
   "id": "1e3ee07b",
   "metadata": {},
   "outputs": [
    {
     "data": {
      "text/plain": [
       "{'x': 186, 'y': 722}"
      ]
     },
     "execution_count": 93,
     "metadata": {},
     "output_type": "execute_result"
    }
   ],
   "source": [
    "temp.location"
   ]
  },
  {
   "cell_type": "code",
   "execution_count": 102,
   "id": "4eb66415",
   "metadata": {},
   "outputs": [
    {
     "data": {
      "text/plain": [
       "'The Wall Street Journal'"
      ]
     },
     "execution_count": 102,
     "metadata": {},
     "output_type": "execute_result"
    }
   ],
   "source": [
    "temp.find_elements(By.TAG_NAME, 'div')[1].find_element(By.TAG_NAME, \"span\").text"
   ]
  },
  {
   "cell_type": "code",
   "execution_count": 103,
   "id": "c8c5d0d1",
   "metadata": {},
   "outputs": [],
   "source": [
    "temp_2 = driver.page_source.encode(\"utf-8\")"
   ]
  },
  {
   "cell_type": "code",
   "execution_count": 105,
   "id": "06b41dd3",
   "metadata": {},
   "outputs": [],
   "source": [
    "from bs4 import BeautifulSoup\n",
    "\n",
    "soup = BeautifulSoup(temp_2, \"html.parser\")"
   ]
  },
  {
   "cell_type": "code",
   "execution_count": 107,
   "id": "3cdf2d4e",
   "metadata": {},
   "outputs": [],
   "source": [
    "mydivs = soup.find_all(\"div\", {\"class\":\"Ov(h) Pend(44px) Pstart(25px)\"})"
   ]
  },
  {
   "cell_type": "code",
   "execution_count": 108,
   "id": "c9257764",
   "metadata": {},
   "outputs": [
    {
     "data": {
      "text/plain": [
       "10"
      ]
     },
     "execution_count": 108,
     "metadata": {},
     "output_type": "execute_result"
    }
   ],
   "source": [
    "len(mydivs)"
   ]
  },
  {
   "cell_type": "code",
   "execution_count": 115,
   "id": "b43d6c85",
   "metadata": {},
   "outputs": [],
   "source": [
    "import time\n",
    "from selenium import webdriver\n",
    "from webdriver_manager.chrome import ChromeDriverManager\n",
    "from bs4 import BeautifulSoup\n",
    "\n",
    "\n",
    "# Web scrapper for infinite scrolling page \n",
    "driver = create_driver()\n",
    "WebDriverWait(driver, 10).until(EC.presence_of_element_located((By.XPATH, '//*[@id=\"consent-page\"]/div/div/div/form/div[2]/div[2]/button[1]'))).click()\n",
    "time.sleep(2)  # Allow 2 seconds for the web page to open\n",
    "scroll_pause_time = 2 \n",
    "screen_height = driver.execute_script(\"return window.screen.height;\")   # get the screen height of the web\n",
    "\n",
    "i = 1\n",
    "   \n",
    "SCROLL_PAUSE_TIME = 0.5\n",
    "last_height = driver.execute_script(\"return document.body.scrollHeight\")\n",
    "while True:\n",
    "    driver.execute_script(\"window.scrollTo(0, document.body.scrollHeight);\")\n",
    "    time.sleep(SCROLL_PAUSE_TIME)\n",
    "    new_height = driver.execute_script(\"return document.body.scrollHeight\")\n",
    "    if new_height == last_height:\n",
    "        break\n",
    "    last_height = new_height"
   ]
  },
  {
   "cell_type": "code",
   "execution_count": 110,
   "id": "3aa7a836",
   "metadata": {},
   "outputs": [
    {
     "data": {
      "text/plain": [
       "[]"
      ]
     },
     "execution_count": 110,
     "metadata": {},
     "output_type": "execute_result"
    }
   ],
   "source": [
    "titles"
   ]
  },
  {
   "cell_type": "code",
   "execution_count": 116,
   "id": "b73b4524",
   "metadata": {},
   "outputs": [
    {
     "data": {
      "text/plain": [
       "'Latest Crypto & Bitcoin News'"
      ]
     },
     "execution_count": 116,
     "metadata": {},
     "output_type": "execute_result"
    }
   ],
   "source": [
    "driver.title"
   ]
  },
  {
   "cell_type": "code",
   "execution_count": 117,
   "id": "ce9b681b",
   "metadata": {},
   "outputs": [
    {
     "data": {
      "text/plain": [
       "20"
      ]
     },
     "execution_count": 117,
     "metadata": {},
     "output_type": "execute_result"
    }
   ],
   "source": [
    "articles = driver.find_elements(By.CLASS_NAME, 'Ov\\(h\\).Pend\\(44px\\).Pstart\\(25px\\)')\n",
    "len(articles)"
   ]
  },
  {
   "cell_type": "code",
   "execution_count": 120,
   "id": "a8f996df",
   "metadata": {},
   "outputs": [
    {
     "ename": "NoSuchElementException",
     "evalue": "Message: no such element: Unable to locate element: {\"method\":\"css selector\",\"selector\":\"#Fin-Stream > ul > li:nth-child(1)\"}\n  (Session info: headless chrome=103.0.5060.53)\nStacktrace:\n#0 0x55fd8599fb13 <unknown>\n#1 0x55fd857a6688 <unknown>\n#2 0x55fd857ddcc7 <unknown>\n#3 0x55fd857dde91 <unknown>\n#4 0x55fd85810e34 <unknown>\n#5 0x55fd857fb8dd <unknown>\n#6 0x55fd8580eb94 <unknown>\n#7 0x55fd857fb7a3 <unknown>\n#8 0x55fd857d10ea <unknown>\n#9 0x55fd857d2225 <unknown>\n#10 0x55fd859e72dd <unknown>\n#11 0x55fd859eb2c7 <unknown>\n#12 0x55fd859d122e <unknown>\n#13 0x55fd859ec0a8 <unknown>\n#14 0x55fd859c5bc0 <unknown>\n#15 0x55fd85a086c8 <unknown>\n#16 0x55fd85a08848 <unknown>\n#17 0x55fd85a22c0d <unknown>\n#18 0x7f59f503d609 <unknown>\n",
     "output_type": "error",
     "traceback": [
      "\u001b[0;31m---------------------------------------------------------------------------\u001b[0m",
      "\u001b[0;31mNoSuchElementException\u001b[0m                    Traceback (most recent call last)",
      "Input \u001b[0;32mIn [120]\u001b[0m, in \u001b[0;36m<cell line: 6>\u001b[0;34m()\u001b[0m\n\u001b[1;32m      8\u001b[0m driver \u001b[38;5;241m=\u001b[39m create_driver()\n\u001b[1;32m      9\u001b[0m \u001b[38;5;66;03m#keep clicking each news article and grab their url\u001b[39;00m\n\u001b[1;32m     10\u001b[0m \u001b[38;5;66;03m#elem = driver.find_element_by_css_selector(\"#Fin-Stream > ul > li:nth-child({})\".format(i))\u001b[39;00m\n\u001b[0;32m---> 11\u001b[0m elem \u001b[38;5;241m=\u001b[39m \u001b[43mdriver\u001b[49m\u001b[38;5;241;43m.\u001b[39;49m\u001b[43mfind_element\u001b[49m\u001b[43m(\u001b[49m\u001b[43mBy\u001b[49m\u001b[38;5;241;43m.\u001b[39;49m\u001b[43mCSS_SELECTOR\u001b[49m\u001b[43m,\u001b[49m\u001b[38;5;124;43m\"\u001b[39;49m\u001b[38;5;124;43m#Fin-Stream > ul > li:nth-child(\u001b[39;49m\u001b[38;5;132;43;01m{}\u001b[39;49;00m\u001b[38;5;124;43m)\u001b[39;49m\u001b[38;5;124;43m\"\u001b[39;49m\u001b[38;5;241;43m.\u001b[39;49m\u001b[43mformat\u001b[49m\u001b[43m(\u001b[49m\u001b[43mi\u001b[49m\u001b[43m)\u001b[49m\u001b[43m)\u001b[49m\n\u001b[1;32m     12\u001b[0m \u001b[38;5;66;03m#get the URL after click\u001b[39;00m\n\u001b[1;32m     13\u001b[0m elem\u001b[38;5;241m.\u001b[39mclick()\n",
      "File \u001b[0;32m~/.pyenv/versions/3.8.12/envs/crypto_scrap/lib/python3.8/site-packages/selenium/webdriver/remote/webdriver.py:857\u001b[0m, in \u001b[0;36mWebDriver.find_element\u001b[0;34m(self, by, value)\u001b[0m\n\u001b[1;32m    854\u001b[0m     by \u001b[38;5;241m=\u001b[39m By\u001b[38;5;241m.\u001b[39mCSS_SELECTOR\n\u001b[1;32m    855\u001b[0m     value \u001b[38;5;241m=\u001b[39m \u001b[38;5;124m'\u001b[39m\u001b[38;5;124m[name=\u001b[39m\u001b[38;5;124m\"\u001b[39m\u001b[38;5;132;01m%s\u001b[39;00m\u001b[38;5;124m\"\u001b[39m\u001b[38;5;124m]\u001b[39m\u001b[38;5;124m'\u001b[39m \u001b[38;5;241m%\u001b[39m value\n\u001b[0;32m--> 857\u001b[0m \u001b[38;5;28;01mreturn\u001b[39;00m \u001b[38;5;28;43mself\u001b[39;49m\u001b[38;5;241;43m.\u001b[39;49m\u001b[43mexecute\u001b[49m\u001b[43m(\u001b[49m\u001b[43mCommand\u001b[49m\u001b[38;5;241;43m.\u001b[39;49m\u001b[43mFIND_ELEMENT\u001b[49m\u001b[43m,\u001b[49m\u001b[43m \u001b[49m\u001b[43m{\u001b[49m\n\u001b[1;32m    858\u001b[0m \u001b[43m    \u001b[49m\u001b[38;5;124;43m'\u001b[39;49m\u001b[38;5;124;43musing\u001b[39;49m\u001b[38;5;124;43m'\u001b[39;49m\u001b[43m:\u001b[49m\u001b[43m \u001b[49m\u001b[43mby\u001b[49m\u001b[43m,\u001b[49m\n\u001b[1;32m    859\u001b[0m \u001b[43m    \u001b[49m\u001b[38;5;124;43m'\u001b[39;49m\u001b[38;5;124;43mvalue\u001b[39;49m\u001b[38;5;124;43m'\u001b[39;49m\u001b[43m:\u001b[49m\u001b[43m \u001b[49m\u001b[43mvalue\u001b[49m\u001b[43m}\u001b[49m\u001b[43m)\u001b[49m[\u001b[38;5;124m'\u001b[39m\u001b[38;5;124mvalue\u001b[39m\u001b[38;5;124m'\u001b[39m]\n",
      "File \u001b[0;32m~/.pyenv/versions/3.8.12/envs/crypto_scrap/lib/python3.8/site-packages/selenium/webdriver/remote/webdriver.py:435\u001b[0m, in \u001b[0;36mWebDriver.execute\u001b[0;34m(self, driver_command, params)\u001b[0m\n\u001b[1;32m    433\u001b[0m response \u001b[38;5;241m=\u001b[39m \u001b[38;5;28mself\u001b[39m\u001b[38;5;241m.\u001b[39mcommand_executor\u001b[38;5;241m.\u001b[39mexecute(driver_command, params)\n\u001b[1;32m    434\u001b[0m \u001b[38;5;28;01mif\u001b[39;00m response:\n\u001b[0;32m--> 435\u001b[0m     \u001b[38;5;28;43mself\u001b[39;49m\u001b[38;5;241;43m.\u001b[39;49m\u001b[43merror_handler\u001b[49m\u001b[38;5;241;43m.\u001b[39;49m\u001b[43mcheck_response\u001b[49m\u001b[43m(\u001b[49m\u001b[43mresponse\u001b[49m\u001b[43m)\u001b[49m\n\u001b[1;32m    436\u001b[0m     response[\u001b[38;5;124m'\u001b[39m\u001b[38;5;124mvalue\u001b[39m\u001b[38;5;124m'\u001b[39m] \u001b[38;5;241m=\u001b[39m \u001b[38;5;28mself\u001b[39m\u001b[38;5;241m.\u001b[39m_unwrap_value(\n\u001b[1;32m    437\u001b[0m         response\u001b[38;5;241m.\u001b[39mget(\u001b[38;5;124m'\u001b[39m\u001b[38;5;124mvalue\u001b[39m\u001b[38;5;124m'\u001b[39m, \u001b[38;5;28;01mNone\u001b[39;00m))\n\u001b[1;32m    438\u001b[0m     \u001b[38;5;28;01mreturn\u001b[39;00m response\n",
      "File \u001b[0;32m~/.pyenv/versions/3.8.12/envs/crypto_scrap/lib/python3.8/site-packages/selenium/webdriver/remote/errorhandler.py:247\u001b[0m, in \u001b[0;36mErrorHandler.check_response\u001b[0;34m(self, response)\u001b[0m\n\u001b[1;32m    245\u001b[0m         alert_text \u001b[38;5;241m=\u001b[39m value[\u001b[38;5;124m'\u001b[39m\u001b[38;5;124malert\u001b[39m\u001b[38;5;124m'\u001b[39m]\u001b[38;5;241m.\u001b[39mget(\u001b[38;5;124m'\u001b[39m\u001b[38;5;124mtext\u001b[39m\u001b[38;5;124m'\u001b[39m)\n\u001b[1;32m    246\u001b[0m     \u001b[38;5;28;01mraise\u001b[39;00m exception_class(message, screen, stacktrace, alert_text)  \u001b[38;5;66;03m# type: ignore[call-arg]  # mypy is not smart enough here\u001b[39;00m\n\u001b[0;32m--> 247\u001b[0m \u001b[38;5;28;01mraise\u001b[39;00m exception_class(message, screen, stacktrace)\n",
      "\u001b[0;31mNoSuchElementException\u001b[0m: Message: no such element: Unable to locate element: {\"method\":\"css selector\",\"selector\":\"#Fin-Stream > ul > li:nth-child(1)\"}\n  (Session info: headless chrome=103.0.5060.53)\nStacktrace:\n#0 0x55fd8599fb13 <unknown>\n#1 0x55fd857a6688 <unknown>\n#2 0x55fd857ddcc7 <unknown>\n#3 0x55fd857dde91 <unknown>\n#4 0x55fd85810e34 <unknown>\n#5 0x55fd857fb8dd <unknown>\n#6 0x55fd8580eb94 <unknown>\n#7 0x55fd857fb7a3 <unknown>\n#8 0x55fd857d10ea <unknown>\n#9 0x55fd857d2225 <unknown>\n#10 0x55fd859e72dd <unknown>\n#11 0x55fd859eb2c7 <unknown>\n#12 0x55fd859d122e <unknown>\n#13 0x55fd859ec0a8 <unknown>\n#14 0x55fd859c5bc0 <unknown>\n#15 0x55fd85a086c8 <unknown>\n#16 0x55fd85a08848 <unknown>\n#17 0x55fd85a22c0d <unknown>\n#18 0x7f59f503d609 <unknown>\n"
     ]
    }
   ],
   "source": [
    "from selenium import webdriver\n",
    "\n",
    "url = \"https://finance.yahoo.com/topic/stock-market-news\"\n",
    "links =[]\n",
    "\n",
    "for i in range(1,10):\n",
    "    #define a driver\n",
    "    driver = create_driver()\n",
    "    #keep clicking each news article and grab their url\n",
    "    #elem = driver.find_element_by_css_selector(\"#Fin-Stream > ul > li:nth-child({})\".format(i))\n",
    "    elem = driver.find_element(By.CLASS_NAME,\"#Fin-Stream > ul > li:nth-child({})\".format(i))\n",
    "    #get the URL after click\n",
    "    elem.click()\n",
    "    #store in a list\n",
    "    links.append(driver.current_url)"
   ]
  },
  {
   "cell_type": "code",
   "execution_count": 121,
   "id": "e5f51a20",
   "metadata": {},
   "outputs": [],
   "source": [
    "driver = create_driver()\n",
    "WebDriverWait(driver, 10).until(EC.presence_of_element_located((By.XPATH, '//*[@id=\"consent-page\"]/div/div/div/form/div[2]/div[2]/button[1]'))).click()\n",
    "time.sleep(2)  # Allow 2 seconds for the web page to open\n",
    "scroll_pause_time = 2 \n"
   ]
  },
  {
   "cell_type": "code",
   "execution_count": 124,
   "id": "da648bf0",
   "metadata": {},
   "outputs": [
    {
     "data": {
      "text/plain": [
       "'Bloomberg'"
      ]
     },
     "execution_count": 124,
     "metadata": {},
     "output_type": "execute_result"
    }
   ],
   "source": [
    "driver.find_element(By.XPATH, '//*[@id=\"Fin-Stream\"]/ul/li[2]/div/div/div[2]').find_element(By.TAG_NAME, \"span\").text"
   ]
  },
  {
   "cell_type": "code",
   "execution_count": 130,
   "id": "4b6f9969",
   "metadata": {},
   "outputs": [
    {
     "data": {
      "text/plain": [
       "'CoinDesk'"
      ]
     },
     "execution_count": 130,
     "metadata": {},
     "output_type": "execute_result"
    }
   ],
   "source": [
    "driver.find_element(By.XPATH, '//*[@id=\"Fin-Stream\"]/ul/li[1]/div/div/div[2]').find_element(By.TAG_NAME, \"span\").text"
   ]
  },
  {
   "cell_type": "code",
   "execution_count": 134,
   "id": "e3c2b126",
   "metadata": {},
   "outputs": [
    {
     "name": "stdout",
     "output_type": "stream",
     "text": [
      "CoinDesk\n",
      "Bloomberg\n",
      "TechCrunch\n",
      "The Wall Street Journal\n",
      "CoinDesk\n",
      "CoinDesk\n",
      "Barrons.com\n",
      "Bloomberg\n",
      "FX Empire\n",
      "CoinDesk\n"
     ]
    },
    {
     "ename": "NoSuchElementException",
     "evalue": "Message: no such element: Unable to locate element: {\"method\":\"xpath\",\"selector\":\"//*[@id=\"Fin-Stream\"]/ul/li[11]/div/div/div[2]\"}\n  (Session info: headless chrome=103.0.5060.53)\nStacktrace:\n#0 0x55b3dd976b13 <unknown>\n#1 0x55b3dd77d688 <unknown>\n#2 0x55b3dd7b4cc7 <unknown>\n#3 0x55b3dd7b4e91 <unknown>\n#4 0x55b3dd7e7e34 <unknown>\n#5 0x55b3dd7d28dd <unknown>\n#6 0x55b3dd7e5b94 <unknown>\n#7 0x55b3dd7d27a3 <unknown>\n#8 0x55b3dd7a80ea <unknown>\n#9 0x55b3dd7a9225 <unknown>\n#10 0x55b3dd9be2dd <unknown>\n#11 0x55b3dd9c22c7 <unknown>\n#12 0x55b3dd9a822e <unknown>\n#13 0x55b3dd9c30a8 <unknown>\n#14 0x55b3dd99cbc0 <unknown>\n#15 0x55b3dd9df6c8 <unknown>\n#16 0x55b3dd9df848 <unknown>\n#17 0x55b3dd9f9c0d <unknown>\n#18 0x7f2405227609 <unknown>\n",
     "output_type": "error",
     "traceback": [
      "\u001b[0;31m---------------------------------------------------------------------------\u001b[0m",
      "\u001b[0;31mNoSuchElementException\u001b[0m                    Traceback (most recent call last)",
      "Input \u001b[0;32mIn [134]\u001b[0m, in \u001b[0;36m<cell line: 1>\u001b[0;34m()\u001b[0m\n\u001b[1;32m      1\u001b[0m \u001b[38;5;28;01mfor\u001b[39;00m i \u001b[38;5;129;01min\u001b[39;00m \u001b[38;5;28mrange\u001b[39m(\u001b[38;5;241m1\u001b[39m,\u001b[38;5;241m20\u001b[39m):\n\u001b[0;32m----> 2\u001b[0m     \u001b[38;5;28mprint\u001b[39m(\u001b[43mdriver\u001b[49m\u001b[38;5;241;43m.\u001b[39;49m\u001b[43mfind_element\u001b[49m\u001b[43m(\u001b[49m\u001b[43mBy\u001b[49m\u001b[38;5;241;43m.\u001b[39;49m\u001b[43mXPATH\u001b[49m\u001b[43m,\u001b[49m\u001b[43m \u001b[49m\u001b[38;5;124;43mf\u001b[39;49m\u001b[38;5;124;43m'\u001b[39;49m\u001b[38;5;124;43m//*[@id=\u001b[39;49m\u001b[38;5;124;43m\"\u001b[39;49m\u001b[38;5;124;43mFin-Stream\u001b[39;49m\u001b[38;5;124;43m\"\u001b[39;49m\u001b[38;5;124;43m]/ul/li[\u001b[39;49m\u001b[38;5;132;43;01m{\u001b[39;49;00m\u001b[43mi\u001b[49m\u001b[38;5;132;43;01m}\u001b[39;49;00m\u001b[38;5;124;43m]/div/div/div[2]\u001b[39;49m\u001b[38;5;124;43m'\u001b[39;49m\u001b[43m)\u001b[49m\u001b[38;5;241m.\u001b[39mfind_element(By\u001b[38;5;241m.\u001b[39mTAG_NAME, \u001b[38;5;124m\"\u001b[39m\u001b[38;5;124mspan\u001b[39m\u001b[38;5;124m\"\u001b[39m)\u001b[38;5;241m.\u001b[39mtext)\n",
      "File \u001b[0;32m~/.pyenv/versions/3.8.12/envs/crypto_scrap/lib/python3.8/site-packages/selenium/webdriver/remote/webdriver.py:857\u001b[0m, in \u001b[0;36mWebDriver.find_element\u001b[0;34m(self, by, value)\u001b[0m\n\u001b[1;32m    854\u001b[0m     by \u001b[38;5;241m=\u001b[39m By\u001b[38;5;241m.\u001b[39mCSS_SELECTOR\n\u001b[1;32m    855\u001b[0m     value \u001b[38;5;241m=\u001b[39m \u001b[38;5;124m'\u001b[39m\u001b[38;5;124m[name=\u001b[39m\u001b[38;5;124m\"\u001b[39m\u001b[38;5;132;01m%s\u001b[39;00m\u001b[38;5;124m\"\u001b[39m\u001b[38;5;124m]\u001b[39m\u001b[38;5;124m'\u001b[39m \u001b[38;5;241m%\u001b[39m value\n\u001b[0;32m--> 857\u001b[0m \u001b[38;5;28;01mreturn\u001b[39;00m \u001b[38;5;28;43mself\u001b[39;49m\u001b[38;5;241;43m.\u001b[39;49m\u001b[43mexecute\u001b[49m\u001b[43m(\u001b[49m\u001b[43mCommand\u001b[49m\u001b[38;5;241;43m.\u001b[39;49m\u001b[43mFIND_ELEMENT\u001b[49m\u001b[43m,\u001b[49m\u001b[43m \u001b[49m\u001b[43m{\u001b[49m\n\u001b[1;32m    858\u001b[0m \u001b[43m    \u001b[49m\u001b[38;5;124;43m'\u001b[39;49m\u001b[38;5;124;43musing\u001b[39;49m\u001b[38;5;124;43m'\u001b[39;49m\u001b[43m:\u001b[49m\u001b[43m \u001b[49m\u001b[43mby\u001b[49m\u001b[43m,\u001b[49m\n\u001b[1;32m    859\u001b[0m \u001b[43m    \u001b[49m\u001b[38;5;124;43m'\u001b[39;49m\u001b[38;5;124;43mvalue\u001b[39;49m\u001b[38;5;124;43m'\u001b[39;49m\u001b[43m:\u001b[49m\u001b[43m \u001b[49m\u001b[43mvalue\u001b[49m\u001b[43m}\u001b[49m\u001b[43m)\u001b[49m[\u001b[38;5;124m'\u001b[39m\u001b[38;5;124mvalue\u001b[39m\u001b[38;5;124m'\u001b[39m]\n",
      "File \u001b[0;32m~/.pyenv/versions/3.8.12/envs/crypto_scrap/lib/python3.8/site-packages/selenium/webdriver/remote/webdriver.py:435\u001b[0m, in \u001b[0;36mWebDriver.execute\u001b[0;34m(self, driver_command, params)\u001b[0m\n\u001b[1;32m    433\u001b[0m response \u001b[38;5;241m=\u001b[39m \u001b[38;5;28mself\u001b[39m\u001b[38;5;241m.\u001b[39mcommand_executor\u001b[38;5;241m.\u001b[39mexecute(driver_command, params)\n\u001b[1;32m    434\u001b[0m \u001b[38;5;28;01mif\u001b[39;00m response:\n\u001b[0;32m--> 435\u001b[0m     \u001b[38;5;28;43mself\u001b[39;49m\u001b[38;5;241;43m.\u001b[39;49m\u001b[43merror_handler\u001b[49m\u001b[38;5;241;43m.\u001b[39;49m\u001b[43mcheck_response\u001b[49m\u001b[43m(\u001b[49m\u001b[43mresponse\u001b[49m\u001b[43m)\u001b[49m\n\u001b[1;32m    436\u001b[0m     response[\u001b[38;5;124m'\u001b[39m\u001b[38;5;124mvalue\u001b[39m\u001b[38;5;124m'\u001b[39m] \u001b[38;5;241m=\u001b[39m \u001b[38;5;28mself\u001b[39m\u001b[38;5;241m.\u001b[39m_unwrap_value(\n\u001b[1;32m    437\u001b[0m         response\u001b[38;5;241m.\u001b[39mget(\u001b[38;5;124m'\u001b[39m\u001b[38;5;124mvalue\u001b[39m\u001b[38;5;124m'\u001b[39m, \u001b[38;5;28;01mNone\u001b[39;00m))\n\u001b[1;32m    438\u001b[0m     \u001b[38;5;28;01mreturn\u001b[39;00m response\n",
      "File \u001b[0;32m~/.pyenv/versions/3.8.12/envs/crypto_scrap/lib/python3.8/site-packages/selenium/webdriver/remote/errorhandler.py:247\u001b[0m, in \u001b[0;36mErrorHandler.check_response\u001b[0;34m(self, response)\u001b[0m\n\u001b[1;32m    245\u001b[0m         alert_text \u001b[38;5;241m=\u001b[39m value[\u001b[38;5;124m'\u001b[39m\u001b[38;5;124malert\u001b[39m\u001b[38;5;124m'\u001b[39m]\u001b[38;5;241m.\u001b[39mget(\u001b[38;5;124m'\u001b[39m\u001b[38;5;124mtext\u001b[39m\u001b[38;5;124m'\u001b[39m)\n\u001b[1;32m    246\u001b[0m     \u001b[38;5;28;01mraise\u001b[39;00m exception_class(message, screen, stacktrace, alert_text)  \u001b[38;5;66;03m# type: ignore[call-arg]  # mypy is not smart enough here\u001b[39;00m\n\u001b[0;32m--> 247\u001b[0m \u001b[38;5;28;01mraise\u001b[39;00m exception_class(message, screen, stacktrace)\n",
      "\u001b[0;31mNoSuchElementException\u001b[0m: Message: no such element: Unable to locate element: {\"method\":\"xpath\",\"selector\":\"//*[@id=\"Fin-Stream\"]/ul/li[11]/div/div/div[2]\"}\n  (Session info: headless chrome=103.0.5060.53)\nStacktrace:\n#0 0x55b3dd976b13 <unknown>\n#1 0x55b3dd77d688 <unknown>\n#2 0x55b3dd7b4cc7 <unknown>\n#3 0x55b3dd7b4e91 <unknown>\n#4 0x55b3dd7e7e34 <unknown>\n#5 0x55b3dd7d28dd <unknown>\n#6 0x55b3dd7e5b94 <unknown>\n#7 0x55b3dd7d27a3 <unknown>\n#8 0x55b3dd7a80ea <unknown>\n#9 0x55b3dd7a9225 <unknown>\n#10 0x55b3dd9be2dd <unknown>\n#11 0x55b3dd9c22c7 <unknown>\n#12 0x55b3dd9a822e <unknown>\n#13 0x55b3dd9c30a8 <unknown>\n#14 0x55b3dd99cbc0 <unknown>\n#15 0x55b3dd9df6c8 <unknown>\n#16 0x55b3dd9df848 <unknown>\n#17 0x55b3dd9f9c0d <unknown>\n#18 0x7f2405227609 <unknown>\n"
     ]
    }
   ],
   "source": [
    "for i in range(1,20):\n",
    "    print(driver.find_element(By.XPATH, f'//*[@id=\"Fin-Stream\"]/ul/li[{i}]/div/div/div[2]').find_element(By.TAG_NAME, \"span\").text)\n",
    "    "
   ]
  },
  {
   "cell_type": "code",
   "execution_count": null,
   "id": "5f414607",
   "metadata": {},
   "outputs": [],
   "source": []
  }
 ],
 "metadata": {
  "kernelspec": {
   "display_name": "Python 3 (ipykernel)",
   "language": "python",
   "name": "python3"
  },
  "language_info": {
   "codemirror_mode": {
    "name": "ipython",
    "version": 3
   },
   "file_extension": ".py",
   "mimetype": "text/x-python",
   "name": "python",
   "nbconvert_exporter": "python",
   "pygments_lexer": "ipython3",
   "version": "3.8.12"
  },
  "toc": {
   "base_numbering": 1,
   "nav_menu": {},
   "number_sections": true,
   "sideBar": true,
   "skip_h1_title": false,
   "title_cell": "Table of Contents",
   "title_sidebar": "Contents",
   "toc_cell": false,
   "toc_position": {},
   "toc_section_display": true,
   "toc_window_display": false
  }
 },
 "nbformat": 4,
 "nbformat_minor": 5
}

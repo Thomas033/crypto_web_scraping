{
 "cells": [
  {
   "cell_type": "code",
   "execution_count": 1,
   "id": "ff37f1b9",
   "metadata": {},
   "outputs": [],
   "source": [
    "import time\n",
    "import os.path\n",
    "from selenium import webdriver\n",
    "from selenium.webdriver.chrome.service import Service\n",
    "from selenium.webdriver.common.by import By\n",
    "from selenium.webdriver.chrome.options import Options"
   ]
  },
  {
   "cell_type": "code",
   "execution_count": 2,
   "id": "f00e5fd1",
   "metadata": {},
   "outputs": [
    {
     "data": {
      "text/plain": [
       "'Latest Crypto & Bitcoin News'"
      ]
     },
     "execution_count": 2,
     "metadata": {},
     "output_type": "execute_result"
    }
   ],
   "source": [
    "chrome_options = Options()\n",
    "chrome_options.add_argument(\"--headless\") # Ensure GUI is off\n",
    "chrome_options.add_argument(\"--no-sandbox\")\n",
    "chrome_options.add_argument('--disable-dev-shm-usage')\n",
    "chrome_options.add_argument('--start-maximized') \n",
    "chrome_options.add_argument('--start-fullscreen')\n",
    "chrome_options.add_argument('--single-process')\n",
    "\n",
    "# Set path to chromedriver as per your configuration\n",
    "homedir = os.path.expanduser(\"~\")\n",
    "webdriver_service = Service(f\"{homedir}/chromedriver/stable/chromedriver\")\n",
    "\n",
    "# Choose Chrome Browser\n",
    "driver = webdriver.Chrome(service=webdriver_service, options=chrome_options)\n",
    "driver.implicitly_wait(10)\n",
    "\n",
    "driver.get('https://finance.yahoo.com/topic/crypto/')\n",
    "\n",
    "driver.find_element(By.XPATH, '//*[@id=\"consent-page\"]/div/div/div/form/div[2]/div[2]/button[1]').click()\n",
    "\n",
    "driver.title"
   ]
  },
  {
   "cell_type": "code",
   "execution_count": 3,
   "id": "70dfa65b",
   "metadata": {},
   "outputs": [
    {
     "data": {
      "text/plain": [
       "'Latest Crypto & Bitcoin News'"
      ]
     },
     "execution_count": 3,
     "metadata": {},
     "output_type": "execute_result"
    }
   ],
   "source": [
    "driver.title"
   ]
  },
  {
   "cell_type": "code",
   "execution_count": 4,
   "id": "3167dc45",
   "metadata": {},
   "outputs": [],
   "source": [
    "articles = driver.find_elements(By.CSS_SELECTOR, 'li.js-stream-content')[:5]"
   ]
  },
  {
   "cell_type": "code",
   "execution_count": 5,
   "id": "3eb89a83",
   "metadata": {},
   "outputs": [
    {
     "name": "stdout",
     "output_type": "stream",
     "text": [
      "BusinessCoinDesk•27 minutes ago\n",
      "India's Day Of Reckoning With ‘Most Controversial Crypto Tax’ Is Here\n",
      "It's \"D\" Day for India as the crypto community deals with the imposition of the most controversial tax provision today. Calculating the predicted impact of the tax will be a wait-and-watch game at a time when the global investment community is facing a slowdown.\n",
      "BusinessBloomberg•40 minutes ago\n",
      "Crypto Hedge Fund Three Arrows Files For Chapter 15 Bankruptcy\n",
      "(Bloomberg) -- Crypto hedge fund Three Arrows Capital has filed for Chapter 15 bankruptcy, a move that protects its US assets while a liquidation is carried out in the British Virgin Islands.Most Read from BloombergUS Will Face High Gas Prices ‘as Long as It Takes,’ Biden SaysCrypto Meltdown Claims Rolex and Patek Philippe as VictimsHow Europe Became the Epicenter for This Summer’s Travel ChaosThe Wheels Have Come Off Electric VehiclesUS Supreme Court’s Tumultuous Term Ends With Guns, Roe and Pr\n",
      "BusinessCoinDesk•51 minutes ago\n",
      "Sam Bankman-Fried Says He’d Consider Acquiring Troubled Crypto Miners Next\n",
      "The FTX CEO said helping rescue crypto miners might help mitigate the credit contagion in the crypto sector.\n",
      "Mark Zuckerberg warns staff Facebook will be ‘turning up the heat’ to weed out underperformers: ‘You might decide this place isn’t for you, and that’s OK with me’\n",
      "Fortune\n",
      "Contract expires for West Coast dockworkers, negotiations continue\n",
      "Yahoo Finance Video\n"
     ]
    }
   ],
   "source": [
    "for art in articles:\n",
    "    print(art.text)"
   ]
  },
  {
   "cell_type": "code",
   "execution_count": 7,
   "id": "6ee9539d",
   "metadata": {},
   "outputs": [
    {
     "name": "stdout",
     "output_type": "stream",
     "text": [
      "CoinDesk\n",
      "CoinDesk\n",
      "CoinDesk\n",
      "CoinDesk\n",
      "CoinDesk\n"
     ]
    }
   ],
   "source": [
    "# find source\n",
    "for art in articles:\n",
    "    print(art.find_element(By.XPATH, '//div/div/div[2]/div[2]/span[1]').text)"
   ]
  },
  {
   "cell_type": "code",
   "execution_count": null,
   "id": "675e6b38",
   "metadata": {},
   "outputs": [],
   "source": [
    "# find title"
   ]
  },
  {
   "cell_type": "code",
   "execution_count": null,
   "id": "91483b9a",
   "metadata": {},
   "outputs": [],
   "source": [
    "# find short text"
   ]
  },
  {
   "cell_type": "code",
   "execution_count": null,
   "id": "12b8fad1",
   "metadata": {},
   "outputs": [],
   "source": [
    "# find url"
   ]
  },
  {
   "cell_type": "code",
   "execution_count": null,
   "id": "527ea66e",
   "metadata": {},
   "outputs": [],
   "source": [
    "# find publication date given new url"
   ]
  },
  {
   "cell_type": "code",
   "execution_count": null,
   "id": "324c6e8e",
   "metadata": {},
   "outputs": [],
   "source": []
  }
 ],
 "metadata": {
  "kernelspec": {
   "display_name": "Python 3 (ipykernel)",
   "language": "python",
   "name": "python3"
  },
  "language_info": {
   "codemirror_mode": {
    "name": "ipython",
    "version": 3
   },
   "file_extension": ".py",
   "mimetype": "text/x-python",
   "name": "python",
   "nbconvert_exporter": "python",
   "pygments_lexer": "ipython3",
   "version": "3.8.12"
  },
  "toc": {
   "base_numbering": 1,
   "nav_menu": {},
   "number_sections": true,
   "sideBar": true,
   "skip_h1_title": false,
   "title_cell": "Table of Contents",
   "title_sidebar": "Contents",
   "toc_cell": false,
   "toc_position": {},
   "toc_section_display": true,
   "toc_window_display": false
  }
 },
 "nbformat": 4,
 "nbformat_minor": 5
}

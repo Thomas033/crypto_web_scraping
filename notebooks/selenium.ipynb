{
 "cells": [
  {
   "cell_type": "code",
   "execution_count": 32,
   "id": "e555b8ae",
   "metadata": {},
   "outputs": [
    {
     "name": "stdout",
     "output_type": "stream",
     "text": [
      "The autoreload extension is already loaded. To reload it, use:\n",
      "  %reload_ext autoreload\n"
     ]
    }
   ],
   "source": [
    "%load_ext autoreload\n",
    "%autoreload 2"
   ]
  },
  {
   "cell_type": "code",
   "execution_count": 33,
   "id": "ff37f1b9",
   "metadata": {},
   "outputs": [],
   "source": [
    "import time\n",
    "import os.path\n",
    "from selenium import webdriver\n",
    "from selenium.webdriver.chrome.service import Service\n",
    "from selenium.webdriver.common.by import By\n",
    "from selenium.webdriver.chrome.options import Options"
   ]
  },
  {
   "cell_type": "code",
   "execution_count": 35,
   "id": "da2256af",
   "metadata": {},
   "outputs": [],
   "source": [
    "from crypto_web_scraping.scrap import create_driver, get_basic_info"
   ]
  },
  {
   "cell_type": "code",
   "execution_count": 36,
   "id": "567ce1b3",
   "metadata": {},
   "outputs": [],
   "source": [
    "driver = create_driver()"
   ]
  },
  {
   "cell_type": "code",
   "execution_count": 37,
   "id": "527ea66e",
   "metadata": {},
   "outputs": [
    {
     "data": {
      "text/html": [
       "<div>\n",
       "<style scoped>\n",
       "    .dataframe tbody tr th:only-of-type {\n",
       "        vertical-align: middle;\n",
       "    }\n",
       "\n",
       "    .dataframe tbody tr th {\n",
       "        vertical-align: top;\n",
       "    }\n",
       "\n",
       "    .dataframe thead th {\n",
       "        text-align: right;\n",
       "    }\n",
       "</style>\n",
       "<table border=\"1\" class=\"dataframe\">\n",
       "  <thead>\n",
       "    <tr style=\"text-align: right;\">\n",
       "      <th></th>\n",
       "      <th>TITLE</th>\n",
       "      <th>SUMMARY</th>\n",
       "      <th>SOURCE</th>\n",
       "    </tr>\n",
       "  </thead>\n",
       "  <tbody>\n",
       "    <tr>\n",
       "      <th>0</th>\n",
       "      <td>Meta’s Novi cryptocurrency wallet is shutting ...</td>\n",
       "      <td>Meta is shutting down Novi, its short-lived cr...</td>\n",
       "      <td>https://finance.yahoo.com/news/meta-novi-shutt...</td>\n",
       "    </tr>\n",
       "    <tr>\n",
       "      <th>1</th>\n",
       "      <td>Crypto’s Domino Effect Is Widening, Threatenin...</td>\n",
       "      <td>Losses in the digital-assets industry are blow...</td>\n",
       "      <td>https://finance.yahoo.com/m/ac3fee69-b438-3ff9...</td>\n",
       "    </tr>\n",
       "    <tr>\n",
       "      <th>2</th>\n",
       "      <td>Crypto hedge fund Three Arrows files for U.S. ...</td>\n",
       "      <td>Crypto hedge fund Three Arrows Capital has fil...</td>\n",
       "      <td>https://finance.yahoo.com/m/b1d54f99-e49d-3cc3...</td>\n",
       "    </tr>\n",
       "    <tr>\n",
       "      <th>3</th>\n",
       "      <td>Celebrities Erase Their Crypto Ties As Crypto ...</td>\n",
       "      <td>Celebrity endorsements have a long history, bu...</td>\n",
       "      <td>https://finance.yahoo.com/m/a24dcbcd-7d0a-3929...</td>\n",
       "    </tr>\n",
       "    <tr>\n",
       "      <th>4</th>\n",
       "      <td>Find a Financial Advisor Near You Who Understa...</td>\n",
       "      <td>At the time of writing the cryptocurrency mark...</td>\n",
       "      <td>https://finance.yahoo.com/news/financial-advis...</td>\n",
       "    </tr>\n",
       "    <tr>\n",
       "      <th>5</th>\n",
       "      <td>Grayscale Offers a Giant Bitcoin Discount. It’...</td>\n",
       "      <td>The fund has been tempting because it trades a...</td>\n",
       "      <td>https://finance.yahoo.com/m/edd01da6-ce98-38c1...</td>\n",
       "    </tr>\n",
       "    <tr>\n",
       "      <th>6</th>\n",
       "      <td>Blockchain with 'Chinese characteristics' quie...</td>\n",
       "      <td>The growth of China's blockchain market has ac...</td>\n",
       "      <td>https://finance.yahoo.com/news/blockchain-chin...</td>\n",
       "    </tr>\n",
       "    <tr>\n",
       "      <th>7</th>\n",
       "      <td>What Traders Are Saying About Bitcoin's Bigges...</td>\n",
       "      <td>Poor macroeconomic sentiment, fears of inflati...</td>\n",
       "      <td>https://finance.yahoo.com/news/traders-saying-...</td>\n",
       "    </tr>\n",
       "    <tr>\n",
       "      <th>8</th>\n",
       "      <td>Bitcoin (BTC) Fear &amp; Greed Index Leaves BTC at...</td>\n",
       "      <td>The Bitcoin Fear &amp; Greed Index rose modestly t...</td>\n",
       "      <td>https://finance.yahoo.com/news/bitcoin-btc-fea...</td>\n",
       "    </tr>\n",
       "    <tr>\n",
       "      <th>9</th>\n",
       "      <td>Crypto Market Daily Highlights – ADA, BTC, ETH...</td>\n",
       "      <td>It was a choppy Friday session, with the bitco...</td>\n",
       "      <td>https://finance.yahoo.com/news/crypto-market-d...</td>\n",
       "    </tr>\n",
       "  </tbody>\n",
       "</table>\n",
       "</div>"
      ],
      "text/plain": [
       "                                               TITLE  ...                                             SOURCE\n",
       "0  Meta’s Novi cryptocurrency wallet is shutting ...  ...  https://finance.yahoo.com/news/meta-novi-shutt...\n",
       "1  Crypto’s Domino Effect Is Widening, Threatenin...  ...  https://finance.yahoo.com/m/ac3fee69-b438-3ff9...\n",
       "2  Crypto hedge fund Three Arrows files for U.S. ...  ...  https://finance.yahoo.com/m/b1d54f99-e49d-3cc3...\n",
       "3  Celebrities Erase Their Crypto Ties As Crypto ...  ...  https://finance.yahoo.com/m/a24dcbcd-7d0a-3929...\n",
       "4  Find a Financial Advisor Near You Who Understa...  ...  https://finance.yahoo.com/news/financial-advis...\n",
       "5  Grayscale Offers a Giant Bitcoin Discount. It’...  ...  https://finance.yahoo.com/m/edd01da6-ce98-38c1...\n",
       "6  Blockchain with 'Chinese characteristics' quie...  ...  https://finance.yahoo.com/news/blockchain-chin...\n",
       "7  What Traders Are Saying About Bitcoin's Bigges...  ...  https://finance.yahoo.com/news/traders-saying-...\n",
       "8  Bitcoin (BTC) Fear & Greed Index Leaves BTC at...  ...  https://finance.yahoo.com/news/bitcoin-btc-fea...\n",
       "9  Crypto Market Daily Highlights – ADA, BTC, ETH...  ...  https://finance.yahoo.com/news/crypto-market-d...\n",
       "\n",
       "[10 rows x 3 columns]"
      ]
     },
     "execution_count": 37,
     "metadata": {},
     "output_type": "execute_result"
    }
   ],
   "source": [
    "df = get_basic_info(driver)\n",
    "df"
   ]
  },
  {
   "cell_type": "code",
   "execution_count": null,
   "id": "324c6e8e",
   "metadata": {},
   "outputs": [],
   "source": []
  }
 ],
 "metadata": {
  "kernelspec": {
   "display_name": "Python 3 (ipykernel)",
   "language": "python",
   "name": "python3"
  },
  "language_info": {
   "codemirror_mode": {
    "name": "ipython",
    "version": 3
   },
   "file_extension": ".py",
   "mimetype": "text/x-python",
   "name": "python",
   "nbconvert_exporter": "python",
   "pygments_lexer": "ipython3",
   "version": "3.8.12"
  },
  "toc": {
   "base_numbering": 1,
   "nav_menu": {},
   "number_sections": true,
   "sideBar": true,
   "skip_h1_title": false,
   "title_cell": "Table of Contents",
   "title_sidebar": "Contents",
   "toc_cell": false,
   "toc_position": {},
   "toc_section_display": true,
   "toc_window_display": false
  }
 },
 "nbformat": 4,
 "nbformat_minor": 5
}

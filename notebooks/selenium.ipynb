{
 "cells": [
  {
   "cell_type": "code",
   "execution_count": 1,
   "id": "e555b8ae",
   "metadata": {},
   "outputs": [],
   "source": [
    "%load_ext autoreload\n",
    "%autoreload 2"
   ]
  },
  {
   "cell_type": "code",
   "execution_count": 2,
   "id": "ff37f1b9",
   "metadata": {},
   "outputs": [],
   "source": [
    "import time\n",
    "import os.path\n",
    "from selenium import webdriver\n",
    "from selenium.webdriver.chrome.service import Service\n",
    "from selenium.webdriver.common.by import By\n",
    "from selenium.webdriver.chrome.options import Options"
   ]
  },
  {
   "cell_type": "code",
   "execution_count": 54,
   "id": "5404ad7d",
   "metadata": {},
   "outputs": [],
   "source": [
    "from crypto_web_scraping.scrap import create_driver, get_basic_info, get_more_info"
   ]
  },
  {
   "cell_type": "markdown",
   "id": "3462f9d2",
   "metadata": {
    "heading_collapsed": true
   },
   "source": [
    "# first tests"
   ]
  },
  {
   "cell_type": "code",
   "execution_count": 5,
   "id": "3027cc5b",
   "metadata": {
    "hidden": true
   },
   "outputs": [],
   "source": [
    "driver = create_driver()"
   ]
  },
  {
   "cell_type": "code",
   "execution_count": 6,
   "id": "527ea66e",
   "metadata": {
    "hidden": true
   },
   "outputs": [
    {
     "name": "stdout",
     "output_type": "stream",
     "text": [
      "20\n"
     ]
    },
    {
     "data": {
      "text/html": [
       "<div>\n",
       "<style scoped>\n",
       "    .dataframe tbody tr th:only-of-type {\n",
       "        vertical-align: middle;\n",
       "    }\n",
       "\n",
       "    .dataframe tbody tr th {\n",
       "        vertical-align: top;\n",
       "    }\n",
       "\n",
       "    .dataframe thead th {\n",
       "        text-align: right;\n",
       "    }\n",
       "</style>\n",
       "<table border=\"1\" class=\"dataframe\">\n",
       "  <thead>\n",
       "    <tr style=\"text-align: right;\">\n",
       "      <th></th>\n",
       "      <th>TITLE</th>\n",
       "      <th>SUMMARY</th>\n",
       "      <th>SOURCE</th>\n",
       "    </tr>\n",
       "  </thead>\n",
       "  <tbody>\n",
       "    <tr>\n",
       "      <th>0</th>\n",
       "      <td>Central African Republic President: Crypto is ...</td>\n",
       "      <td>Cryptocurrencies are the solution to tackling ...</td>\n",
       "      <td>https://finance.yahoo.com/news/central-african...</td>\n",
       "    </tr>\n",
       "    <tr>\n",
       "      <th>1</th>\n",
       "      <td>MEXC Global Now Accepts MasterCard and Visa fo...</td>\n",
       "      <td>In a press release, MEXC Global said they are ...</td>\n",
       "      <td>https://finance.yahoo.com/news/mexc-global-now...</td>\n",
       "    </tr>\n",
       "    <tr>\n",
       "      <th>2</th>\n",
       "      <td>Hard Times in Crypto: the Unintended Consequen...</td>\n",
       "      <td>The third and final reflection on a series of ...</td>\n",
       "      <td>https://finance.yahoo.com/news/hard-times-cryp...</td>\n",
       "    </tr>\n",
       "    <tr>\n",
       "      <th>3</th>\n",
       "      <td>EU Sets First Rules to Regulate Cryptocurrencies</td>\n",
       "      <td>European Union officials agreed on rules that ...</td>\n",
       "      <td>https://finance.yahoo.com/m/9f6cc22d-3157-38f7...</td>\n",
       "    </tr>\n",
       "    <tr>\n",
       "      <th>4</th>\n",
       "      <td>How to Find a Crypto Exchange That's FDIC-Insured</td>\n",
       "      <td>One of the benefits of using cryptocurrency is...</td>\n",
       "      <td>https://finance.yahoo.com/news/crypto-exchange...</td>\n",
       "    </tr>\n",
       "    <tr>\n",
       "      <th>5</th>\n",
       "      <td>Celsius Customers Are Losing Hope for Their Lo...</td>\n",
       "      <td>It has been three weeks since crypto lender Ce...</td>\n",
       "      <td>https://finance.yahoo.com/m/e574eb5b-39fd-3e44...</td>\n",
       "    </tr>\n",
       "    <tr>\n",
       "      <th>6</th>\n",
       "      <td>Bitcoin Fear &amp; Greed Index Signals More Bitcoi...</td>\n",
       "      <td>The Bitcoin Fear &amp; Greed Index failed to break...</td>\n",
       "      <td>https://finance.yahoo.com/news/bitcoin-fear-gr...</td>\n",
       "    </tr>\n",
       "    <tr>\n",
       "      <th>7</th>\n",
       "      <td>Crypto Market Daily Highlights – BTC Extends L...</td>\n",
       "      <td>Several cryptos saw their six-day losing strea...</td>\n",
       "      <td>https://finance.yahoo.com/news/crypto-market-d...</td>\n",
       "    </tr>\n",
       "    <tr>\n",
       "      <th>8</th>\n",
       "      <td>Meta’s Novi cryptocurrency wallet is shutting ...</td>\n",
       "      <td>Meta is shutting down Novi, its short-lived cr...</td>\n",
       "      <td>https://finance.yahoo.com/news/meta-novi-shutt...</td>\n",
       "    </tr>\n",
       "    <tr>\n",
       "      <th>9</th>\n",
       "      <td>Crypto’s Domino Effect Is Widening, Threatenin...</td>\n",
       "      <td>Losses in the digital-assets industry are blow...</td>\n",
       "      <td>https://finance.yahoo.com/m/ac3fee69-b438-3ff9...</td>\n",
       "    </tr>\n",
       "    <tr>\n",
       "      <th>10</th>\n",
       "      <td>Crypto hedge fund Three Arrows files for U.S. ...</td>\n",
       "      <td>Crypto hedge fund Three Arrows Capital has fil...</td>\n",
       "      <td>https://finance.yahoo.com/m/b1d54f99-e49d-3cc3...</td>\n",
       "    </tr>\n",
       "    <tr>\n",
       "      <th>11</th>\n",
       "      <td>Celebrities Erase Their Crypto Ties As Crypto ...</td>\n",
       "      <td>Celebrity endorsements have a long history, bu...</td>\n",
       "      <td>https://finance.yahoo.com/m/a24dcbcd-7d0a-3929...</td>\n",
       "    </tr>\n",
       "    <tr>\n",
       "      <th>12</th>\n",
       "      <td>Find a Financial Advisor Near You Who Understa...</td>\n",
       "      <td>At the time of writing the cryptocurrency mark...</td>\n",
       "      <td>https://finance.yahoo.com/news/financial-advis...</td>\n",
       "    </tr>\n",
       "    <tr>\n",
       "      <th>13</th>\n",
       "      <td>Grayscale Offers a Giant Bitcoin Discount. It’...</td>\n",
       "      <td>The fund has been tempting because it trades a...</td>\n",
       "      <td>https://finance.yahoo.com/m/edd01da6-ce98-38c1...</td>\n",
       "    </tr>\n",
       "    <tr>\n",
       "      <th>14</th>\n",
       "      <td>Blockchain with 'Chinese characteristics' quie...</td>\n",
       "      <td>The growth of China's blockchain market has ac...</td>\n",
       "      <td>https://finance.yahoo.com/news/blockchain-chin...</td>\n",
       "    </tr>\n",
       "    <tr>\n",
       "      <th>15</th>\n",
       "      <td>What Traders Are Saying About Bitcoin's Bigges...</td>\n",
       "      <td>Poor macroeconomic sentiment, fears of inflati...</td>\n",
       "      <td>https://finance.yahoo.com/news/traders-saying-...</td>\n",
       "    </tr>\n",
       "    <tr>\n",
       "      <th>16</th>\n",
       "      <td>Bitcoin (BTC) Fear &amp; Greed Index Leaves BTC at...</td>\n",
       "      <td>The Bitcoin Fear &amp; Greed Index rose modestly t...</td>\n",
       "      <td>https://finance.yahoo.com/news/bitcoin-btc-fea...</td>\n",
       "    </tr>\n",
       "    <tr>\n",
       "      <th>17</th>\n",
       "      <td>Crypto Market Daily Highlights – ADA, BTC, ETH...</td>\n",
       "      <td>It was a choppy Friday session, with the bitco...</td>\n",
       "      <td>https://finance.yahoo.com/news/crypto-market-d...</td>\n",
       "    </tr>\n",
       "    <tr>\n",
       "      <th>18</th>\n",
       "      <td>Crypto hedge fund Three Arrows files for Chapt...</td>\n",
       "      <td>Singapore-based 3AC is one of the highest-prof...</td>\n",
       "      <td>https://finance.yahoo.com/news/crypto-hedge-fu...</td>\n",
       "    </tr>\n",
       "    <tr>\n",
       "      <th>19</th>\n",
       "      <td>Crypto’s Brutal Week Ends With a Trading Halt ...</td>\n",
       "      <td>(Bloomberg) -- The meltdown in cryptocurrency ...</td>\n",
       "      <td>https://finance.yahoo.com/news/crypto-broker-v...</td>\n",
       "    </tr>\n",
       "  </tbody>\n",
       "</table>\n",
       "</div>"
      ],
      "text/plain": [
       "                                                TITLE  \\\n",
       "0   Central African Republic President: Crypto is ...   \n",
       "1   MEXC Global Now Accepts MasterCard and Visa fo...   \n",
       "2   Hard Times in Crypto: the Unintended Consequen...   \n",
       "3    EU Sets First Rules to Regulate Cryptocurrencies   \n",
       "4   How to Find a Crypto Exchange That's FDIC-Insured   \n",
       "5   Celsius Customers Are Losing Hope for Their Lo...   \n",
       "6   Bitcoin Fear & Greed Index Signals More Bitcoi...   \n",
       "7   Crypto Market Daily Highlights – BTC Extends L...   \n",
       "8   Meta’s Novi cryptocurrency wallet is shutting ...   \n",
       "9   Crypto’s Domino Effect Is Widening, Threatenin...   \n",
       "10  Crypto hedge fund Three Arrows files for U.S. ...   \n",
       "11  Celebrities Erase Their Crypto Ties As Crypto ...   \n",
       "12  Find a Financial Advisor Near You Who Understa...   \n",
       "13  Grayscale Offers a Giant Bitcoin Discount. It’...   \n",
       "14  Blockchain with 'Chinese characteristics' quie...   \n",
       "15  What Traders Are Saying About Bitcoin's Bigges...   \n",
       "16  Bitcoin (BTC) Fear & Greed Index Leaves BTC at...   \n",
       "17  Crypto Market Daily Highlights – ADA, BTC, ETH...   \n",
       "18  Crypto hedge fund Three Arrows files for Chapt...   \n",
       "19  Crypto’s Brutal Week Ends With a Trading Halt ...   \n",
       "\n",
       "                                              SUMMARY  \\\n",
       "0   Cryptocurrencies are the solution to tackling ...   \n",
       "1   In a press release, MEXC Global said they are ...   \n",
       "2   The third and final reflection on a series of ...   \n",
       "3   European Union officials agreed on rules that ...   \n",
       "4   One of the benefits of using cryptocurrency is...   \n",
       "5   It has been three weeks since crypto lender Ce...   \n",
       "6   The Bitcoin Fear & Greed Index failed to break...   \n",
       "7   Several cryptos saw their six-day losing strea...   \n",
       "8   Meta is shutting down Novi, its short-lived cr...   \n",
       "9   Losses in the digital-assets industry are blow...   \n",
       "10  Crypto hedge fund Three Arrows Capital has fil...   \n",
       "11  Celebrity endorsements have a long history, bu...   \n",
       "12  At the time of writing the cryptocurrency mark...   \n",
       "13  The fund has been tempting because it trades a...   \n",
       "14  The growth of China's blockchain market has ac...   \n",
       "15  Poor macroeconomic sentiment, fears of inflati...   \n",
       "16  The Bitcoin Fear & Greed Index rose modestly t...   \n",
       "17  It was a choppy Friday session, with the bitco...   \n",
       "18  Singapore-based 3AC is one of the highest-prof...   \n",
       "19  (Bloomberg) -- The meltdown in cryptocurrency ...   \n",
       "\n",
       "                                               SOURCE  \n",
       "0   https://finance.yahoo.com/news/central-african...  \n",
       "1   https://finance.yahoo.com/news/mexc-global-now...  \n",
       "2   https://finance.yahoo.com/news/hard-times-cryp...  \n",
       "3   https://finance.yahoo.com/m/9f6cc22d-3157-38f7...  \n",
       "4   https://finance.yahoo.com/news/crypto-exchange...  \n",
       "5   https://finance.yahoo.com/m/e574eb5b-39fd-3e44...  \n",
       "6   https://finance.yahoo.com/news/bitcoin-fear-gr...  \n",
       "7   https://finance.yahoo.com/news/crypto-market-d...  \n",
       "8   https://finance.yahoo.com/news/meta-novi-shutt...  \n",
       "9   https://finance.yahoo.com/m/ac3fee69-b438-3ff9...  \n",
       "10  https://finance.yahoo.com/m/b1d54f99-e49d-3cc3...  \n",
       "11  https://finance.yahoo.com/m/a24dcbcd-7d0a-3929...  \n",
       "12  https://finance.yahoo.com/news/financial-advis...  \n",
       "13  https://finance.yahoo.com/m/edd01da6-ce98-38c1...  \n",
       "14  https://finance.yahoo.com/news/blockchain-chin...  \n",
       "15  https://finance.yahoo.com/news/traders-saying-...  \n",
       "16  https://finance.yahoo.com/news/bitcoin-btc-fea...  \n",
       "17  https://finance.yahoo.com/news/crypto-market-d...  \n",
       "18  https://finance.yahoo.com/news/crypto-hedge-fu...  \n",
       "19  https://finance.yahoo.com/news/crypto-broker-v...  "
      ]
     },
     "execution_count": 6,
     "metadata": {},
     "output_type": "execute_result"
    }
   ],
   "source": [
    "df = get_basic_info(driver)\n",
    "df"
   ]
  },
  {
   "cell_type": "code",
   "execution_count": 7,
   "id": "324c6e8e",
   "metadata": {
    "hidden": true
   },
   "outputs": [
    {
     "data": {
      "text/plain": [
       "'Central African Republic President: Crypto is key to financial inclusion'"
      ]
     },
     "execution_count": 7,
     "metadata": {},
     "output_type": "execute_result"
    }
   ],
   "source": [
    "df.iloc[0,0]"
   ]
  },
  {
   "cell_type": "code",
   "execution_count": 8,
   "id": "ea861ac6",
   "metadata": {
    "hidden": true
   },
   "outputs": [
    {
     "data": {
      "text/plain": [
       "'Cryptocurrencies are the solution to tackling financial exclusion in the Central African Republic, its President Faustin-Archange Touadera said on Sunday, citing the cost of opening bank accounts. \"The alternative to cash is cryptocurrency,\" Touadera said at a launch event for crypto initiative Sango hosted by the country, after it became the first African state to make bitcoin legal tender in April. The Sango project, including a \"Sango Coin\", was backed by the Central African Republic\\'s National Assembly and spearheaded by Touadera, who said the token would provide access to the country\\'s \"mountain\" of natural resources, including gold and diamonds.'"
      ]
     },
     "execution_count": 8,
     "metadata": {},
     "output_type": "execute_result"
    }
   ],
   "source": [
    "df.iloc[0,1]"
   ]
  },
  {
   "cell_type": "code",
   "execution_count": 9,
   "id": "35d94463",
   "metadata": {
    "hidden": true
   },
   "outputs": [
    {
     "data": {
      "text/plain": [
       "20"
      ]
     },
     "execution_count": 9,
     "metadata": {},
     "output_type": "execute_result"
    }
   ],
   "source": [
    "articles = driver.find_elements(By.CLASS_NAME, 'Ov\\(h\\).Pend\\(44px\\).Pstart\\(25px\\)')\n",
    "len(articles)"
   ]
  },
  {
   "cell_type": "code",
   "execution_count": 10,
   "id": "aef47f82",
   "metadata": {
    "hidden": true
   },
   "outputs": [
    {
     "data": {
      "text/plain": [
       "TITLE      object\n",
       "SUMMARY    object\n",
       "SOURCE     object\n",
       "dtype: object"
      ]
     },
     "execution_count": 10,
     "metadata": {},
     "output_type": "execute_result"
    }
   ],
   "source": [
    "df.dtypes"
   ]
  },
  {
   "cell_type": "code",
   "execution_count": 11,
   "id": "b72b55d3",
   "metadata": {
    "hidden": true
   },
   "outputs": [
    {
     "data": {
      "text/plain": [
       "0     https://finance.yahoo.com/news/central-african...\n",
       "1     https://finance.yahoo.com/news/mexc-global-now...\n",
       "2     https://finance.yahoo.com/news/hard-times-cryp...\n",
       "3     https://finance.yahoo.com/m/9f6cc22d-3157-38f7...\n",
       "4     https://finance.yahoo.com/news/crypto-exchange...\n",
       "5     https://finance.yahoo.com/m/e574eb5b-39fd-3e44...\n",
       "6     https://finance.yahoo.com/news/bitcoin-fear-gr...\n",
       "7     https://finance.yahoo.com/news/crypto-market-d...\n",
       "8     https://finance.yahoo.com/news/meta-novi-shutt...\n",
       "9     https://finance.yahoo.com/m/ac3fee69-b438-3ff9...\n",
       "10    https://finance.yahoo.com/m/b1d54f99-e49d-3cc3...\n",
       "11    https://finance.yahoo.com/m/a24dcbcd-7d0a-3929...\n",
       "12    https://finance.yahoo.com/news/financial-advis...\n",
       "13    https://finance.yahoo.com/m/edd01da6-ce98-38c1...\n",
       "14    https://finance.yahoo.com/news/blockchain-chin...\n",
       "15    https://finance.yahoo.com/news/traders-saying-...\n",
       "16    https://finance.yahoo.com/news/bitcoin-btc-fea...\n",
       "17    https://finance.yahoo.com/news/crypto-market-d...\n",
       "18    https://finance.yahoo.com/news/crypto-hedge-fu...\n",
       "19    https://finance.yahoo.com/news/crypto-broker-v...\n",
       "Name: SOURCE, dtype: object"
      ]
     },
     "execution_count": 11,
     "metadata": {},
     "output_type": "execute_result"
    }
   ],
   "source": [
    "df[\"SOURCE\"]"
   ]
  },
  {
   "cell_type": "code",
   "execution_count": 12,
   "id": "26c0d78e",
   "metadata": {
    "hidden": true
   },
   "outputs": [],
   "source": [
    "new_url = articles[0].find_element(By.TAG_NAME, 'a').get_attribute('href')"
   ]
  },
  {
   "cell_type": "code",
   "execution_count": 13,
   "id": "ac969fdc",
   "metadata": {
    "hidden": true
   },
   "outputs": [],
   "source": [
    "new_driver = create_driver(new_url)"
   ]
  },
  {
   "cell_type": "code",
   "execution_count": 14,
   "id": "21d5ed56",
   "metadata": {
    "hidden": true
   },
   "outputs": [],
   "source": [
    "driver = create_driver(df.iloc[2,2])\n",
    "driver.find_element(By.XPATH, '//*[@id=\"consent-page\"]/div/div/div/form/div[2]/div[2]/button[1]').click()"
   ]
  },
  {
   "cell_type": "code",
   "execution_count": 15,
   "id": "4f265faa",
   "metadata": {
    "hidden": true
   },
   "outputs": [
    {
     "data": {
      "text/plain": [
       "'2022-07-03T14:50:00.000Z'"
      ]
     },
     "execution_count": 15,
     "metadata": {},
     "output_type": "execute_result"
    }
   ],
   "source": [
    "# Get publication date\n",
    "driver.find_element(By.TAG_NAME, 'time').get_attribute('datetime')"
   ]
  },
  {
   "cell_type": "code",
   "execution_count": 16,
   "id": "4bb1389e",
   "metadata": {
    "hidden": true
   },
   "outputs": [
    {
     "data": {
      "text/plain": [
       "\"Don't miss CoinDesk's Consensus 2022, the must-attend crypto & blockchain festival experience of the year in Austin, TX this June 9-12.\\nHappy Fourth of July to all who celebrate! Hope you’re lucky enough to have time off. Spend some of it doing something you love.\\nThis is the last of a three-part newsletter series about the risks facing crypto right now.\\nHere are the three topics this newsletter series covers.\\nPrice and macro risk (two weeks ago)\\nPlatform and protocol risk (last week)\\nPublic company risk (this week)\\nThis week we’ll take a look at public company risk.\\nPublic companies are widely misunderstood, especially among the bitcoin and crypto crowd. That’s not really surprising. The whole thing is (enter: 100% of my cynicism) intentionally convoluted and confusing to make the investment bankers, lawyers and insiders on Wall Street feel smart.\\nI mean, these are called “public companies,” but they are decidedly private, for-profit enterprises. Words matter, but just not in high finance, apparently.\\n– George Kaloudis\\nFor context, I want to lay out what it means to “go public” or “be a public company.” A company goes public by selling some or all of its equity to a group of underwriters, who then issue stock to trade openly on exchanges like the Nasdaq or New York Stock Exchange.\\nYou’re reading Crypto Long & Short, our weekly newsletter featuring insights, news and analysis for the professional investor. Sign up here to get it in your inbox every Sunday.\\nIt’s “public” in that (almost) anyone can invest in this equity freely (in practice, it isn’t truly open). Also its financial information – from quarterly income statements to stock price – is publicly shared. Companies do this to receive an injection of money to aid growth or reward long-time equity holders and have easier access to future capital. These seem to be reasonable reasons to go public, and a lot of the time it works out.\\nBut for more context, I’m going to tell you what I think about going public.\\nStory continues\""
      ]
     },
     "execution_count": 16,
     "metadata": {},
     "output_type": "execute_result"
    }
   ],
   "source": [
    "driver.find_element(By.CLASS_NAME, \"caas-body\").text"
   ]
  },
  {
   "cell_type": "markdown",
   "id": "3a950d0a",
   "metadata": {
    "heading_collapsed": true
   },
   "source": [
    "# Test to open the article"
   ]
  },
  {
   "cell_type": "code",
   "execution_count": 17,
   "id": "543634a2",
   "metadata": {
    "hidden": true
   },
   "outputs": [
    {
     "data": {
      "text/plain": [
       "20"
      ]
     },
     "execution_count": 17,
     "metadata": {},
     "output_type": "execute_result"
    }
   ],
   "source": [
    "driver = create_driver()\n",
    "driver.find_element(By.XPATH, '//*[@id=\"consent-page\"]/div/div/div/form/div[2]/div[2]/button[1]').click()\n",
    "driver.implicitly_wait(5)\n",
    "\n",
    "SCROLL_PAUSE_TIME = 0.5\n",
    "\n",
    "# Get scroll height\n",
    "last_height = driver.execute_script(\"return document.body.scrollHeight\")\n",
    "\n",
    "while True:\n",
    "    # Scroll down to bottom\n",
    "    driver.execute_script(\"window.scrollTo(0, document.body.scrollHeight);\")\n",
    "\n",
    "    # Wait to load page\n",
    "    time.sleep(SCROLL_PAUSE_TIME)\n",
    "\n",
    "    # Calculate new scroll height and compare with last scroll height\n",
    "    new_height = driver.execute_script(\"return document.body.scrollHeight\")\n",
    "    if new_height == last_height:\n",
    "        break\n",
    "    last_height = new_height\n",
    "\n",
    "articles = driver.find_elements(By.CLASS_NAME, 'Ov\\(h\\).Pend\\(44px\\).Pstart\\(25px\\)')\n",
    "len(articles)"
   ]
  },
  {
   "cell_type": "code",
   "execution_count": 18,
   "id": "46978efd",
   "metadata": {
    "hidden": true
   },
   "outputs": [],
   "source": [
    "driver = create_driver()\n",
    "driver.find_element(By.XPATH, '//*[@id=\"consent-page\"]/div/div/div/form/div[2]/div[2]/button[1]').click()\n",
    "driver.implicitly_wait(5)"
   ]
  },
  {
   "cell_type": "code",
   "execution_count": 19,
   "id": "00dbd14e",
   "metadata": {
    "hidden": true
   },
   "outputs": [],
   "source": [
    "driver.find_element(By.LINK_TEXT, 'Celsius Customers Are Losing Hope for Their Locked-Up Crypto').click()"
   ]
  },
  {
   "cell_type": "code",
   "execution_count": 20,
   "id": "12daff01",
   "metadata": {
    "hidden": true
   },
   "outputs": [
    {
     "data": {
      "text/plain": [
       "'Latest Crypto & Bitcoin News'"
      ]
     },
     "execution_count": 20,
     "metadata": {},
     "output_type": "execute_result"
    }
   ],
   "source": [
    "driver.title"
   ]
  },
  {
   "cell_type": "code",
   "execution_count": 21,
   "id": "38059d09",
   "metadata": {
    "hidden": true
   },
   "outputs": [
    {
     "data": {
      "text/plain": [
       "'2022-07-03T09:30:00.000Z'"
      ]
     },
     "execution_count": 21,
     "metadata": {},
     "output_type": "execute_result"
    }
   ],
   "source": [
    "# Get publication date\n",
    "pub_date = driver.find_element(By.TAG_NAME, 'time').get_attribute('datetime')\n",
    "pub_date"
   ]
  },
  {
   "cell_type": "code",
   "execution_count": 22,
   "id": "98bbb759",
   "metadata": {
    "hidden": true
   },
   "outputs": [
    {
     "data": {
      "text/plain": [
       "'It has been three weeks since crypto lender Celsius Network LLC took the drastic step of halting customers’ withdrawals. Alla Driksne says she has six figures worth of bitcoin and ethereum—her life savings—tied up in a Celsius account. On June 12, a Sunday, the company said it had paused customer withdrawals, saying it needed “to stabilize liquidity and operations.”'"
      ]
     },
     "execution_count": 22,
     "metadata": {},
     "output_type": "execute_result"
    }
   ],
   "source": [
    "# Get full text (if available)\n",
    "full_text = driver.find_element(By.CLASS_NAME, \"caas-body\").text\n",
    "full_text"
   ]
  },
  {
   "cell_type": "code",
   "execution_count": 23,
   "id": "caacc75e",
   "metadata": {
    "hidden": true
   },
   "outputs": [],
   "source": [
    "driver.back()"
   ]
  },
  {
   "cell_type": "code",
   "execution_count": 24,
   "id": "ae9069b9",
   "metadata": {
    "hidden": true
   },
   "outputs": [
    {
     "data": {
      "text/plain": [
       "'Latest Crypto & Bitcoin News'"
      ]
     },
     "execution_count": 24,
     "metadata": {},
     "output_type": "execute_result"
    }
   ],
   "source": [
    "driver.title"
   ]
  },
  {
   "cell_type": "markdown",
   "id": "8374afa2",
   "metadata": {
    "heading_collapsed": true
   },
   "source": [
    "# Functional test to extract date and full text"
   ]
  },
  {
   "cell_type": "code",
   "execution_count": 25,
   "id": "0eabbe74",
   "metadata": {
    "hidden": true
   },
   "outputs": [
    {
     "name": "stdout",
     "output_type": "stream",
     "text": [
      "20\n"
     ]
    },
    {
     "data": {
      "text/html": [
       "<div>\n",
       "<style scoped>\n",
       "    .dataframe tbody tr th:only-of-type {\n",
       "        vertical-align: middle;\n",
       "    }\n",
       "\n",
       "    .dataframe tbody tr th {\n",
       "        vertical-align: top;\n",
       "    }\n",
       "\n",
       "    .dataframe thead th {\n",
       "        text-align: right;\n",
       "    }\n",
       "</style>\n",
       "<table border=\"1\" class=\"dataframe\">\n",
       "  <thead>\n",
       "    <tr style=\"text-align: right;\">\n",
       "      <th></th>\n",
       "      <th>TITLE</th>\n",
       "      <th>SUMMARY</th>\n",
       "      <th>SOURCE</th>\n",
       "    </tr>\n",
       "  </thead>\n",
       "  <tbody>\n",
       "    <tr>\n",
       "      <th>0</th>\n",
       "      <td>Central African Republic President: Crypto is ...</td>\n",
       "      <td>Cryptocurrencies are the solution to tackling ...</td>\n",
       "      <td>https://finance.yahoo.com/news/central-african...</td>\n",
       "    </tr>\n",
       "    <tr>\n",
       "      <th>1</th>\n",
       "      <td>MEXC Global Now Accepts MasterCard and Visa fo...</td>\n",
       "      <td>In a press release, MEXC Global said they are ...</td>\n",
       "      <td>https://finance.yahoo.com/news/mexc-global-now...</td>\n",
       "    </tr>\n",
       "    <tr>\n",
       "      <th>2</th>\n",
       "      <td>Hard Times in Crypto: the Unintended Consequen...</td>\n",
       "      <td>The third and final reflection on a series of ...</td>\n",
       "      <td>https://finance.yahoo.com/news/hard-times-cryp...</td>\n",
       "    </tr>\n",
       "    <tr>\n",
       "      <th>3</th>\n",
       "      <td>EU Sets First Rules to Regulate Cryptocurrencies</td>\n",
       "      <td>European Union officials agreed on rules that ...</td>\n",
       "      <td>https://finance.yahoo.com/m/9f6cc22d-3157-38f7...</td>\n",
       "    </tr>\n",
       "    <tr>\n",
       "      <th>4</th>\n",
       "      <td>How to Find a Crypto Exchange That's FDIC-Insured</td>\n",
       "      <td>One of the benefits of using cryptocurrency is...</td>\n",
       "      <td>https://finance.yahoo.com/news/crypto-exchange...</td>\n",
       "    </tr>\n",
       "    <tr>\n",
       "      <th>5</th>\n",
       "      <td>Celsius Customers Are Losing Hope for Their Lo...</td>\n",
       "      <td>It has been three weeks since crypto lender Ce...</td>\n",
       "      <td>https://finance.yahoo.com/m/e574eb5b-39fd-3e44...</td>\n",
       "    </tr>\n",
       "    <tr>\n",
       "      <th>6</th>\n",
       "      <td>Bitcoin Fear &amp; Greed Index Signals More Bitcoi...</td>\n",
       "      <td>The Bitcoin Fear &amp; Greed Index failed to break...</td>\n",
       "      <td>https://finance.yahoo.com/news/bitcoin-fear-gr...</td>\n",
       "    </tr>\n",
       "    <tr>\n",
       "      <th>7</th>\n",
       "      <td>Crypto Market Daily Highlights – BTC Extends L...</td>\n",
       "      <td>Several cryptos saw their six-day losing strea...</td>\n",
       "      <td>https://finance.yahoo.com/news/crypto-market-d...</td>\n",
       "    </tr>\n",
       "    <tr>\n",
       "      <th>8</th>\n",
       "      <td>Meta’s Novi cryptocurrency wallet is shutting ...</td>\n",
       "      <td>Meta is shutting down Novi, its short-lived cr...</td>\n",
       "      <td>https://finance.yahoo.com/news/meta-novi-shutt...</td>\n",
       "    </tr>\n",
       "    <tr>\n",
       "      <th>9</th>\n",
       "      <td>Crypto’s Domino Effect Is Widening, Threatenin...</td>\n",
       "      <td>Losses in the digital-assets industry are blow...</td>\n",
       "      <td>https://finance.yahoo.com/m/ac3fee69-b438-3ff9...</td>\n",
       "    </tr>\n",
       "    <tr>\n",
       "      <th>10</th>\n",
       "      <td>Crypto hedge fund Three Arrows files for U.S. ...</td>\n",
       "      <td>Crypto hedge fund Three Arrows Capital has fil...</td>\n",
       "      <td>https://finance.yahoo.com/m/b1d54f99-e49d-3cc3...</td>\n",
       "    </tr>\n",
       "    <tr>\n",
       "      <th>11</th>\n",
       "      <td>Celebrities Erase Their Crypto Ties As Crypto ...</td>\n",
       "      <td>Celebrity endorsements have a long history, bu...</td>\n",
       "      <td>https://finance.yahoo.com/m/a24dcbcd-7d0a-3929...</td>\n",
       "    </tr>\n",
       "    <tr>\n",
       "      <th>12</th>\n",
       "      <td>Find a Financial Advisor Near You Who Understa...</td>\n",
       "      <td>At the time of writing the cryptocurrency mark...</td>\n",
       "      <td>https://finance.yahoo.com/news/financial-advis...</td>\n",
       "    </tr>\n",
       "    <tr>\n",
       "      <th>13</th>\n",
       "      <td>Grayscale Offers a Giant Bitcoin Discount. It’...</td>\n",
       "      <td>The fund has been tempting because it trades a...</td>\n",
       "      <td>https://finance.yahoo.com/m/edd01da6-ce98-38c1...</td>\n",
       "    </tr>\n",
       "    <tr>\n",
       "      <th>14</th>\n",
       "      <td>Blockchain with 'Chinese characteristics' quie...</td>\n",
       "      <td>The growth of China's blockchain market has ac...</td>\n",
       "      <td>https://finance.yahoo.com/news/blockchain-chin...</td>\n",
       "    </tr>\n",
       "    <tr>\n",
       "      <th>15</th>\n",
       "      <td>What Traders Are Saying About Bitcoin's Bigges...</td>\n",
       "      <td>Poor macroeconomic sentiment, fears of inflati...</td>\n",
       "      <td>https://finance.yahoo.com/news/traders-saying-...</td>\n",
       "    </tr>\n",
       "    <tr>\n",
       "      <th>16</th>\n",
       "      <td>Bitcoin (BTC) Fear &amp; Greed Index Leaves BTC at...</td>\n",
       "      <td>The Bitcoin Fear &amp; Greed Index rose modestly t...</td>\n",
       "      <td>https://finance.yahoo.com/news/bitcoin-btc-fea...</td>\n",
       "    </tr>\n",
       "    <tr>\n",
       "      <th>17</th>\n",
       "      <td>Crypto Market Daily Highlights – ADA, BTC, ETH...</td>\n",
       "      <td>It was a choppy Friday session, with the bitco...</td>\n",
       "      <td>https://finance.yahoo.com/news/crypto-market-d...</td>\n",
       "    </tr>\n",
       "    <tr>\n",
       "      <th>18</th>\n",
       "      <td>Crypto hedge fund Three Arrows files for Chapt...</td>\n",
       "      <td>Singapore-based 3AC is one of the highest-prof...</td>\n",
       "      <td>https://finance.yahoo.com/news/crypto-hedge-fu...</td>\n",
       "    </tr>\n",
       "    <tr>\n",
       "      <th>19</th>\n",
       "      <td>Crypto’s Brutal Week Ends With a Trading Halt ...</td>\n",
       "      <td>(Bloomberg) -- The meltdown in cryptocurrency ...</td>\n",
       "      <td>https://finance.yahoo.com/news/crypto-broker-v...</td>\n",
       "    </tr>\n",
       "  </tbody>\n",
       "</table>\n",
       "</div>"
      ],
      "text/plain": [
       "                                                TITLE  \\\n",
       "0   Central African Republic President: Crypto is ...   \n",
       "1   MEXC Global Now Accepts MasterCard and Visa fo...   \n",
       "2   Hard Times in Crypto: the Unintended Consequen...   \n",
       "3    EU Sets First Rules to Regulate Cryptocurrencies   \n",
       "4   How to Find a Crypto Exchange That's FDIC-Insured   \n",
       "5   Celsius Customers Are Losing Hope for Their Lo...   \n",
       "6   Bitcoin Fear & Greed Index Signals More Bitcoi...   \n",
       "7   Crypto Market Daily Highlights – BTC Extends L...   \n",
       "8   Meta’s Novi cryptocurrency wallet is shutting ...   \n",
       "9   Crypto’s Domino Effect Is Widening, Threatenin...   \n",
       "10  Crypto hedge fund Three Arrows files for U.S. ...   \n",
       "11  Celebrities Erase Their Crypto Ties As Crypto ...   \n",
       "12  Find a Financial Advisor Near You Who Understa...   \n",
       "13  Grayscale Offers a Giant Bitcoin Discount. It’...   \n",
       "14  Blockchain with 'Chinese characteristics' quie...   \n",
       "15  What Traders Are Saying About Bitcoin's Bigges...   \n",
       "16  Bitcoin (BTC) Fear & Greed Index Leaves BTC at...   \n",
       "17  Crypto Market Daily Highlights – ADA, BTC, ETH...   \n",
       "18  Crypto hedge fund Three Arrows files for Chapt...   \n",
       "19  Crypto’s Brutal Week Ends With a Trading Halt ...   \n",
       "\n",
       "                                              SUMMARY  \\\n",
       "0   Cryptocurrencies are the solution to tackling ...   \n",
       "1   In a press release, MEXC Global said they are ...   \n",
       "2   The third and final reflection on a series of ...   \n",
       "3   European Union officials agreed on rules that ...   \n",
       "4   One of the benefits of using cryptocurrency is...   \n",
       "5   It has been three weeks since crypto lender Ce...   \n",
       "6   The Bitcoin Fear & Greed Index failed to break...   \n",
       "7   Several cryptos saw their six-day losing strea...   \n",
       "8   Meta is shutting down Novi, its short-lived cr...   \n",
       "9   Losses in the digital-assets industry are blow...   \n",
       "10  Crypto hedge fund Three Arrows Capital has fil...   \n",
       "11  Celebrity endorsements have a long history, bu...   \n",
       "12  At the time of writing the cryptocurrency mark...   \n",
       "13  The fund has been tempting because it trades a...   \n",
       "14  The growth of China's blockchain market has ac...   \n",
       "15  Poor macroeconomic sentiment, fears of inflati...   \n",
       "16  The Bitcoin Fear & Greed Index rose modestly t...   \n",
       "17  It was a choppy Friday session, with the bitco...   \n",
       "18  Singapore-based 3AC is one of the highest-prof...   \n",
       "19  (Bloomberg) -- The meltdown in cryptocurrency ...   \n",
       "\n",
       "                                               SOURCE  \n",
       "0   https://finance.yahoo.com/news/central-african...  \n",
       "1   https://finance.yahoo.com/news/mexc-global-now...  \n",
       "2   https://finance.yahoo.com/news/hard-times-cryp...  \n",
       "3   https://finance.yahoo.com/m/9f6cc22d-3157-38f7...  \n",
       "4   https://finance.yahoo.com/news/crypto-exchange...  \n",
       "5   https://finance.yahoo.com/m/e574eb5b-39fd-3e44...  \n",
       "6   https://finance.yahoo.com/news/bitcoin-fear-gr...  \n",
       "7   https://finance.yahoo.com/news/crypto-market-d...  \n",
       "8   https://finance.yahoo.com/news/meta-novi-shutt...  \n",
       "9   https://finance.yahoo.com/m/ac3fee69-b438-3ff9...  \n",
       "10  https://finance.yahoo.com/m/b1d54f99-e49d-3cc3...  \n",
       "11  https://finance.yahoo.com/m/a24dcbcd-7d0a-3929...  \n",
       "12  https://finance.yahoo.com/news/financial-advis...  \n",
       "13  https://finance.yahoo.com/m/edd01da6-ce98-38c1...  \n",
       "14  https://finance.yahoo.com/news/blockchain-chin...  \n",
       "15  https://finance.yahoo.com/news/traders-saying-...  \n",
       "16  https://finance.yahoo.com/news/bitcoin-btc-fea...  \n",
       "17  https://finance.yahoo.com/news/crypto-market-d...  \n",
       "18  https://finance.yahoo.com/news/crypto-hedge-fu...  \n",
       "19  https://finance.yahoo.com/news/crypto-broker-v...  "
      ]
     },
     "execution_count": 25,
     "metadata": {},
     "output_type": "execute_result"
    }
   ],
   "source": [
    "driver = create_driver()\n",
    "df = get_basic_info(driver)\n",
    "df"
   ]
  },
  {
   "cell_type": "code",
   "execution_count": 26,
   "id": "adee650e",
   "metadata": {
    "hidden": true
   },
   "outputs": [],
   "source": [
    "titles = df[\"TITLE\"].to_list()    "
   ]
  },
  {
   "cell_type": "code",
   "execution_count": 27,
   "id": "90e466bd",
   "metadata": {
    "hidden": true
   },
   "outputs": [],
   "source": [
    "driver = create_driver()\n",
    "driver.find_element(By.XPATH, '//*[@id=\"consent-page\"]/div/div/div/form/div[2]/div[2]/button[1]').click()\n",
    "driver.implicitly_wait(5)\n",
    "\n",
    "dates = []\n",
    "full_texts = []\n",
    "\n",
    "for title in titles:\n",
    "    article  = driver.find_element(By.LINK_TEXT, title).click()\n",
    "    dates.append(driver.find_element(By.TAG_NAME, 'time').get_attribute('datetime'))\n",
    "    full_texts.append(driver.find_element(By.CLASS_NAME, \"caas-body\").text)\n",
    "    driver.back()"
   ]
  },
  {
   "cell_type": "code",
   "execution_count": 28,
   "id": "29ee4d64",
   "metadata": {
    "hidden": true
   },
   "outputs": [
    {
     "data": {
      "text/plain": [
       "['2022-07-03T19:20:07.000Z',\n",
       " '2022-07-03T15:55:47.000Z',\n",
       " '2022-07-03T14:50:00.000Z',\n",
       " '2022-07-03T13:14:00.000Z',\n",
       " '2022-07-03T12:00:00.000Z',\n",
       " '2022-07-03T09:30:00.000Z',\n",
       " '2022-07-03T01:22:19.000Z',\n",
       " '2022-07-03T00:37:25.000Z',\n",
       " '2022-07-02T19:36:12.000Z',\n",
       " '2022-07-02T15:12:00.000Z',\n",
       " '2022-07-02T14:51:00.000Z',\n",
       " '2022-07-02T13:45:00.000Z',\n",
       " '2022-07-02T12:00:00.000Z',\n",
       " '2022-07-02T11:30:00.000Z',\n",
       " '2022-07-02T09:30:00.000Z',\n",
       " '2022-07-02T09:00:00.000Z',\n",
       " '2022-07-02T05:26:46.000Z',\n",
       " '2022-07-02T04:42:44.000Z',\n",
       " '2022-07-01T23:38:05.000Z',\n",
       " '2022-07-01T23:07:58.000Z']"
      ]
     },
     "execution_count": 28,
     "metadata": {},
     "output_type": "execute_result"
    }
   ],
   "source": [
    "dates"
   ]
  },
  {
   "cell_type": "code",
   "execution_count": 29,
   "id": "2deafd0f",
   "metadata": {
    "hidden": true
   },
   "outputs": [
    {
     "data": {
      "text/plain": [
       "'By Rachel Savage\\nLONDON (Reuters) - Cryptocurrencies are the solution to tackling financial exclusion in the Central African Republic, its President Faustin-Archange Touadera said on Sunday, citing the cost of opening bank accounts.\\n\"The alternative to cash is cryptocurrency,\" Touadera said at a launch event for crypto initiative Sango hosted by the country, after it became the first African state to make bitcoin legal tender in April. \"For us, the formal economy is no longer an option.\"\\nThe move to adopt cryptocurrencies in a country where internet use is low and electricity unreliable has raised eyebrows among crypto experts, puzzled lawmakers and residents, and drawn words of caution from the International Monetary Fund.\\nThe Sango project, including a \"Sango Coin\", was backed by the Central African Republic\\'s National Assembly and spearheaded by Touadera, who said the token would provide access to the country\\'s \"mountain\" of natural resources, including gold and diamonds.\\nThe country\\'s \"Sango\" website https://sango.org/initiative says that it will \"facilitate the tokenization of Central African Republic\\'s resources for worldwide investors\".\\n\"Sango Coin will be the currency of the new generation of the Central African Republic,\" Touadera said, without providing specifics.\\nThe Central African Republic\\'s enthusiasm for cryptocurrencies does not seem to have been dented by recent losses in their values, with the price of bitcoin falling over 58% in the past three months, according to Refinitiv data.\\n(Reporting by Rachel Savage; Editing by Alexandra Hudson and Jan Harvey)'"
      ]
     },
     "execution_count": 29,
     "metadata": {},
     "output_type": "execute_result"
    }
   ],
   "source": [
    "full_texts[0]"
   ]
  },
  {
   "cell_type": "code",
   "execution_count": 30,
   "id": "c62e1ad2",
   "metadata": {
    "hidden": true
   },
   "outputs": [
    {
     "data": {
      "text/plain": [
       "'In a press release, MEXC Global said they are opening up users in over 180 countries to conveniently and cheaply buy crypto assets worth up to $5k in a single transaction.\\nAccording to the Head of Payment at MEXC Global, Anthony Guo, the decision is because they want to simplify and create a “connected user experience”.\\n“By enabling crypto purchase through Visa and MasterCard directly, MEXC Global is delivering a faster, simpler, and more connected experience for its users — making it easier for users to convert fiat into crypto assets, which opens up the ownership of cryptocurrency to millions of people where bank card is the dominant medium of transaction.”\\nMEXC Global is actively opening up more channels for fiat holders to acquire their favorite crypto assets using an easy-to-use and familiar payment method they are comfortable with. Despite the explosion of crypto and blockchain-enabled payment and remittance ramps, Visa, MasterCard, and other traditional payment options are used by fiat holders spread across the globe.\\nThese payment processors have refined their operations over the years. Notably, they have a more robust, global network of partners, primarily financial institutions. On the other hand, crypto solutions are still being developed and lagging. MEXC Global is filling this gap by linking the crypto and fiat worlds to fast-track the adoption of digital assets. This specifically considers the massive cost benefits associated with digital asset infrastructure.\\nMEXC Global and its newfound partners, MasterCard and Visa, realize what’s at stake. They are now committing to driving crypto adoption in a win-win arrangement. While MEXC Global will increase its user base and Visa and MasterCard profit from fees, end-users, on the other hand, can quickly shuttle between the fiat and crypto worlds without necessarily learning or familiarizing themselves with complex systems.\\nThe partnership follows the successful launch of the Global Bank Transfer Program that allows MEXC Global clients in Europe and the U.S. to deposit and withdraw using SWIFT and FedWire networks. Users who purchase crypto through the program also don’t pay trading fees.\\nMEXC Global has also launched an OTC payment service and activated P2P trading. Moreover, clients can use approved third-party portals like Simplex and Banxa.\\n '"
      ]
     },
     "execution_count": 30,
     "metadata": {},
     "output_type": "execute_result"
    }
   ],
   "source": [
    "full_texts[1]"
   ]
  },
  {
   "cell_type": "code",
   "execution_count": 31,
   "id": "9aec06d7",
   "metadata": {
    "hidden": true
   },
   "outputs": [
    {
     "data": {
      "text/plain": [
       "\"Don't miss CoinDesk's Consensus 2022, the must-attend crypto & blockchain festival experience of the year in Austin, TX this June 9-12.\\nHappy Fourth of July to all who celebrate! Hope you’re lucky enough to have time off. Spend some of it doing something you love.\\nThis is the last of a three-part newsletter series about the risks facing crypto right now.\\nHere are the three topics this newsletter series covers.\\nPrice and macro risk (two weeks ago)\\nPlatform and protocol risk (last week)\\nPublic company risk (this week)\\nThis week we’ll take a look at public company risk.\\nPublic companies are widely misunderstood, especially among the bitcoin and crypto crowd. That’s not really surprising. The whole thing is (enter: 100% of my cynicism) intentionally convoluted and confusing to make the investment bankers, lawyers and insiders on Wall Street feel smart.\\nI mean, these are called “public companies,” but they are decidedly private, for-profit enterprises. Words matter, but just not in high finance, apparently.\\n– George Kaloudis\\nFor context, I want to lay out what it means to “go public” or “be a public company.” A company goes public by selling some or all of its equity to a group of underwriters, who then issue stock to trade openly on exchanges like the Nasdaq or New York Stock Exchange.\\nYou’re reading Crypto Long & Short, our weekly newsletter featuring insights, news and analysis for the professional investor. Sign up here to get it in your inbox every Sunday.\\nIt’s “public” in that (almost) anyone can invest in this equity freely (in practice, it isn’t truly open). Also its financial information – from quarterly income statements to stock price – is publicly shared. Companies do this to receive an injection of money to aid growth or reward long-time equity holders and have easier access to future capital. These seem to be reasonable reasons to go public, and a lot of the time it works out.\\nBut for more context, I’m going to tell you what I think about going public.\\nStory continues\""
      ]
     },
     "execution_count": 31,
     "metadata": {},
     "output_type": "execute_result"
    }
   ],
   "source": [
    "full_texts[2]"
   ]
  },
  {
   "cell_type": "code",
   "execution_count": 32,
   "id": "011d0038",
   "metadata": {
    "hidden": true,
    "scrolled": true
   },
   "outputs": [
    {
     "data": {
      "text/html": [
       "<div>\n",
       "<style scoped>\n",
       "    .dataframe tbody tr th:only-of-type {\n",
       "        vertical-align: middle;\n",
       "    }\n",
       "\n",
       "    .dataframe tbody tr th {\n",
       "        vertical-align: top;\n",
       "    }\n",
       "\n",
       "    .dataframe thead th {\n",
       "        text-align: right;\n",
       "    }\n",
       "</style>\n",
       "<table border=\"1\" class=\"dataframe\">\n",
       "  <thead>\n",
       "    <tr style=\"text-align: right;\">\n",
       "      <th></th>\n",
       "      <th>TITLE</th>\n",
       "      <th>SUMMARY</th>\n",
       "      <th>SOURCE</th>\n",
       "      <th>DATES</th>\n",
       "      <th>FULL_TEXTS</th>\n",
       "    </tr>\n",
       "  </thead>\n",
       "  <tbody>\n",
       "    <tr>\n",
       "      <th>0</th>\n",
       "      <td>Central African Republic President: Crypto is ...</td>\n",
       "      <td>Cryptocurrencies are the solution to tackling ...</td>\n",
       "      <td>https://finance.yahoo.com/news/central-african...</td>\n",
       "      <td>2022-07-03T19:20:07.000Z</td>\n",
       "      <td>By Rachel Savage\\nLONDON (Reuters) - Cryptocur...</td>\n",
       "    </tr>\n",
       "    <tr>\n",
       "      <th>1</th>\n",
       "      <td>MEXC Global Now Accepts MasterCard and Visa fo...</td>\n",
       "      <td>In a press release, MEXC Global said they are ...</td>\n",
       "      <td>https://finance.yahoo.com/news/mexc-global-now...</td>\n",
       "      <td>2022-07-03T15:55:47.000Z</td>\n",
       "      <td>In a press release, MEXC Global said they are ...</td>\n",
       "    </tr>\n",
       "    <tr>\n",
       "      <th>2</th>\n",
       "      <td>Hard Times in Crypto: the Unintended Consequen...</td>\n",
       "      <td>The third and final reflection on a series of ...</td>\n",
       "      <td>https://finance.yahoo.com/news/hard-times-cryp...</td>\n",
       "      <td>2022-07-03T14:50:00.000Z</td>\n",
       "      <td>Don't miss CoinDesk's Consensus 2022, the must...</td>\n",
       "    </tr>\n",
       "    <tr>\n",
       "      <th>3</th>\n",
       "      <td>EU Sets First Rules to Regulate Cryptocurrencies</td>\n",
       "      <td>European Union officials agreed on rules that ...</td>\n",
       "      <td>https://finance.yahoo.com/m/9f6cc22d-3157-38f7...</td>\n",
       "      <td>2022-07-03T13:14:00.000Z</td>\n",
       "      <td>European Union officials agreed on rules that ...</td>\n",
       "    </tr>\n",
       "    <tr>\n",
       "      <th>4</th>\n",
       "      <td>How to Find a Crypto Exchange That's FDIC-Insured</td>\n",
       "      <td>One of the benefits of using cryptocurrency is...</td>\n",
       "      <td>https://finance.yahoo.com/news/crypto-exchange...</td>\n",
       "      <td>2022-07-03T12:00:00.000Z</td>\n",
       "      <td>fdic crypto exchanges\\nOne of the benefits of ...</td>\n",
       "    </tr>\n",
       "    <tr>\n",
       "      <th>5</th>\n",
       "      <td>Celsius Customers Are Losing Hope for Their Lo...</td>\n",
       "      <td>It has been three weeks since crypto lender Ce...</td>\n",
       "      <td>https://finance.yahoo.com/m/e574eb5b-39fd-3e44...</td>\n",
       "      <td>2022-07-03T09:30:00.000Z</td>\n",
       "      <td>It has been three weeks since crypto lender Ce...</td>\n",
       "    </tr>\n",
       "    <tr>\n",
       "      <th>6</th>\n",
       "      <td>Bitcoin Fear &amp; Greed Index Signals More Bitcoi...</td>\n",
       "      <td>The Bitcoin Fear &amp; Greed Index failed to break...</td>\n",
       "      <td>https://finance.yahoo.com/news/bitcoin-fear-gr...</td>\n",
       "      <td>2022-07-03T01:22:19.000Z</td>\n",
       "      <td>Key Insights:\\nOn Saturday, bitcoin (BTC) slip...</td>\n",
       "    </tr>\n",
       "    <tr>\n",
       "      <th>7</th>\n",
       "      <td>Crypto Market Daily Highlights – BTC Extends L...</td>\n",
       "      <td>Several cryptos saw their six-day losing strea...</td>\n",
       "      <td>https://finance.yahoo.com/news/crypto-market-d...</td>\n",
       "      <td>2022-07-03T00:37:25.000Z</td>\n",
       "      <td>Key Insights:\\nIt was a mixed Saturday session...</td>\n",
       "    </tr>\n",
       "    <tr>\n",
       "      <th>8</th>\n",
       "      <td>Meta’s Novi cryptocurrency wallet is shutting ...</td>\n",
       "      <td>Meta is shutting down Novi, its short-lived cr...</td>\n",
       "      <td>https://finance.yahoo.com/news/meta-novi-shutt...</td>\n",
       "      <td>2022-07-02T19:36:12.000Z</td>\n",
       "      <td>Meta is shutting down Novi, its short-lived cr...</td>\n",
       "    </tr>\n",
       "    <tr>\n",
       "      <th>9</th>\n",
       "      <td>Crypto’s Domino Effect Is Widening, Threatenin...</td>\n",
       "      <td>Losses in the digital-assets industry are blow...</td>\n",
       "      <td>https://finance.yahoo.com/m/ac3fee69-b438-3ff9...</td>\n",
       "      <td>2022-07-02T15:12:00.000Z</td>\n",
       "      <td>Losses in the digital-assets industry are blow...</td>\n",
       "    </tr>\n",
       "    <tr>\n",
       "      <th>10</th>\n",
       "      <td>Crypto hedge fund Three Arrows files for U.S. ...</td>\n",
       "      <td>Crypto hedge fund Three Arrows Capital has fil...</td>\n",
       "      <td>https://finance.yahoo.com/m/b1d54f99-e49d-3cc3...</td>\n",
       "      <td>2022-07-02T14:51:00.000Z</td>\n",
       "      <td>Crypto hedge fund Three Arrows Capital has fil...</td>\n",
       "    </tr>\n",
       "    <tr>\n",
       "      <th>11</th>\n",
       "      <td>Celebrities Erase Their Crypto Ties As Crypto ...</td>\n",
       "      <td>Celebrity endorsements have a long history, bu...</td>\n",
       "      <td>https://finance.yahoo.com/m/a24dcbcd-7d0a-3929...</td>\n",
       "      <td>2022-07-02T13:45:00.000Z</td>\n",
       "      <td>Celebrity endorsements have a long history, bu...</td>\n",
       "    </tr>\n",
       "    <tr>\n",
       "      <th>12</th>\n",
       "      <td>Find a Financial Advisor Near You Who Understa...</td>\n",
       "      <td>At the time of writing the cryptocurrency mark...</td>\n",
       "      <td>https://finance.yahoo.com/news/financial-advis...</td>\n",
       "      <td>2022-07-02T12:00:00.000Z</td>\n",
       "      <td>crypto financial advisor\\nAt the time of writi...</td>\n",
       "    </tr>\n",
       "    <tr>\n",
       "      <th>13</th>\n",
       "      <td>Grayscale Offers a Giant Bitcoin Discount. It’...</td>\n",
       "      <td>The fund has been tempting because it trades a...</td>\n",
       "      <td>https://finance.yahoo.com/m/edd01da6-ce98-38c1...</td>\n",
       "      <td>2022-07-02T11:30:00.000Z</td>\n",
       "      <td>The fund has been tempting because it trades a...</td>\n",
       "    </tr>\n",
       "    <tr>\n",
       "      <th>14</th>\n",
       "      <td>Blockchain with 'Chinese characteristics' quie...</td>\n",
       "      <td>The growth of China's blockchain market has ac...</td>\n",
       "      <td>https://finance.yahoo.com/news/blockchain-chin...</td>\n",
       "      <td>2022-07-02T09:30:00.000Z</td>\n",
       "      <td>The growth of China's blockchain market has ac...</td>\n",
       "    </tr>\n",
       "    <tr>\n",
       "      <th>15</th>\n",
       "      <td>What Traders Are Saying About Bitcoin's Bigges...</td>\n",
       "      <td>Poor macroeconomic sentiment, fears of inflati...</td>\n",
       "      <td>https://finance.yahoo.com/news/traders-saying-...</td>\n",
       "      <td>2022-07-02T09:00:00.000Z</td>\n",
       "      <td>Don't miss CoinDesk's Consensus 2022, the must...</td>\n",
       "    </tr>\n",
       "    <tr>\n",
       "      <th>16</th>\n",
       "      <td>Bitcoin (BTC) Fear &amp; Greed Index Leaves BTC at...</td>\n",
       "      <td>The Bitcoin Fear &amp; Greed Index rose modestly t...</td>\n",
       "      <td>https://finance.yahoo.com/news/bitcoin-btc-fea...</td>\n",
       "      <td>2022-07-02T05:26:46.000Z</td>\n",
       "      <td>Key Insights:\\nOn Friday, bitcoin (BTC) slid b...</td>\n",
       "    </tr>\n",
       "    <tr>\n",
       "      <th>17</th>\n",
       "      <td>Crypto Market Daily Highlights – ADA, BTC, ETH...</td>\n",
       "      <td>It was a choppy Friday session, with the bitco...</td>\n",
       "      <td>https://finance.yahoo.com/news/crypto-market-d...</td>\n",
       "      <td>2022-07-02T04:42:44.000Z</td>\n",
       "      <td>Key Insights:\\nIt was a bearish Friday session...</td>\n",
       "    </tr>\n",
       "    <tr>\n",
       "      <th>18</th>\n",
       "      <td>Crypto hedge fund Three Arrows files for Chapt...</td>\n",
       "      <td>Singapore-based 3AC is one of the highest-prof...</td>\n",
       "      <td>https://finance.yahoo.com/news/crypto-hedge-fu...</td>\n",
       "      <td>2022-07-01T23:38:05.000Z</td>\n",
       "      <td>(Reuters) - Crypto hedge fund Three Arrows Cap...</td>\n",
       "    </tr>\n",
       "    <tr>\n",
       "      <th>19</th>\n",
       "      <td>Crypto’s Brutal Week Ends With a Trading Halt ...</td>\n",
       "      <td>(Bloomberg) -- The meltdown in cryptocurrency ...</td>\n",
       "      <td>https://finance.yahoo.com/news/crypto-broker-v...</td>\n",
       "      <td>2022-07-01T23:07:58.000Z</td>\n",
       "      <td>(Bloomberg) -- The meltdown in cryptocurrency ...</td>\n",
       "    </tr>\n",
       "  </tbody>\n",
       "</table>\n",
       "</div>"
      ],
      "text/plain": [
       "                                                TITLE  \\\n",
       "0   Central African Republic President: Crypto is ...   \n",
       "1   MEXC Global Now Accepts MasterCard and Visa fo...   \n",
       "2   Hard Times in Crypto: the Unintended Consequen...   \n",
       "3    EU Sets First Rules to Regulate Cryptocurrencies   \n",
       "4   How to Find a Crypto Exchange That's FDIC-Insured   \n",
       "5   Celsius Customers Are Losing Hope for Their Lo...   \n",
       "6   Bitcoin Fear & Greed Index Signals More Bitcoi...   \n",
       "7   Crypto Market Daily Highlights – BTC Extends L...   \n",
       "8   Meta’s Novi cryptocurrency wallet is shutting ...   \n",
       "9   Crypto’s Domino Effect Is Widening, Threatenin...   \n",
       "10  Crypto hedge fund Three Arrows files for U.S. ...   \n",
       "11  Celebrities Erase Their Crypto Ties As Crypto ...   \n",
       "12  Find a Financial Advisor Near You Who Understa...   \n",
       "13  Grayscale Offers a Giant Bitcoin Discount. It’...   \n",
       "14  Blockchain with 'Chinese characteristics' quie...   \n",
       "15  What Traders Are Saying About Bitcoin's Bigges...   \n",
       "16  Bitcoin (BTC) Fear & Greed Index Leaves BTC at...   \n",
       "17  Crypto Market Daily Highlights – ADA, BTC, ETH...   \n",
       "18  Crypto hedge fund Three Arrows files for Chapt...   \n",
       "19  Crypto’s Brutal Week Ends With a Trading Halt ...   \n",
       "\n",
       "                                              SUMMARY  \\\n",
       "0   Cryptocurrencies are the solution to tackling ...   \n",
       "1   In a press release, MEXC Global said they are ...   \n",
       "2   The third and final reflection on a series of ...   \n",
       "3   European Union officials agreed on rules that ...   \n",
       "4   One of the benefits of using cryptocurrency is...   \n",
       "5   It has been three weeks since crypto lender Ce...   \n",
       "6   The Bitcoin Fear & Greed Index failed to break...   \n",
       "7   Several cryptos saw their six-day losing strea...   \n",
       "8   Meta is shutting down Novi, its short-lived cr...   \n",
       "9   Losses in the digital-assets industry are blow...   \n",
       "10  Crypto hedge fund Three Arrows Capital has fil...   \n",
       "11  Celebrity endorsements have a long history, bu...   \n",
       "12  At the time of writing the cryptocurrency mark...   \n",
       "13  The fund has been tempting because it trades a...   \n",
       "14  The growth of China's blockchain market has ac...   \n",
       "15  Poor macroeconomic sentiment, fears of inflati...   \n",
       "16  The Bitcoin Fear & Greed Index rose modestly t...   \n",
       "17  It was a choppy Friday session, with the bitco...   \n",
       "18  Singapore-based 3AC is one of the highest-prof...   \n",
       "19  (Bloomberg) -- The meltdown in cryptocurrency ...   \n",
       "\n",
       "                                               SOURCE  \\\n",
       "0   https://finance.yahoo.com/news/central-african...   \n",
       "1   https://finance.yahoo.com/news/mexc-global-now...   \n",
       "2   https://finance.yahoo.com/news/hard-times-cryp...   \n",
       "3   https://finance.yahoo.com/m/9f6cc22d-3157-38f7...   \n",
       "4   https://finance.yahoo.com/news/crypto-exchange...   \n",
       "5   https://finance.yahoo.com/m/e574eb5b-39fd-3e44...   \n",
       "6   https://finance.yahoo.com/news/bitcoin-fear-gr...   \n",
       "7   https://finance.yahoo.com/news/crypto-market-d...   \n",
       "8   https://finance.yahoo.com/news/meta-novi-shutt...   \n",
       "9   https://finance.yahoo.com/m/ac3fee69-b438-3ff9...   \n",
       "10  https://finance.yahoo.com/m/b1d54f99-e49d-3cc3...   \n",
       "11  https://finance.yahoo.com/m/a24dcbcd-7d0a-3929...   \n",
       "12  https://finance.yahoo.com/news/financial-advis...   \n",
       "13  https://finance.yahoo.com/m/edd01da6-ce98-38c1...   \n",
       "14  https://finance.yahoo.com/news/blockchain-chin...   \n",
       "15  https://finance.yahoo.com/news/traders-saying-...   \n",
       "16  https://finance.yahoo.com/news/bitcoin-btc-fea...   \n",
       "17  https://finance.yahoo.com/news/crypto-market-d...   \n",
       "18  https://finance.yahoo.com/news/crypto-hedge-fu...   \n",
       "19  https://finance.yahoo.com/news/crypto-broker-v...   \n",
       "\n",
       "                       DATES  \\\n",
       "0   2022-07-03T19:20:07.000Z   \n",
       "1   2022-07-03T15:55:47.000Z   \n",
       "2   2022-07-03T14:50:00.000Z   \n",
       "3   2022-07-03T13:14:00.000Z   \n",
       "4   2022-07-03T12:00:00.000Z   \n",
       "5   2022-07-03T09:30:00.000Z   \n",
       "6   2022-07-03T01:22:19.000Z   \n",
       "7   2022-07-03T00:37:25.000Z   \n",
       "8   2022-07-02T19:36:12.000Z   \n",
       "9   2022-07-02T15:12:00.000Z   \n",
       "10  2022-07-02T14:51:00.000Z   \n",
       "11  2022-07-02T13:45:00.000Z   \n",
       "12  2022-07-02T12:00:00.000Z   \n",
       "13  2022-07-02T11:30:00.000Z   \n",
       "14  2022-07-02T09:30:00.000Z   \n",
       "15  2022-07-02T09:00:00.000Z   \n",
       "16  2022-07-02T05:26:46.000Z   \n",
       "17  2022-07-02T04:42:44.000Z   \n",
       "18  2022-07-01T23:38:05.000Z   \n",
       "19  2022-07-01T23:07:58.000Z   \n",
       "\n",
       "                                           FULL_TEXTS  \n",
       "0   By Rachel Savage\\nLONDON (Reuters) - Cryptocur...  \n",
       "1   In a press release, MEXC Global said they are ...  \n",
       "2   Don't miss CoinDesk's Consensus 2022, the must...  \n",
       "3   European Union officials agreed on rules that ...  \n",
       "4   fdic crypto exchanges\\nOne of the benefits of ...  \n",
       "5   It has been three weeks since crypto lender Ce...  \n",
       "6   Key Insights:\\nOn Saturday, bitcoin (BTC) slip...  \n",
       "7   Key Insights:\\nIt was a mixed Saturday session...  \n",
       "8   Meta is shutting down Novi, its short-lived cr...  \n",
       "9   Losses in the digital-assets industry are blow...  \n",
       "10  Crypto hedge fund Three Arrows Capital has fil...  \n",
       "11  Celebrity endorsements have a long history, bu...  \n",
       "12  crypto financial advisor\\nAt the time of writi...  \n",
       "13  The fund has been tempting because it trades a...  \n",
       "14  The growth of China's blockchain market has ac...  \n",
       "15  Don't miss CoinDesk's Consensus 2022, the must...  \n",
       "16  Key Insights:\\nOn Friday, bitcoin (BTC) slid b...  \n",
       "17  Key Insights:\\nIt was a bearish Friday session...  \n",
       "18  (Reuters) - Crypto hedge fund Three Arrows Cap...  \n",
       "19  (Bloomberg) -- The meltdown in cryptocurrency ...  "
      ]
     },
     "execution_count": 32,
     "metadata": {},
     "output_type": "execute_result"
    }
   ],
   "source": [
    "df[\"DATES\"] = dates\n",
    "df[\"FULL_TEXTS\"] = full_texts\n",
    "df"
   ]
  },
  {
   "cell_type": "markdown",
   "id": "fe4c8b8b",
   "metadata": {
    "heading_collapsed": true
   },
   "source": [
    "# handle \"click to continue\""
   ]
  },
  {
   "cell_type": "code",
   "execution_count": 33,
   "id": "d128f20e",
   "metadata": {
    "hidden": true
   },
   "outputs": [
    {
     "name": "stdout",
     "output_type": "stream",
     "text": [
      "https://finance.yahoo.com/news/central-african-republic-president-crypto-192007483.html\n",
      "https://finance.yahoo.com/news/mexc-global-now-accepts-mastercard-155547804.html\n",
      "https://finance.yahoo.com/news/hard-times-crypto-unintended-consequences-145000460.html\n"
     ]
    }
   ],
   "source": [
    "for i in range(3):\n",
    "    print(df.iloc[i,2])"
   ]
  },
  {
   "cell_type": "code",
   "execution_count": 34,
   "id": "04ccfeba",
   "metadata": {
    "hidden": true
   },
   "outputs": [],
   "source": [
    "driver = create_driver('https://finance.yahoo.com/news/crypto-exchange-thats-fdic-insured-120000031.html')\n",
    "driver.find_element(By.XPATH, '//*[@id=\"consent-page\"]/div/div/div/form/div[2]/div[2]/button[1]').click()\n",
    "driver.implicitly_wait(5)\n",
    "driver.find_element(By.XPATH, '//article/div/div/div/div/div/div[2]/div[3]/div[2]/button').click()"
   ]
  },
  {
   "cell_type": "code",
   "execution_count": 35,
   "id": "ce35639a",
   "metadata": {
    "hidden": true
   },
   "outputs": [
    {
     "data": {
      "text/plain": [
       "\"How to Find a Crypto Exchange That's FDIC-Insured\""
      ]
     },
     "execution_count": 35,
     "metadata": {},
     "output_type": "execute_result"
    }
   ],
   "source": [
    "driver.title"
   ]
  },
  {
   "cell_type": "code",
   "execution_count": 36,
   "id": "34528b29",
   "metadata": {
    "hidden": true,
    "scrolled": true
   },
   "outputs": [
    {
     "data": {
      "text/plain": [
       "'fdic crypto exchanges\\nOne of the benefits of using cryptocurrency is the anonymity you receive through transactions. Unfortunately, this is also one of the main reasons that most exchanges offer no FDIC protection. This means that if the crypto exchange loses your dollar reserves, you have no protection. However, a few exchanges do participate by holding dollar reserves in an FDIC-insured bank. With those exchanges, if you lose your money on deposit the FDIC will reimburse those losses up to the program’s cap.\\nIf you’re looking to hold large dollar amounts in an exchange you may want to first speak to a financial advisor who can help you plan accordingly.\\nWhat Is the FDIC?\\nThe Federal Deposit Insurance Corporation, better known as the FDIC, is a program that insures cash deposits in bank accounts. It was created in the wake of the Great Depression when panicked customers rushed to take their money out of banks for fear of losing those deposits. Since banks use the money they hold on deposits to operate, a bank rush can put the entire institution out of business and leave customers with nothing.\\nTo keep this from happening again the government now insures bank deposits. If your bank goes out of business or otherwise runs out of money, the government will reimburse any lost funds from your checking or savings accounts. This insurance covers up to $250,000 in losses per person per bank, and only applies to U.S. dollars held by licensed U.S. banks that pay into the FDIC’s insurance program.\\nCritically this means that the FDIC does not protect foreign currency or investment assets. If you have dollars in a checking or savings account and your bank loses the money, the FDIC will cover those losses. If you hold a stock portfolio and the market crashes, the government won’t make you whole.\\nDoes the FDIC Insure Cryptocurrency?\\nfdic crypto exchanges\\nThe FDIC does not protect cryptocurrency because it considers crypto investment assets, not money. Even if the government changes its position on that issue, the FDIC only insures U.S. dollars. The result is that if you hold cryptocurrency like Bitcoins, Ethereum, Dogecoin or any other similar assets, the FDIC treats them like investment assets. It does not reimburse you for any losses, including:\\nLost value of existing coins if the value of individual tokens in your portfolio declines;\\nLost coins themselves if the number of tokens in your portfolio declines.\\nSo, for example, say that you have a portfolio with a cryptocurrency exchange. The exchange is hacked and thieves steal your cryptocurrency tokens, or perhaps the exchange goes out of business and can no longer honor your cryptocurrency tokens. The FDIC will not reimburse you for these losses.\\nHowever, the FDIC might insure the U.S. dollars that you hold in a cryptocurrency exchange. Typically, this will be the case for exchanges that hold customer funds in FDIC insured banks. This means that the exchange doesn’t hold the money itself. Instead, any dollars in your account are held by a third-party bank and moved as necessary when you buy and sell cryptocurrencies.\\nAs a result, it’s more technically accurate to say that some cryptocurrency exchanges hold their money in U.S., FDIC insured banks rather than that the FDIC covers some cryptocurrency exchanges.\\nThis has become increasingly important in recent months. As the cryptocurrency market has lost billions, several projects and even entire exchanges have gone out of business. If you have money on deposit in an unprotected exchange you might lose not only your cryptocurrency but also any U.S. dollars you had in that account. If your exchange uses an FDIC-protected bank, on the other hand, you are protected up to the FDIC’s limit of $250,000 per person.\\nList of FDIC-Insured Cryptocurrency Exchanges\\nIt would be impossible to give an exhaustive list of all cryptocurrency exchanges that do or do not offer FDIC protection. There are simply too many of them. However, the largest exchanges in the world do more than $1 billion in trading volume per day (exchange size as of time of writing).\\nAmong those largest exchanges in the world, and we included a few that have less volume but are popular exchanges in the U.S., here are the ones that do and do not offer FDIC protection for your dollars on your deposits:\\nBinance – Insured for investors who trade with Binance.us\\nUpbit– Not insured\\nCITEX – Not insured\\nTOKENCAN – Not insured\\nBitForex – Not insured\\nP2PB2B – Not insured\\nLBank – Not insured\\nAAX – Not insured\\nFTX – Insured for investors who trade with FTX.us\\nCom– Not insured\\nGemini – Insured\\nio– Not insured\\nHitBTC – Not insured\\nCoinsbit– Not insured\\nBitrue– Not insured\\nDeepcoin – Not insured\\nIndoEx– Not insured\\nCoinbase – Insured\\nHuobi Global– Not insured\\nKuCoin – Not insured\\nOKX – Not insured\\nChangelly PRO – Not insured\\nBitMart – Not insured\\nMEXC – Not insured\\nCoinFLEX – Not insured\\nHoo – Not insured\\nBKEX – Not insured\\nDigiFinex – Not insured\\nPionex – Not insured\\nCypto.com – Insured\\nSo to sum it up, if you’re looking for FDIC insurance for your dollars on exchanges you’ll want to choose Binance, Gemini, Coinbase or Crypto.com from the list above.\\nThe Bottom Line\\nfdic crypto exchanges\\nThe FDIC is a U.S. government program that protects bank customers against the loss of their deposits. The FDIC does not cover cryptocurrency losses, but if your exchange holds your money in a qualifying bank the FDIC might insure any U.S. dollars that you have on deposit. When buying a significant amount of crypto, it’s important to work with a financial advisor to make sure your assets are protected.\\nTips for Buying Crypto\\nIf you’re wanting to purchase crypto as part of your overall financial plan, you may want to consult with a financial advisor first to make sure your money is protected. Finding a qualified financial advisor doesn’t have to be hard. SmartAsset’s free tool matches you with up to three financial advisors who serve your area, and you can interview your advisor matches at no cost to decide which one is right for you. If you’re ready to find an advisor who can help you achieve your financial goals, get started now.\\nHow can you buy cryptocurrency? While you should be very careful before treating crypto as an investment if you do have some high-risk/high-speculation dollars on hand, here’s where to start.\\nHow can you choose a bank? Most consumers pick the institution closest to them, but that’s not always the right move. With SmartAsset’s matching tool you can find a financial professional in your area to advise you on issues just like this.\\n©iStock.com/gorodenkoff ©iStock.com/ArtistGNDphotography, ©iStock.com/ArtistGNDphotography\\nThe post List of FDIC-Insured Cryptocurrency Exchanges appeared first on SmartAsset Blog.'"
      ]
     },
     "execution_count": 36,
     "metadata": {},
     "output_type": "execute_result"
    }
   ],
   "source": [
    "driver.find_element(By.CLASS_NAME, \"caas-body\").text"
   ]
  },
  {
   "cell_type": "code",
   "execution_count": 37,
   "id": "35cbfa54",
   "metadata": {
    "hidden": true
   },
   "outputs": [
    {
     "name": "stdout",
     "output_type": "stream",
     "text": [
      "fdic crypto exchanges\n",
      "One of the benefits of using cryptocurrency is the anonymity you receive through transactions. Unfortunately, this is also one of the main reasons that most exchanges offer no FDIC protection. This means that if the crypto exchange loses your dollar reserves, you have no protection. However, a few exchanges do participate by holding dollar reserves in an FDIC-insured bank. With those exchanges, if you lose your money on deposit the FDIC will reimburse those losses up to the program’s cap.\n",
      "If you’re looking to hold large dollar amounts in an exchange you may want to first speak to a financial advisor who can help you plan accordingly.\n",
      "What Is the FDIC?\n",
      "The Federal Deposit Insurance Corporation, better known as the FDIC, is a program that insures cash deposits in bank accounts. It was created in the wake of the Great Depression when panicked customers rushed to take their money out of banks for fear of losing those deposits. Since banks use the money they hold on deposits to operate, a bank rush can put the entire institution out of business and leave customers with nothing.\n",
      "To keep this from happening again the government now insures bank deposits. If your bank goes out of business or otherwise runs out of money, the government will reimburse any lost funds from your checking or savings accounts. This insurance covers up to $250,000 in losses per person per bank, and only applies to U.S. dollars held by licensed U.S. banks that pay into the FDIC’s insurance program.\n",
      "Critically this means that the FDIC does not protect foreign currency or investment assets. If you have dollars in a checking or savings account and your bank loses the money, the FDIC will cover those losses. If you hold a stock portfolio and the market crashes, the government won’t make you whole.\n",
      "Does the FDIC Insure Cryptocurrency?\n",
      "fdic crypto exchanges\n",
      "The FDIC does not protect cryptocurrency because it considers crypto investment assets, not money. Even if the government changes its position on that issue, the FDIC only insures U.S. dollars. The result is that if you hold cryptocurrency like Bitcoins, Ethereum, Dogecoin or any other similar assets, the FDIC treats them like investment assets. It does not reimburse you for any losses, including:\n",
      "Lost value of existing coins if the value of individual tokens in your portfolio declines;\n",
      "Lost coins themselves if the number of tokens in your portfolio declines.\n",
      "So, for example, say that you have a portfolio with a cryptocurrency exchange. The exchange is hacked and thieves steal your cryptocurrency tokens, or perhaps the exchange goes out of business and can no longer honor your cryptocurrency tokens. The FDIC will not reimburse you for these losses.\n",
      "However, the FDIC might insure the U.S. dollars that you hold in a cryptocurrency exchange. Typically, this will be the case for exchanges that hold customer funds in FDIC insured banks. This means that the exchange doesn’t hold the money itself. Instead, any dollars in your account are held by a third-party bank and moved as necessary when you buy and sell cryptocurrencies.\n",
      "As a result, it’s more technically accurate to say that some cryptocurrency exchanges hold their money in U.S., FDIC insured banks rather than that the FDIC covers some cryptocurrency exchanges.\n",
      "This has become increasingly important in recent months. As the cryptocurrency market has lost billions, several projects and even entire exchanges have gone out of business. If you have money on deposit in an unprotected exchange you might lose not only your cryptocurrency but also any U.S. dollars you had in that account. If your exchange uses an FDIC-protected bank, on the other hand, you are protected up to the FDIC’s limit of $250,000 per person.\n",
      "List of FDIC-Insured Cryptocurrency Exchanges\n",
      "It would be impossible to give an exhaustive list of all cryptocurrency exchanges that do or do not offer FDIC protection. There are simply too many of them. However, the largest exchanges in the world do more than $1 billion in trading volume per day (exchange size as of time of writing).\n",
      "Among those largest exchanges in the world, and we included a few that have less volume but are popular exchanges in the U.S., here are the ones that do and do not offer FDIC protection for your dollars on your deposits:\n",
      "Binance – Insured for investors who trade with Binance.us\n",
      "Upbit– Not insured\n",
      "CITEX – Not insured\n",
      "TOKENCAN – Not insured\n",
      "BitForex – Not insured\n",
      "P2PB2B – Not insured\n",
      "LBank – Not insured\n",
      "AAX – Not insured\n",
      "FTX – Insured for investors who trade with FTX.us\n",
      "Com– Not insured\n",
      "Gemini – Insured\n",
      "io– Not insured\n",
      "HitBTC – Not insured\n",
      "Coinsbit– Not insured\n",
      "Bitrue– Not insured\n",
      "Deepcoin – Not insured\n",
      "IndoEx– Not insured\n",
      "Coinbase – Insured\n",
      "Huobi Global– Not insured\n",
      "KuCoin – Not insured\n",
      "OKX – Not insured\n",
      "Changelly PRO – Not insured\n",
      "BitMart – Not insured\n",
      "MEXC – Not insured\n",
      "CoinFLEX – Not insured\n",
      "Hoo – Not insured\n",
      "BKEX – Not insured\n",
      "DigiFinex – Not insured\n",
      "Pionex – Not insured\n",
      "Cypto.com – Insured\n",
      "So to sum it up, if you’re looking for FDIC insurance for your dollars on exchanges you’ll want to choose Binance, Gemini, Coinbase or Crypto.com from the list above.\n",
      "The Bottom Line\n",
      "fdic crypto exchanges\n",
      "The FDIC is a U.S. government program that protects bank customers against the loss of their deposits. The FDIC does not cover cryptocurrency losses, but if your exchange holds your money in a qualifying bank the FDIC might insure any U.S. dollars that you have on deposit. When buying a significant amount of crypto, it’s important to work with a financial advisor to make sure your assets are protected.\n",
      "Tips for Buying Crypto\n",
      "If you’re wanting to purchase crypto as part of your overall financial plan, you may want to consult with a financial advisor first to make sure your money is protected. Finding a qualified financial advisor doesn’t have to be hard. SmartAsset’s free tool matches you with up to three financial advisors who serve your area, and you can interview your advisor matches at no cost to decide which one is right for you. If you’re ready to find an advisor who can help you achieve your financial goals, get started now.\n",
      "How can you buy cryptocurrency? While you should be very careful before treating crypto as an investment if you do have some high-risk/high-speculation dollars on hand, here’s where to start.\n",
      "How can you choose a bank? Most consumers pick the institution closest to them, but that’s not always the right move. With SmartAsset’s matching tool you can find a financial professional in your area to advise you on issues just like this.\n",
      "©iStock.com/gorodenkoff ©iStock.com/ArtistGNDphotography, ©iStock.com/ArtistGNDphotography\n",
      "The post List of FDIC-Insured Cryptocurrency Exchanges appeared first on SmartAsset Blog.\n"
     ]
    }
   ],
   "source": [
    "driver = create_driver('https://finance.yahoo.com/news/crypto-exchange-thats-fdic-insured-120000031.html')\n",
    "driver.find_element(By.XPATH, '//*[@id=\"consent-page\"]/div/div/div/form/div[2]/div[2]/button[1]').click()\n",
    "driver.implicitly_wait(5)\n",
    "try:\n",
    "    driver.find_element(By.XPATH, '//article/div/div/div/div/div/div[2]/div[3]/div[2]/button').click()\n",
    "except: \n",
    "    pass\n",
    "\n",
    "text = driver.find_element(By.CLASS_NAME, \"caas-body\").text\n",
    "date = driver.find_element(By.TAG_NAME, 'time').get_attribute('datetime')\n",
    "\n",
    "print(text)\n",
    "    \n"
   ]
  },
  {
   "cell_type": "code",
   "execution_count": 38,
   "id": "c6477d11",
   "metadata": {
    "hidden": true
   },
   "outputs": [
    {
     "name": "stdout",
     "output_type": "stream",
     "text": [
      "It has been three weeks since crypto lender Celsius Network LLC took the drastic step of halting customers’ withdrawals. Alla Driksne says she has six figures worth of bitcoin and ethereum—her life savings—tied up in a Celsius account. On June 12, a Sunday, the company said it had paused customer withdrawals, saying it needed “to stabilize liquidity and operations.”\n"
     ]
    }
   ],
   "source": [
    "driver = create_driver('https://finance.yahoo.com/m/e574eb5b-39fd-3e44-9ec6-7cfbe1936144/celsius-customers-are-losing.html')\n",
    "driver.find_element(By.XPATH, '//*[@id=\"consent-page\"]/div/div/div/form/div[2]/div[2]/button[1]').click()\n",
    "driver.implicitly_wait(5)\n",
    "try:\n",
    "    driver.find_element(By.XPATH, '//article/div/div/div/div/div/div[2]/div[3]/div[2]/button').click()\n",
    "except: \n",
    "    pass\n",
    "\n",
    "text = driver.find_element(By.CLASS_NAME, \"caas-body\").text\n",
    "date = driver.find_element(By.TAG_NAME, 'time').get_attribute('datetime')\n",
    "\n",
    "print(text)"
   ]
  },
  {
   "cell_type": "code",
   "execution_count": 39,
   "id": "46993620",
   "metadata": {
    "hidden": true
   },
   "outputs": [
    {
     "name": "stdout",
     "output_type": "stream",
     "text": [
      "20\n"
     ]
    },
    {
     "data": {
      "text/html": [
       "<div>\n",
       "<style scoped>\n",
       "    .dataframe tbody tr th:only-of-type {\n",
       "        vertical-align: middle;\n",
       "    }\n",
       "\n",
       "    .dataframe tbody tr th {\n",
       "        vertical-align: top;\n",
       "    }\n",
       "\n",
       "    .dataframe thead th {\n",
       "        text-align: right;\n",
       "    }\n",
       "</style>\n",
       "<table border=\"1\" class=\"dataframe\">\n",
       "  <thead>\n",
       "    <tr style=\"text-align: right;\">\n",
       "      <th></th>\n",
       "      <th>TITLE</th>\n",
       "      <th>SUMMARY</th>\n",
       "      <th>SOURCE</th>\n",
       "    </tr>\n",
       "  </thead>\n",
       "  <tbody>\n",
       "    <tr>\n",
       "      <th>0</th>\n",
       "      <td>Central African Republic President: Crypto is ...</td>\n",
       "      <td>Cryptocurrencies are the solution to tackling ...</td>\n",
       "      <td>https://finance.yahoo.com/news/central-african...</td>\n",
       "    </tr>\n",
       "    <tr>\n",
       "      <th>1</th>\n",
       "      <td>MEXC Global Now Accepts MasterCard and Visa fo...</td>\n",
       "      <td>In a press release, MEXC Global said they are ...</td>\n",
       "      <td>https://finance.yahoo.com/news/mexc-global-now...</td>\n",
       "    </tr>\n",
       "    <tr>\n",
       "      <th>2</th>\n",
       "      <td>Hard Times in Crypto: the Unintended Consequen...</td>\n",
       "      <td>The third and final reflection on a series of ...</td>\n",
       "      <td>https://finance.yahoo.com/news/hard-times-cryp...</td>\n",
       "    </tr>\n",
       "    <tr>\n",
       "      <th>3</th>\n",
       "      <td>EU Sets First Rules to Regulate Cryptocurrencies</td>\n",
       "      <td>European Union officials agreed on rules that ...</td>\n",
       "      <td>https://finance.yahoo.com/m/9f6cc22d-3157-38f7...</td>\n",
       "    </tr>\n",
       "    <tr>\n",
       "      <th>4</th>\n",
       "      <td>How to Find a Crypto Exchange That's FDIC-Insured</td>\n",
       "      <td>One of the benefits of using cryptocurrency is...</td>\n",
       "      <td>https://finance.yahoo.com/news/crypto-exchange...</td>\n",
       "    </tr>\n",
       "    <tr>\n",
       "      <th>5</th>\n",
       "      <td>Celsius Customers Are Losing Hope for Their Lo...</td>\n",
       "      <td>It has been three weeks since crypto lender Ce...</td>\n",
       "      <td>https://finance.yahoo.com/m/e574eb5b-39fd-3e44...</td>\n",
       "    </tr>\n",
       "    <tr>\n",
       "      <th>6</th>\n",
       "      <td>Bitcoin Fear &amp; Greed Index Signals More Bitcoi...</td>\n",
       "      <td>The Bitcoin Fear &amp; Greed Index failed to break...</td>\n",
       "      <td>https://finance.yahoo.com/news/bitcoin-fear-gr...</td>\n",
       "    </tr>\n",
       "    <tr>\n",
       "      <th>7</th>\n",
       "      <td>Crypto Market Daily Highlights – BTC Extends L...</td>\n",
       "      <td>Several cryptos saw their six-day losing strea...</td>\n",
       "      <td>https://finance.yahoo.com/news/crypto-market-d...</td>\n",
       "    </tr>\n",
       "    <tr>\n",
       "      <th>8</th>\n",
       "      <td>Meta’s Novi cryptocurrency wallet is shutting ...</td>\n",
       "      <td>Meta is shutting down Novi, its short-lived cr...</td>\n",
       "      <td>https://finance.yahoo.com/news/meta-novi-shutt...</td>\n",
       "    </tr>\n",
       "    <tr>\n",
       "      <th>9</th>\n",
       "      <td>Crypto’s Domino Effect Is Widening, Threatenin...</td>\n",
       "      <td>Losses in the digital-assets industry are blow...</td>\n",
       "      <td>https://finance.yahoo.com/m/ac3fee69-b438-3ff9...</td>\n",
       "    </tr>\n",
       "    <tr>\n",
       "      <th>10</th>\n",
       "      <td>Crypto hedge fund Three Arrows files for U.S. ...</td>\n",
       "      <td>Crypto hedge fund Three Arrows Capital has fil...</td>\n",
       "      <td>https://finance.yahoo.com/m/b1d54f99-e49d-3cc3...</td>\n",
       "    </tr>\n",
       "    <tr>\n",
       "      <th>11</th>\n",
       "      <td>Celebrities Erase Their Crypto Ties As Crypto ...</td>\n",
       "      <td>Celebrity endorsements have a long history, bu...</td>\n",
       "      <td>https://finance.yahoo.com/m/a24dcbcd-7d0a-3929...</td>\n",
       "    </tr>\n",
       "    <tr>\n",
       "      <th>12</th>\n",
       "      <td>Find a Financial Advisor Near You Who Understa...</td>\n",
       "      <td>At the time of writing the cryptocurrency mark...</td>\n",
       "      <td>https://finance.yahoo.com/news/financial-advis...</td>\n",
       "    </tr>\n",
       "    <tr>\n",
       "      <th>13</th>\n",
       "      <td>Grayscale Offers a Giant Bitcoin Discount. It’...</td>\n",
       "      <td>The fund has been tempting because it trades a...</td>\n",
       "      <td>https://finance.yahoo.com/m/edd01da6-ce98-38c1...</td>\n",
       "    </tr>\n",
       "    <tr>\n",
       "      <th>14</th>\n",
       "      <td>Blockchain with 'Chinese characteristics' quie...</td>\n",
       "      <td>The growth of China's blockchain market has ac...</td>\n",
       "      <td>https://finance.yahoo.com/news/blockchain-chin...</td>\n",
       "    </tr>\n",
       "    <tr>\n",
       "      <th>15</th>\n",
       "      <td>What Traders Are Saying About Bitcoin's Bigges...</td>\n",
       "      <td>Poor macroeconomic sentiment, fears of inflati...</td>\n",
       "      <td>https://finance.yahoo.com/news/traders-saying-...</td>\n",
       "    </tr>\n",
       "    <tr>\n",
       "      <th>16</th>\n",
       "      <td>Bitcoin (BTC) Fear &amp; Greed Index Leaves BTC at...</td>\n",
       "      <td>The Bitcoin Fear &amp; Greed Index rose modestly t...</td>\n",
       "      <td>https://finance.yahoo.com/news/bitcoin-btc-fea...</td>\n",
       "    </tr>\n",
       "    <tr>\n",
       "      <th>17</th>\n",
       "      <td>Crypto Market Daily Highlights – ADA, BTC, ETH...</td>\n",
       "      <td>It was a choppy Friday session, with the bitco...</td>\n",
       "      <td>https://finance.yahoo.com/news/crypto-market-d...</td>\n",
       "    </tr>\n",
       "    <tr>\n",
       "      <th>18</th>\n",
       "      <td>Crypto hedge fund Three Arrows files for Chapt...</td>\n",
       "      <td>Singapore-based 3AC is one of the highest-prof...</td>\n",
       "      <td>https://finance.yahoo.com/news/crypto-hedge-fu...</td>\n",
       "    </tr>\n",
       "    <tr>\n",
       "      <th>19</th>\n",
       "      <td>Crypto’s Brutal Week Ends With a Trading Halt ...</td>\n",
       "      <td>(Bloomberg) -- The meltdown in cryptocurrency ...</td>\n",
       "      <td>https://finance.yahoo.com/news/crypto-broker-v...</td>\n",
       "    </tr>\n",
       "  </tbody>\n",
       "</table>\n",
       "</div>"
      ],
      "text/plain": [
       "                                                TITLE  \\\n",
       "0   Central African Republic President: Crypto is ...   \n",
       "1   MEXC Global Now Accepts MasterCard and Visa fo...   \n",
       "2   Hard Times in Crypto: the Unintended Consequen...   \n",
       "3    EU Sets First Rules to Regulate Cryptocurrencies   \n",
       "4   How to Find a Crypto Exchange That's FDIC-Insured   \n",
       "5   Celsius Customers Are Losing Hope for Their Lo...   \n",
       "6   Bitcoin Fear & Greed Index Signals More Bitcoi...   \n",
       "7   Crypto Market Daily Highlights – BTC Extends L...   \n",
       "8   Meta’s Novi cryptocurrency wallet is shutting ...   \n",
       "9   Crypto’s Domino Effect Is Widening, Threatenin...   \n",
       "10  Crypto hedge fund Three Arrows files for U.S. ...   \n",
       "11  Celebrities Erase Their Crypto Ties As Crypto ...   \n",
       "12  Find a Financial Advisor Near You Who Understa...   \n",
       "13  Grayscale Offers a Giant Bitcoin Discount. It’...   \n",
       "14  Blockchain with 'Chinese characteristics' quie...   \n",
       "15  What Traders Are Saying About Bitcoin's Bigges...   \n",
       "16  Bitcoin (BTC) Fear & Greed Index Leaves BTC at...   \n",
       "17  Crypto Market Daily Highlights – ADA, BTC, ETH...   \n",
       "18  Crypto hedge fund Three Arrows files for Chapt...   \n",
       "19  Crypto’s Brutal Week Ends With a Trading Halt ...   \n",
       "\n",
       "                                              SUMMARY  \\\n",
       "0   Cryptocurrencies are the solution to tackling ...   \n",
       "1   In a press release, MEXC Global said they are ...   \n",
       "2   The third and final reflection on a series of ...   \n",
       "3   European Union officials agreed on rules that ...   \n",
       "4   One of the benefits of using cryptocurrency is...   \n",
       "5   It has been three weeks since crypto lender Ce...   \n",
       "6   The Bitcoin Fear & Greed Index failed to break...   \n",
       "7   Several cryptos saw their six-day losing strea...   \n",
       "8   Meta is shutting down Novi, its short-lived cr...   \n",
       "9   Losses in the digital-assets industry are blow...   \n",
       "10  Crypto hedge fund Three Arrows Capital has fil...   \n",
       "11  Celebrity endorsements have a long history, bu...   \n",
       "12  At the time of writing the cryptocurrency mark...   \n",
       "13  The fund has been tempting because it trades a...   \n",
       "14  The growth of China's blockchain market has ac...   \n",
       "15  Poor macroeconomic sentiment, fears of inflati...   \n",
       "16  The Bitcoin Fear & Greed Index rose modestly t...   \n",
       "17  It was a choppy Friday session, with the bitco...   \n",
       "18  Singapore-based 3AC is one of the highest-prof...   \n",
       "19  (Bloomberg) -- The meltdown in cryptocurrency ...   \n",
       "\n",
       "                                               SOURCE  \n",
       "0   https://finance.yahoo.com/news/central-african...  \n",
       "1   https://finance.yahoo.com/news/mexc-global-now...  \n",
       "2   https://finance.yahoo.com/news/hard-times-cryp...  \n",
       "3   https://finance.yahoo.com/m/9f6cc22d-3157-38f7...  \n",
       "4   https://finance.yahoo.com/news/crypto-exchange...  \n",
       "5   https://finance.yahoo.com/m/e574eb5b-39fd-3e44...  \n",
       "6   https://finance.yahoo.com/news/bitcoin-fear-gr...  \n",
       "7   https://finance.yahoo.com/news/crypto-market-d...  \n",
       "8   https://finance.yahoo.com/news/meta-novi-shutt...  \n",
       "9   https://finance.yahoo.com/m/ac3fee69-b438-3ff9...  \n",
       "10  https://finance.yahoo.com/m/b1d54f99-e49d-3cc3...  \n",
       "11  https://finance.yahoo.com/m/a24dcbcd-7d0a-3929...  \n",
       "12  https://finance.yahoo.com/news/financial-advis...  \n",
       "13  https://finance.yahoo.com/m/edd01da6-ce98-38c1...  \n",
       "14  https://finance.yahoo.com/news/blockchain-chin...  \n",
       "15  https://finance.yahoo.com/news/traders-saying-...  \n",
       "16  https://finance.yahoo.com/news/bitcoin-btc-fea...  \n",
       "17  https://finance.yahoo.com/news/crypto-market-d...  \n",
       "18  https://finance.yahoo.com/news/crypto-hedge-fu...  \n",
       "19  https://finance.yahoo.com/news/crypto-broker-v...  "
      ]
     },
     "execution_count": 39,
     "metadata": {},
     "output_type": "execute_result"
    }
   ],
   "source": [
    "driver = create_driver()\n",
    "df = get_basic_info(driver)\n",
    "df"
   ]
  },
  {
   "cell_type": "code",
   "execution_count": 50,
   "id": "8c2bc192",
   "metadata": {
    "hidden": true
   },
   "outputs": [],
   "source": [
    "driver = create_driver()\n",
    "driver.find_element(By.XPATH, '//*[@id=\"consent-page\"]/div/div/div/form/div[2]/div[2]/button[1]').click()\n",
    "driver.implicitly_wait(5)"
   ]
  },
  {
   "cell_type": "code",
   "execution_count": null,
   "id": "1b950764",
   "metadata": {
    "hidden": true
   },
   "outputs": [],
   "source": [
    "dates = []\n",
    "full_texts = []\n",
    "\n",
    "for title in titles:\n",
    "    article  = driver.find_element(By.LINK_TEXT, title).click()\n",
    "    dates.append(driver.find_element(By.TAG_NAME, 'time').get_attribute('datetime'))\n",
    "    full_texts.append(driver.find_element(By.CLASS_NAME, \"caas-body\").text)\n",
    "    driver.back()"
   ]
  },
  {
   "cell_type": "code",
   "execution_count": 52,
   "id": "d80afc3a",
   "metadata": {
    "hidden": true
   },
   "outputs": [],
   "source": [
    "driver.find_element(By.LINK_TEXT, 'Central African Republic President: Crypto is key to financial inclusion').click()"
   ]
  },
  {
   "cell_type": "code",
   "execution_count": 53,
   "id": "96acb31d",
   "metadata": {
    "hidden": true
   },
   "outputs": [
    {
     "data": {
      "text/plain": [
       "'Central African Republic President: Crypto is key to financial inclusion'"
      ]
     },
     "execution_count": 53,
     "metadata": {},
     "output_type": "execute_result"
    }
   ],
   "source": [
    "driver.title"
   ]
  },
  {
   "cell_type": "markdown",
   "id": "dfc53114",
   "metadata": {},
   "source": [
    "# Create function full_info()"
   ]
  },
  {
   "cell_type": "code",
   "execution_count": 73,
   "id": "666aad51",
   "metadata": {},
   "outputs": [],
   "source": [
    "driver = create_driver()\n",
    "driver.find_element(By.XPATH, '//*[@id=\"consent-page\"]/div/div/div/form/div[2]/div[2]/button[1]').click()\n",
    "driver.implicitly_wait(15)"
   ]
  },
  {
   "cell_type": "code",
   "execution_count": 74,
   "id": "ac7229c5",
   "metadata": {},
   "outputs": [],
   "source": [
    "articles = driver.find_elements(By.CLASS_NAME, 'Ov\\(h\\).Pend\\(44px\\).Pstart\\(25px\\)')\n",
    "titles = []\n",
    "summaries = []\n",
    "sources = []\n",
    "links = []\n",
    "dates = []\n",
    "full_texts = []\n",
    "\n",
    "for article in articles:\n",
    "    titles.append(article.find_element(By.TAG_NAME, \"a\").text)\n",
    "    summaries.append(article.find_element(By.TAG_NAME, \"p\").text)\n",
    "    sources.append(article.find_element(By.TAG_NAME, \"span\").text)\n",
    "    links.append(article.find_element(By.TAG_NAME, 'a').get_attribute('href'))"
   ]
  },
  {
   "cell_type": "code",
   "execution_count": 75,
   "id": "ce2ce96d",
   "metadata": {},
   "outputs": [
    {
     "name": "stdout",
     "output_type": "stream",
     "text": [
      "article 0 OK\n",
      "article 1 OK\n",
      "article 2 OK\n",
      "article 3 OK\n",
      "article 4 OK\n",
      "article 5 OK\n",
      "article 6 OK\n",
      "article 7 OK\n",
      "article 8 OK\n",
      "article 9 OK\n"
     ]
    }
   ],
   "source": [
    "for id, title in enumerate(titles):\n",
    "    article = driver.find_element(By.LINK_TEXT, title).click()\n",
    "    driver.implicitly_wait(2)\n",
    "    print(f\"article {id} OK\")\n",
    "    try:\n",
    "        driver.find_element(By.XPATH, '//article/div/div/div/div/div/div[2]/div[3]/div[2]/button').click()\n",
    "    except:\n",
    "        pass\n",
    "\n",
    "    dates.append(driver.find_element(By.TAG_NAME, 'time').get_attribute('datetime'))\n",
    "    full_texts.append(driver.find_element(By.CLASS_NAME, \"caas-body\").text)\n",
    "    driver.back()"
   ]
  },
  {
   "cell_type": "code",
   "execution_count": 76,
   "id": "711caf47",
   "metadata": {},
   "outputs": [
    {
     "data": {
      "text/plain": [
       "['2022-07-03T19:20:07.000Z',\n",
       " '2022-07-03T15:55:47.000Z',\n",
       " '2022-07-03T14:50:00.000Z',\n",
       " '2022-07-03T13:14:00.000Z',\n",
       " '2022-07-03T12:00:00.000Z',\n",
       " '2022-07-03T09:30:00.000Z',\n",
       " '2022-07-03T01:22:19.000Z',\n",
       " '2022-07-03T00:37:25.000Z',\n",
       " '2022-07-02T19:36:12.000Z',\n",
       " '2022-07-02T15:12:00.000Z']"
      ]
     },
     "execution_count": 76,
     "metadata": {},
     "output_type": "execute_result"
    }
   ],
   "source": [
    "dates"
   ]
  },
  {
   "cell_type": "code",
   "execution_count": 80,
   "id": "8b84b232",
   "metadata": {},
   "outputs": [
    {
     "name": "stdout",
     "output_type": "stream",
     "text": [
      "article 0 OK\n",
      "article 1 OK\n",
      "article 2 OK\n",
      "article 3 OK\n",
      "article 4 OK\n",
      "article 5 OK\n",
      "article 6 OK\n",
      "article 7 OK\n",
      "article 8 OK\n",
      "article 9 OK\n"
     ]
    }
   ],
   "source": [
    "driver = create_driver()\n",
    "driver.find_element(By.XPATH, '//*[@id=\"consent-page\"]/div/div/div/form/div[2]/div[2]/button[1]').click()\n",
    "driver.implicitly_wait(15)\n",
    "articles = driver.find_elements(By.CLASS_NAME, 'Ov\\(h\\).Pend\\(44px\\).Pstart\\(25px\\)')\n",
    "titles = []\n",
    "summaries = []\n",
    "sources = []\n",
    "links = []\n",
    "dates = []\n",
    "full_texts = []\n",
    "\n",
    "for article in articles:\n",
    "    titles.append(article.find_element(By.TAG_NAME, \"a\").text)\n",
    "    summaries.append(article.find_element(By.TAG_NAME, \"p\").text)\n",
    "    sources.append(article.find_element(By.TAG_NAME, \"span\").text)\n",
    "    links.append(article.find_element(By.TAG_NAME, 'a').get_attribute('href'))\n",
    "    \n",
    "for id, title in enumerate(titles):\n",
    "    article = driver.find_element(By.LINK_TEXT, title).click()\n",
    "    driver.implicitly_wait(2)\n",
    "    print(f\"article {id} OK\")\n",
    "    try:\n",
    "        driver.find_element(By.XPATH, '//article/div/div/div/div/div/div[2]/div[3]/div[2]/button').click()\n",
    "    except:\n",
    "        pass\n",
    "\n",
    "    dates.append(driver.find_element(By.TAG_NAME, 'time').get_attribute('datetime'))\n",
    "    full_texts.append(driver.find_element(By.CLASS_NAME, \"caas-body\").text)\n",
    "    driver.back()"
   ]
  },
  {
   "cell_type": "code",
   "execution_count": 84,
   "id": "3c3b06f8",
   "metadata": {},
   "outputs": [
    {
     "name": "stdout",
     "output_type": "stream",
     "text": [
      "article 0 OK\n",
      "article 1 OK\n",
      "article 2 OK\n",
      "article 3 OK\n",
      "article 4 OK\n",
      "article 5 OK\n",
      "article 6 OK\n",
      "article 7 OK\n",
      "article 8 OK\n",
      "article 9 OK\n"
     ]
    },
    {
     "data": {
      "text/html": [
       "<div>\n",
       "<style scoped>\n",
       "    .dataframe tbody tr th:only-of-type {\n",
       "        vertical-align: middle;\n",
       "    }\n",
       "\n",
       "    .dataframe tbody tr th {\n",
       "        vertical-align: top;\n",
       "    }\n",
       "\n",
       "    .dataframe thead th {\n",
       "        text-align: right;\n",
       "    }\n",
       "</style>\n",
       "<table border=\"1\" class=\"dataframe\">\n",
       "  <thead>\n",
       "    <tr style=\"text-align: right;\">\n",
       "      <th></th>\n",
       "      <th>TITLE</th>\n",
       "      <th>SUMMARY</th>\n",
       "      <th>SOURCE</th>\n",
       "      <th>LINK</th>\n",
       "      <th>DATE</th>\n",
       "      <th>FULL_TEXT</th>\n",
       "    </tr>\n",
       "  </thead>\n",
       "  <tbody>\n",
       "    <tr>\n",
       "      <th>0</th>\n",
       "      <td>Central African Republic President: Crypto is ...</td>\n",
       "      <td>Cryptocurrencies are the solution to tackling ...</td>\n",
       "      <td>Reuters</td>\n",
       "      <td>https://finance.yahoo.com/news/central-african...</td>\n",
       "      <td>2022-07-03T19:20:07.000Z</td>\n",
       "      <td>By Rachel Savage\\nLONDON (Reuters) - Cryptocur...</td>\n",
       "    </tr>\n",
       "    <tr>\n",
       "      <th>1</th>\n",
       "      <td>MEXC Global Now Accepts MasterCard and Visa fo...</td>\n",
       "      <td>In a press release, MEXC Global said they are ...</td>\n",
       "      <td>Coin Rivet</td>\n",
       "      <td>https://finance.yahoo.com/news/mexc-global-now...</td>\n",
       "      <td>2022-07-03T15:55:47.000Z</td>\n",
       "      <td>In a press release, MEXC Global said they are ...</td>\n",
       "    </tr>\n",
       "    <tr>\n",
       "      <th>2</th>\n",
       "      <td>Hard Times in Crypto: the Unintended Consequen...</td>\n",
       "      <td>The third and final reflection on a series of ...</td>\n",
       "      <td>CoinDesk</td>\n",
       "      <td>https://finance.yahoo.com/news/hard-times-cryp...</td>\n",
       "      <td>2022-07-03T14:50:00.000Z</td>\n",
       "      <td>Don't miss CoinDesk's Consensus 2022, the must...</td>\n",
       "    </tr>\n",
       "    <tr>\n",
       "      <th>3</th>\n",
       "      <td>EU Sets First Rules to Regulate Cryptocurrencies</td>\n",
       "      <td>European Union officials agreed on rules that ...</td>\n",
       "      <td>The Wall Street Journal</td>\n",
       "      <td>https://finance.yahoo.com/m/9f6cc22d-3157-38f7...</td>\n",
       "      <td>2022-07-03T13:14:00.000Z</td>\n",
       "      <td>European Union officials agreed on rules that ...</td>\n",
       "    </tr>\n",
       "    <tr>\n",
       "      <th>4</th>\n",
       "      <td>How to Find a Crypto Exchange That's FDIC-Insured</td>\n",
       "      <td>One of the benefits of using cryptocurrency is...</td>\n",
       "      <td>SmartAsset</td>\n",
       "      <td>https://finance.yahoo.com/news/crypto-exchange...</td>\n",
       "      <td>2022-07-03T12:00:00.000Z</td>\n",
       "      <td>fdic crypto exchanges\\nOne of the benefits of ...</td>\n",
       "    </tr>\n",
       "    <tr>\n",
       "      <th>5</th>\n",
       "      <td>Celsius Customers Are Losing Hope for Their Lo...</td>\n",
       "      <td>It has been three weeks since crypto lender Ce...</td>\n",
       "      <td>The Wall Street Journal</td>\n",
       "      <td>https://finance.yahoo.com/m/e574eb5b-39fd-3e44...</td>\n",
       "      <td>2022-07-03T09:30:00.000Z</td>\n",
       "      <td>It has been three weeks since crypto lender Ce...</td>\n",
       "    </tr>\n",
       "    <tr>\n",
       "      <th>6</th>\n",
       "      <td>Bitcoin Fear &amp; Greed Index Signals More Bitcoi...</td>\n",
       "      <td>The Bitcoin Fear &amp; Greed Index failed to break...</td>\n",
       "      <td>FX Empire</td>\n",
       "      <td>https://finance.yahoo.com/news/bitcoin-fear-gr...</td>\n",
       "      <td>2022-07-03T01:22:19.000Z</td>\n",
       "      <td>Key Insights:\\nOn Saturday, bitcoin (BTC) slip...</td>\n",
       "    </tr>\n",
       "    <tr>\n",
       "      <th>7</th>\n",
       "      <td>Crypto Market Daily Highlights – BTC Extends L...</td>\n",
       "      <td>Several cryptos saw their six-day losing strea...</td>\n",
       "      <td>FX Empire</td>\n",
       "      <td>https://finance.yahoo.com/news/crypto-market-d...</td>\n",
       "      <td>2022-07-03T00:37:25.000Z</td>\n",
       "      <td>Key Insights:\\nIt was a mixed Saturday session...</td>\n",
       "    </tr>\n",
       "    <tr>\n",
       "      <th>8</th>\n",
       "      <td>Meta’s Novi cryptocurrency wallet is shutting ...</td>\n",
       "      <td>Meta is shutting down Novi, its short-lived cr...</td>\n",
       "      <td>Engadget</td>\n",
       "      <td>https://finance.yahoo.com/news/meta-novi-shutt...</td>\n",
       "      <td>2022-07-02T19:36:12.000Z</td>\n",
       "      <td>Meta is shutting down Novi, its short-lived cr...</td>\n",
       "    </tr>\n",
       "    <tr>\n",
       "      <th>9</th>\n",
       "      <td>Crypto’s Domino Effect Is Widening, Threatenin...</td>\n",
       "      <td>Losses in the digital-assets industry are blow...</td>\n",
       "      <td>The Wall Street Journal</td>\n",
       "      <td>https://finance.yahoo.com/m/ac3fee69-b438-3ff9...</td>\n",
       "      <td>2022-07-02T15:12:00.000Z</td>\n",
       "      <td>Losses in the digital-assets industry are blow...</td>\n",
       "    </tr>\n",
       "  </tbody>\n",
       "</table>\n",
       "</div>"
      ],
      "text/plain": [
       "                                               TITLE  \\\n",
       "0  Central African Republic President: Crypto is ...   \n",
       "1  MEXC Global Now Accepts MasterCard and Visa fo...   \n",
       "2  Hard Times in Crypto: the Unintended Consequen...   \n",
       "3   EU Sets First Rules to Regulate Cryptocurrencies   \n",
       "4  How to Find a Crypto Exchange That's FDIC-Insured   \n",
       "5  Celsius Customers Are Losing Hope for Their Lo...   \n",
       "6  Bitcoin Fear & Greed Index Signals More Bitcoi...   \n",
       "7  Crypto Market Daily Highlights – BTC Extends L...   \n",
       "8  Meta’s Novi cryptocurrency wallet is shutting ...   \n",
       "9  Crypto’s Domino Effect Is Widening, Threatenin...   \n",
       "\n",
       "                                             SUMMARY                   SOURCE  \\\n",
       "0  Cryptocurrencies are the solution to tackling ...                  Reuters   \n",
       "1  In a press release, MEXC Global said they are ...               Coin Rivet   \n",
       "2  The third and final reflection on a series of ...                 CoinDesk   \n",
       "3  European Union officials agreed on rules that ...  The Wall Street Journal   \n",
       "4  One of the benefits of using cryptocurrency is...               SmartAsset   \n",
       "5  It has been three weeks since crypto lender Ce...  The Wall Street Journal   \n",
       "6  The Bitcoin Fear & Greed Index failed to break...                FX Empire   \n",
       "7  Several cryptos saw their six-day losing strea...                FX Empire   \n",
       "8  Meta is shutting down Novi, its short-lived cr...                 Engadget   \n",
       "9  Losses in the digital-assets industry are blow...  The Wall Street Journal   \n",
       "\n",
       "                                                LINK  \\\n",
       "0  https://finance.yahoo.com/news/central-african...   \n",
       "1  https://finance.yahoo.com/news/mexc-global-now...   \n",
       "2  https://finance.yahoo.com/news/hard-times-cryp...   \n",
       "3  https://finance.yahoo.com/m/9f6cc22d-3157-38f7...   \n",
       "4  https://finance.yahoo.com/news/crypto-exchange...   \n",
       "5  https://finance.yahoo.com/m/e574eb5b-39fd-3e44...   \n",
       "6  https://finance.yahoo.com/news/bitcoin-fear-gr...   \n",
       "7  https://finance.yahoo.com/news/crypto-market-d...   \n",
       "8  https://finance.yahoo.com/news/meta-novi-shutt...   \n",
       "9  https://finance.yahoo.com/m/ac3fee69-b438-3ff9...   \n",
       "\n",
       "                       DATE                                          FULL_TEXT  \n",
       "0  2022-07-03T19:20:07.000Z  By Rachel Savage\\nLONDON (Reuters) - Cryptocur...  \n",
       "1  2022-07-03T15:55:47.000Z  In a press release, MEXC Global said they are ...  \n",
       "2  2022-07-03T14:50:00.000Z  Don't miss CoinDesk's Consensus 2022, the must...  \n",
       "3  2022-07-03T13:14:00.000Z  European Union officials agreed on rules that ...  \n",
       "4  2022-07-03T12:00:00.000Z  fdic crypto exchanges\\nOne of the benefits of ...  \n",
       "5  2022-07-03T09:30:00.000Z  It has been three weeks since crypto lender Ce...  \n",
       "6  2022-07-03T01:22:19.000Z  Key Insights:\\nOn Saturday, bitcoin (BTC) slip...  \n",
       "7  2022-07-03T00:37:25.000Z  Key Insights:\\nIt was a mixed Saturday session...  \n",
       "8  2022-07-02T19:36:12.000Z  Meta is shutting down Novi, its short-lived cr...  \n",
       "9  2022-07-02T15:12:00.000Z  Losses in the digital-assets industry are blow...  "
      ]
     },
     "execution_count": 84,
     "metadata": {},
     "output_type": "execute_result"
    }
   ],
   "source": [
    "get_more_info()"
   ]
  },
  {
   "cell_type": "markdown",
   "id": "f5cc32d3",
   "metadata": {},
   "source": [
    "# Try to load more articles"
   ]
  },
  {
   "cell_type": "code",
   "execution_count": 87,
   "id": "1f2d861c",
   "metadata": {},
   "outputs": [
    {
     "data": {
      "text/html": [
       "<div>\n",
       "<style scoped>\n",
       "    .dataframe tbody tr th:only-of-type {\n",
       "        vertical-align: middle;\n",
       "    }\n",
       "\n",
       "    .dataframe tbody tr th {\n",
       "        vertical-align: top;\n",
       "    }\n",
       "\n",
       "    .dataframe thead th {\n",
       "        text-align: right;\n",
       "    }\n",
       "</style>\n",
       "<table border=\"1\" class=\"dataframe\">\n",
       "  <thead>\n",
       "    <tr style=\"text-align: right;\">\n",
       "      <th></th>\n",
       "      <th>TITLE</th>\n",
       "      <th>SUMMARY</th>\n",
       "      <th>SOURCE</th>\n",
       "      <th>LINK</th>\n",
       "    </tr>\n",
       "  </thead>\n",
       "  <tbody>\n",
       "    <tr>\n",
       "      <th>0</th>\n",
       "      <td>Central African Republic President: Crypto is ...</td>\n",
       "      <td>Cryptocurrencies are the solution to tackling ...</td>\n",
       "      <td>Reuters</td>\n",
       "      <td>https://finance.yahoo.com/news/central-african...</td>\n",
       "    </tr>\n",
       "    <tr>\n",
       "      <th>1</th>\n",
       "      <td>MEXC Global Now Accepts MasterCard and Visa fo...</td>\n",
       "      <td>In a press release, MEXC Global said they are ...</td>\n",
       "      <td>Coin Rivet</td>\n",
       "      <td>https://finance.yahoo.com/news/mexc-global-now...</td>\n",
       "    </tr>\n",
       "    <tr>\n",
       "      <th>2</th>\n",
       "      <td>Hard Times in Crypto: the Unintended Consequen...</td>\n",
       "      <td>The third and final reflection on a series of ...</td>\n",
       "      <td>CoinDesk</td>\n",
       "      <td>https://finance.yahoo.com/news/hard-times-cryp...</td>\n",
       "    </tr>\n",
       "    <tr>\n",
       "      <th>3</th>\n",
       "      <td>EU Sets First Rules to Regulate Cryptocurrencies</td>\n",
       "      <td>European Union officials agreed on rules that ...</td>\n",
       "      <td>The Wall Street Journal</td>\n",
       "      <td>https://finance.yahoo.com/m/9f6cc22d-3157-38f7...</td>\n",
       "    </tr>\n",
       "    <tr>\n",
       "      <th>4</th>\n",
       "      <td>How to Find a Crypto Exchange That's FDIC-Insured</td>\n",
       "      <td>One of the benefits of using cryptocurrency is...</td>\n",
       "      <td>SmartAsset</td>\n",
       "      <td>https://finance.yahoo.com/news/crypto-exchange...</td>\n",
       "    </tr>\n",
       "    <tr>\n",
       "      <th>5</th>\n",
       "      <td>Celsius Customers Are Losing Hope for Their Lo...</td>\n",
       "      <td>It has been three weeks since crypto lender Ce...</td>\n",
       "      <td>The Wall Street Journal</td>\n",
       "      <td>https://finance.yahoo.com/m/e574eb5b-39fd-3e44...</td>\n",
       "    </tr>\n",
       "    <tr>\n",
       "      <th>6</th>\n",
       "      <td>Bitcoin Fear &amp; Greed Index Signals More Bitcoi...</td>\n",
       "      <td>The Bitcoin Fear &amp; Greed Index failed to break...</td>\n",
       "      <td>FX Empire</td>\n",
       "      <td>https://finance.yahoo.com/news/bitcoin-fear-gr...</td>\n",
       "    </tr>\n",
       "    <tr>\n",
       "      <th>7</th>\n",
       "      <td>Crypto Market Daily Highlights – BTC Extends L...</td>\n",
       "      <td>Several cryptos saw their six-day losing strea...</td>\n",
       "      <td>FX Empire</td>\n",
       "      <td>https://finance.yahoo.com/news/crypto-market-d...</td>\n",
       "    </tr>\n",
       "    <tr>\n",
       "      <th>8</th>\n",
       "      <td>Meta’s Novi cryptocurrency wallet is shutting ...</td>\n",
       "      <td>Meta is shutting down Novi, its short-lived cr...</td>\n",
       "      <td>Engadget</td>\n",
       "      <td>https://finance.yahoo.com/news/meta-novi-shutt...</td>\n",
       "    </tr>\n",
       "    <tr>\n",
       "      <th>9</th>\n",
       "      <td>Crypto’s Domino Effect Is Widening, Threatenin...</td>\n",
       "      <td>Losses in the digital-assets industry are blow...</td>\n",
       "      <td>The Wall Street Journal</td>\n",
       "      <td>https://finance.yahoo.com/m/ac3fee69-b438-3ff9...</td>\n",
       "    </tr>\n",
       "    <tr>\n",
       "      <th>10</th>\n",
       "      <td>Crypto hedge fund Three Arrows files for U.S. ...</td>\n",
       "      <td>Crypto hedge fund Three Arrows Capital has fil...</td>\n",
       "      <td>MarketWatch</td>\n",
       "      <td>https://finance.yahoo.com/m/b1d54f99-e49d-3cc3...</td>\n",
       "    </tr>\n",
       "    <tr>\n",
       "      <th>11</th>\n",
       "      <td>Celebrities Erase Their Crypto Ties As Crypto ...</td>\n",
       "      <td>Celebrity endorsements have a long history, bu...</td>\n",
       "      <td>TheStreet.com</td>\n",
       "      <td>https://finance.yahoo.com/m/a24dcbcd-7d0a-3929...</td>\n",
       "    </tr>\n",
       "    <tr>\n",
       "      <th>12</th>\n",
       "      <td>Find a Financial Advisor Near You Who Understa...</td>\n",
       "      <td>At the time of writing the cryptocurrency mark...</td>\n",
       "      <td>SmartAsset</td>\n",
       "      <td>https://finance.yahoo.com/news/financial-advis...</td>\n",
       "    </tr>\n",
       "    <tr>\n",
       "      <th>13</th>\n",
       "      <td>Grayscale Offers a Giant Bitcoin Discount. It’...</td>\n",
       "      <td>The fund has been tempting because it trades a...</td>\n",
       "      <td>Barrons.com</td>\n",
       "      <td>https://finance.yahoo.com/m/edd01da6-ce98-38c1...</td>\n",
       "    </tr>\n",
       "    <tr>\n",
       "      <th>14</th>\n",
       "      <td>Blockchain with 'Chinese characteristics' quie...</td>\n",
       "      <td>The growth of China's blockchain market has ac...</td>\n",
       "      <td>South China Morning Post</td>\n",
       "      <td>https://finance.yahoo.com/news/blockchain-chin...</td>\n",
       "    </tr>\n",
       "    <tr>\n",
       "      <th>15</th>\n",
       "      <td>What Traders Are Saying About Bitcoin's Bigges...</td>\n",
       "      <td>Poor macroeconomic sentiment, fears of inflati...</td>\n",
       "      <td>CoinDesk</td>\n",
       "      <td>https://finance.yahoo.com/news/traders-saying-...</td>\n",
       "    </tr>\n",
       "    <tr>\n",
       "      <th>16</th>\n",
       "      <td>Bitcoin (BTC) Fear &amp; Greed Index Leaves BTC at...</td>\n",
       "      <td>The Bitcoin Fear &amp; Greed Index rose modestly t...</td>\n",
       "      <td>FX Empire</td>\n",
       "      <td>https://finance.yahoo.com/news/bitcoin-btc-fea...</td>\n",
       "    </tr>\n",
       "    <tr>\n",
       "      <th>17</th>\n",
       "      <td>Crypto Market Daily Highlights – ADA, BTC, ETH...</td>\n",
       "      <td>It was a choppy Friday session, with the bitco...</td>\n",
       "      <td>FX Empire</td>\n",
       "      <td>https://finance.yahoo.com/news/crypto-market-d...</td>\n",
       "    </tr>\n",
       "    <tr>\n",
       "      <th>18</th>\n",
       "      <td>Crypto hedge fund Three Arrows files for Chapt...</td>\n",
       "      <td>Singapore-based 3AC is one of the highest-prof...</td>\n",
       "      <td>Reuters</td>\n",
       "      <td>https://finance.yahoo.com/news/crypto-hedge-fu...</td>\n",
       "    </tr>\n",
       "    <tr>\n",
       "      <th>19</th>\n",
       "      <td>Crypto’s Brutal Week Ends With a Trading Halt ...</td>\n",
       "      <td>(Bloomberg) -- The meltdown in cryptocurrency ...</td>\n",
       "      <td>Bloomberg</td>\n",
       "      <td>https://finance.yahoo.com/news/crypto-broker-v...</td>\n",
       "    </tr>\n",
       "  </tbody>\n",
       "</table>\n",
       "</div>"
      ],
      "text/plain": [
       "                                                TITLE  \\\n",
       "0   Central African Republic President: Crypto is ...   \n",
       "1   MEXC Global Now Accepts MasterCard and Visa fo...   \n",
       "2   Hard Times in Crypto: the Unintended Consequen...   \n",
       "3    EU Sets First Rules to Regulate Cryptocurrencies   \n",
       "4   How to Find a Crypto Exchange That's FDIC-Insured   \n",
       "5   Celsius Customers Are Losing Hope for Their Lo...   \n",
       "6   Bitcoin Fear & Greed Index Signals More Bitcoi...   \n",
       "7   Crypto Market Daily Highlights – BTC Extends L...   \n",
       "8   Meta’s Novi cryptocurrency wallet is shutting ...   \n",
       "9   Crypto’s Domino Effect Is Widening, Threatenin...   \n",
       "10  Crypto hedge fund Three Arrows files for U.S. ...   \n",
       "11  Celebrities Erase Their Crypto Ties As Crypto ...   \n",
       "12  Find a Financial Advisor Near You Who Understa...   \n",
       "13  Grayscale Offers a Giant Bitcoin Discount. It’...   \n",
       "14  Blockchain with 'Chinese characteristics' quie...   \n",
       "15  What Traders Are Saying About Bitcoin's Bigges...   \n",
       "16  Bitcoin (BTC) Fear & Greed Index Leaves BTC at...   \n",
       "17  Crypto Market Daily Highlights – ADA, BTC, ETH...   \n",
       "18  Crypto hedge fund Three Arrows files for Chapt...   \n",
       "19  Crypto’s Brutal Week Ends With a Trading Halt ...   \n",
       "\n",
       "                                              SUMMARY  \\\n",
       "0   Cryptocurrencies are the solution to tackling ...   \n",
       "1   In a press release, MEXC Global said they are ...   \n",
       "2   The third and final reflection on a series of ...   \n",
       "3   European Union officials agreed on rules that ...   \n",
       "4   One of the benefits of using cryptocurrency is...   \n",
       "5   It has been three weeks since crypto lender Ce...   \n",
       "6   The Bitcoin Fear & Greed Index failed to break...   \n",
       "7   Several cryptos saw their six-day losing strea...   \n",
       "8   Meta is shutting down Novi, its short-lived cr...   \n",
       "9   Losses in the digital-assets industry are blow...   \n",
       "10  Crypto hedge fund Three Arrows Capital has fil...   \n",
       "11  Celebrity endorsements have a long history, bu...   \n",
       "12  At the time of writing the cryptocurrency mark...   \n",
       "13  The fund has been tempting because it trades a...   \n",
       "14  The growth of China's blockchain market has ac...   \n",
       "15  Poor macroeconomic sentiment, fears of inflati...   \n",
       "16  The Bitcoin Fear & Greed Index rose modestly t...   \n",
       "17  It was a choppy Friday session, with the bitco...   \n",
       "18  Singapore-based 3AC is one of the highest-prof...   \n",
       "19  (Bloomberg) -- The meltdown in cryptocurrency ...   \n",
       "\n",
       "                      SOURCE  \\\n",
       "0                    Reuters   \n",
       "1                 Coin Rivet   \n",
       "2                   CoinDesk   \n",
       "3    The Wall Street Journal   \n",
       "4                 SmartAsset   \n",
       "5    The Wall Street Journal   \n",
       "6                  FX Empire   \n",
       "7                  FX Empire   \n",
       "8                   Engadget   \n",
       "9    The Wall Street Journal   \n",
       "10               MarketWatch   \n",
       "11             TheStreet.com   \n",
       "12                SmartAsset   \n",
       "13               Barrons.com   \n",
       "14  South China Morning Post   \n",
       "15                  CoinDesk   \n",
       "16                 FX Empire   \n",
       "17                 FX Empire   \n",
       "18                   Reuters   \n",
       "19                 Bloomberg   \n",
       "\n",
       "                                                 LINK  \n",
       "0   https://finance.yahoo.com/news/central-african...  \n",
       "1   https://finance.yahoo.com/news/mexc-global-now...  \n",
       "2   https://finance.yahoo.com/news/hard-times-cryp...  \n",
       "3   https://finance.yahoo.com/m/9f6cc22d-3157-38f7...  \n",
       "4   https://finance.yahoo.com/news/crypto-exchange...  \n",
       "5   https://finance.yahoo.com/m/e574eb5b-39fd-3e44...  \n",
       "6   https://finance.yahoo.com/news/bitcoin-fear-gr...  \n",
       "7   https://finance.yahoo.com/news/crypto-market-d...  \n",
       "8   https://finance.yahoo.com/news/meta-novi-shutt...  \n",
       "9   https://finance.yahoo.com/m/ac3fee69-b438-3ff9...  \n",
       "10  https://finance.yahoo.com/m/b1d54f99-e49d-3cc3...  \n",
       "11  https://finance.yahoo.com/m/a24dcbcd-7d0a-3929...  \n",
       "12  https://finance.yahoo.com/news/financial-advis...  \n",
       "13  https://finance.yahoo.com/m/edd01da6-ce98-38c1...  \n",
       "14  https://finance.yahoo.com/news/blockchain-chin...  \n",
       "15  https://finance.yahoo.com/news/traders-saying-...  \n",
       "16  https://finance.yahoo.com/news/bitcoin-btc-fea...  \n",
       "17  https://finance.yahoo.com/news/crypto-market-d...  \n",
       "18  https://finance.yahoo.com/news/crypto-hedge-fu...  \n",
       "19  https://finance.yahoo.com/news/crypto-broker-v...  "
      ]
     },
     "execution_count": 87,
     "metadata": {},
     "output_type": "execute_result"
    }
   ],
   "source": [
    "driver = create_driver()\n",
    "get_basic_info(driver)"
   ]
  },
  {
   "cell_type": "code",
   "execution_count": 93,
   "id": "32622712",
   "metadata": {},
   "outputs": [
    {
     "name": "stdout",
     "output_type": "stream",
     "text": [
      "article 0 OK\n",
      "article 1 OK\n",
      "article 2 OK\n"
     ]
    },
    {
     "data": {
      "text/html": [
       "<div>\n",
       "<style scoped>\n",
       "    .dataframe tbody tr th:only-of-type {\n",
       "        vertical-align: middle;\n",
       "    }\n",
       "\n",
       "    .dataframe tbody tr th {\n",
       "        vertical-align: top;\n",
       "    }\n",
       "\n",
       "    .dataframe thead th {\n",
       "        text-align: right;\n",
       "    }\n",
       "</style>\n",
       "<table border=\"1\" class=\"dataframe\">\n",
       "  <thead>\n",
       "    <tr style=\"text-align: right;\">\n",
       "      <th></th>\n",
       "      <th>TITLE</th>\n",
       "      <th>SUMMARY</th>\n",
       "      <th>SOURCE</th>\n",
       "      <th>LINK</th>\n",
       "      <th>DATE</th>\n",
       "      <th>FULL_TEXT</th>\n",
       "    </tr>\n",
       "  </thead>\n",
       "  <tbody>\n",
       "    <tr>\n",
       "      <th>0</th>\n",
       "      <td>British army Twitter and YouTube accounts comp...</td>\n",
       "      <td>The British army is investigating an apparent ...</td>\n",
       "      <td>Engadget</td>\n",
       "      <td>https://finance.yahoo.com/news/british-army-yo...</td>\n",
       "      <td>2022-07-03T20:25:53.000Z</td>\n",
       "      <td>The British army is investigating an apparent ...</td>\n",
       "    </tr>\n",
       "    <tr>\n",
       "      <th>1</th>\n",
       "      <td>Central African Republic President: Crypto is ...</td>\n",
       "      <td>Cryptocurrencies are the solution to tackling ...</td>\n",
       "      <td>Reuters</td>\n",
       "      <td>https://finance.yahoo.com/news/central-african...</td>\n",
       "      <td>2022-07-03T19:20:07.000Z</td>\n",
       "      <td>By Rachel Savage\\nLONDON (Reuters) - Cryptocur...</td>\n",
       "    </tr>\n",
       "    <tr>\n",
       "      <th>2</th>\n",
       "      <td>MEXC Global Now Accepts MasterCard and Visa fo...</td>\n",
       "      <td>In a press release, MEXC Global said they are ...</td>\n",
       "      <td>Coin Rivet</td>\n",
       "      <td>https://finance.yahoo.com/news/mexc-global-now...</td>\n",
       "      <td>2022-07-03T15:55:47.000Z</td>\n",
       "      <td>In a press release, MEXC Global said they are ...</td>\n",
       "    </tr>\n",
       "  </tbody>\n",
       "</table>\n",
       "</div>"
      ],
      "text/plain": [
       "                                               TITLE  \\\n",
       "0  British army Twitter and YouTube accounts comp...   \n",
       "1  Central African Republic President: Crypto is ...   \n",
       "2  MEXC Global Now Accepts MasterCard and Visa fo...   \n",
       "\n",
       "                                             SUMMARY      SOURCE  \\\n",
       "0  The British army is investigating an apparent ...    Engadget   \n",
       "1  Cryptocurrencies are the solution to tackling ...     Reuters   \n",
       "2  In a press release, MEXC Global said they are ...  Coin Rivet   \n",
       "\n",
       "                                                LINK  \\\n",
       "0  https://finance.yahoo.com/news/british-army-yo...   \n",
       "1  https://finance.yahoo.com/news/central-african...   \n",
       "2  https://finance.yahoo.com/news/mexc-global-now...   \n",
       "\n",
       "                       DATE                                          FULL_TEXT  \n",
       "0  2022-07-03T20:25:53.000Z  The British army is investigating an apparent ...  \n",
       "1  2022-07-03T19:20:07.000Z  By Rachel Savage\\nLONDON (Reuters) - Cryptocur...  \n",
       "2  2022-07-03T15:55:47.000Z  In a press release, MEXC Global said they are ...  "
      ]
     },
     "execution_count": 93,
     "metadata": {},
     "output_type": "execute_result"
    }
   ],
   "source": [
    "driver = create_driver()\n",
    "get_more_info(driver)"
   ]
  },
  {
   "cell_type": "code",
   "execution_count": null,
   "id": "7caddb9d",
   "metadata": {},
   "outputs": [],
   "source": []
  }
 ],
 "metadata": {
  "kernelspec": {
   "display_name": "Python 3 (ipykernel)",
   "language": "python",
   "name": "python3"
  },
  "language_info": {
   "codemirror_mode": {
    "name": "ipython",
    "version": 3
   },
   "file_extension": ".py",
   "mimetype": "text/x-python",
   "name": "python",
   "nbconvert_exporter": "python",
   "pygments_lexer": "ipython3",
   "version": "3.8.12"
  },
  "toc": {
   "base_numbering": 1,
   "nav_menu": {},
   "number_sections": true,
   "sideBar": true,
   "skip_h1_title": false,
   "title_cell": "Table of Contents",
   "title_sidebar": "Contents",
   "toc_cell": false,
   "toc_position": {},
   "toc_section_display": true,
   "toc_window_display": false
  }
 },
 "nbformat": 4,
 "nbformat_minor": 5
}
